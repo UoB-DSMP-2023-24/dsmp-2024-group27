{
 "cells": [
  {
   "cell_type": "code",
   "execution_count": 86,
   "id": "3bf75c99",
   "metadata": {},
   "outputs": [],
   "source": [
    "import pandas as pd\n",
    "import numpy as np\n",
    "from sklearn.ensemble import IsolationForest\n",
    "import matplotlib.pyplot as plt"
   ]
  },
  {
   "cell_type": "code",
   "execution_count": 21,
   "id": "e8980fee",
   "metadata": {},
   "outputs": [],
   "source": [
    "biz_df = pd.read_csv(\"C:/Users/Diya/OneDrive/Desktop/Mini Project/Datasets/fake_transactional_data_24.csv\")"
   ]
  },
  {
   "cell_type": "code",
   "execution_count": 22,
   "id": "0a4c1170",
   "metadata": {},
   "outputs": [
    {
     "data": {
      "text/html": [
       "<div>\n",
       "<style scoped>\n",
       "    .dataframe tbody tr th:only-of-type {\n",
       "        vertical-align: middle;\n",
       "    }\n",
       "\n",
       "    .dataframe tbody tr th {\n",
       "        vertical-align: top;\n",
       "    }\n",
       "\n",
       "    .dataframe thead th {\n",
       "        text-align: right;\n",
       "    }\n",
       "</style>\n",
       "<table border=\"1\" class=\"dataframe\">\n",
       "  <thead>\n",
       "    <tr style=\"text-align: right;\">\n",
       "      <th></th>\n",
       "      <th>from_totally_fake_account</th>\n",
       "      <th>monopoly_money_amount</th>\n",
       "      <th>to_randomly_generated_account</th>\n",
       "      <th>not_happened_yet_date</th>\n",
       "    </tr>\n",
       "  </thead>\n",
       "  <tbody>\n",
       "    <tr>\n",
       "      <th>0</th>\n",
       "      <td>10371.0</td>\n",
       "      <td>4.00</td>\n",
       "      <td>CINEMA</td>\n",
       "      <td>01/01/2025</td>\n",
       "    </tr>\n",
       "    <tr>\n",
       "      <th>1</th>\n",
       "      <td>88339.0</td>\n",
       "      <td>2.40</td>\n",
       "      <td>40544</td>\n",
       "      <td>01/01/2025</td>\n",
       "    </tr>\n",
       "    <tr>\n",
       "      <th>2</th>\n",
       "      <td>18555.0</td>\n",
       "      <td>2.40</td>\n",
       "      <td>85149</td>\n",
       "      <td>01/01/2025</td>\n",
       "    </tr>\n",
       "    <tr>\n",
       "      <th>3</th>\n",
       "      <td>18555.0</td>\n",
       "      <td>4.10</td>\n",
       "      <td>HIPSTER_COFFEE_SHOP</td>\n",
       "      <td>01/01/2025</td>\n",
       "    </tr>\n",
       "    <tr>\n",
       "      <th>4</th>\n",
       "      <td>80792.0</td>\n",
       "      <td>1.95</td>\n",
       "      <td>18555</td>\n",
       "      <td>01/01/2025</td>\n",
       "    </tr>\n",
       "    <tr>\n",
       "      <th>5</th>\n",
       "      <td>18555.0</td>\n",
       "      <td>4.45</td>\n",
       "      <td>TOTALLY_A_REAL_COFFEE_SHOP</td>\n",
       "      <td>01/01/2025</td>\n",
       "    </tr>\n",
       "  </tbody>\n",
       "</table>\n",
       "</div>"
      ],
      "text/plain": [
       "   from_totally_fake_account  monopoly_money_amount  \\\n",
       "0                    10371.0                   4.00   \n",
       "1                    88339.0                   2.40   \n",
       "2                    18555.0                   2.40   \n",
       "3                    18555.0                   4.10   \n",
       "4                    80792.0                   1.95   \n",
       "5                    18555.0                   4.45   \n",
       "\n",
       "  to_randomly_generated_account not_happened_yet_date  \n",
       "0                        CINEMA            01/01/2025  \n",
       "1                         40544            01/01/2025  \n",
       "2                         85149            01/01/2025  \n",
       "3           HIPSTER_COFFEE_SHOP            01/01/2025  \n",
       "4                         18555            01/01/2025  \n",
       "5    TOTALLY_A_REAL_COFFEE_SHOP            01/01/2025  "
      ]
     },
     "execution_count": 22,
     "metadata": {},
     "output_type": "execute_result"
    }
   ],
   "source": [
    "biz_df.head(6)"
   ]
  },
  {
   "cell_type": "code",
   "execution_count": 23,
   "id": "ec741323",
   "metadata": {},
   "outputs": [
    {
     "name": "stdout",
     "output_type": "stream",
     "text": [
      "<class 'pandas.core.frame.DataFrame'>\n",
      "RangeIndex: 10148280 entries, 0 to 10148279\n",
      "Data columns (total 4 columns):\n",
      " #   Column                         Dtype  \n",
      "---  ------                         -----  \n",
      " 0   from_totally_fake_account      float64\n",
      " 1   monopoly_money_amount          float64\n",
      " 2   to_randomly_generated_account  object \n",
      " 3   not_happened_yet_date          object \n",
      "dtypes: float64(2), object(2)\n",
      "memory usage: 309.7+ MB\n"
     ]
    }
   ],
   "source": [
    "biz_df.info()"
   ]
  },
  {
   "cell_type": "code",
   "execution_count": 24,
   "id": "2acb44bf",
   "metadata": {},
   "outputs": [],
   "source": [
    "# Filter to include only business transactions\n",
    "is_business_transaction = biz_df['to_randomly_generated_account'].apply(lambda x: not x.isnumeric())\n",
    "business_transactions = biz_df[is_business_transaction]\n",
    "\n",
    "# Create a new DataFrame\n",
    "business_df = business_transactions[['to_randomly_generated_account', 'monopoly_money_amount', 'not_happened_yet_date']]\n",
    "business_df.columns = ['Business_Name', 'Amount_Received', 'Date']"
   ]
  },
  {
   "cell_type": "code",
   "execution_count": 25,
   "id": "c68e3200",
   "metadata": {},
   "outputs": [
    {
     "data": {
      "text/html": [
       "<div>\n",
       "<style scoped>\n",
       "    .dataframe tbody tr th:only-of-type {\n",
       "        vertical-align: middle;\n",
       "    }\n",
       "\n",
       "    .dataframe tbody tr th {\n",
       "        vertical-align: top;\n",
       "    }\n",
       "\n",
       "    .dataframe thead th {\n",
       "        text-align: right;\n",
       "    }\n",
       "</style>\n",
       "<table border=\"1\" class=\"dataframe\">\n",
       "  <thead>\n",
       "    <tr style=\"text-align: right;\">\n",
       "      <th></th>\n",
       "      <th>Business_Name</th>\n",
       "      <th>Amount_Received</th>\n",
       "      <th>Date</th>\n",
       "    </tr>\n",
       "  </thead>\n",
       "  <tbody>\n",
       "    <tr>\n",
       "      <th>0</th>\n",
       "      <td>CINEMA</td>\n",
       "      <td>4.00</td>\n",
       "      <td>01/01/2025</td>\n",
       "    </tr>\n",
       "    <tr>\n",
       "      <th>3</th>\n",
       "      <td>HIPSTER_COFFEE_SHOP</td>\n",
       "      <td>4.10</td>\n",
       "      <td>01/01/2025</td>\n",
       "    </tr>\n",
       "    <tr>\n",
       "      <th>5</th>\n",
       "      <td>TOTALLY_A_REAL_COFFEE_SHOP</td>\n",
       "      <td>4.45</td>\n",
       "      <td>01/01/2025</td>\n",
       "    </tr>\n",
       "    <tr>\n",
       "      <th>6</th>\n",
       "      <td>COFFEE_SHOP</td>\n",
       "      <td>1.45</td>\n",
       "      <td>01/01/2025</td>\n",
       "    </tr>\n",
       "    <tr>\n",
       "      <th>7</th>\n",
       "      <td>CAFE</td>\n",
       "      <td>5.00</td>\n",
       "      <td>01/01/2025</td>\n",
       "    </tr>\n",
       "  </tbody>\n",
       "</table>\n",
       "</div>"
      ],
      "text/plain": [
       "                Business_Name  Amount_Received        Date\n",
       "0                      CINEMA             4.00  01/01/2025\n",
       "3         HIPSTER_COFFEE_SHOP             4.10  01/01/2025\n",
       "5  TOTALLY_A_REAL_COFFEE_SHOP             4.45  01/01/2025\n",
       "6                 COFFEE_SHOP             1.45  01/01/2025\n",
       "7                        CAFE             5.00  01/01/2025"
      ]
     },
     "execution_count": 25,
     "metadata": {},
     "output_type": "execute_result"
    }
   ],
   "source": [
    "business_df.head()"
   ]
  },
  {
   "cell_type": "code",
   "execution_count": 26,
   "id": "3635c5b4",
   "metadata": {},
   "outputs": [],
   "source": [
    "#Aggregate transactions\n",
    "business_df = business_df.groupby(['Business_Name', 'Date']).sum().reset_index()"
   ]
  },
  {
   "cell_type": "code",
   "execution_count": 27,
   "id": "5e2014d3",
   "metadata": {},
   "outputs": [
    {
     "data": {
      "text/html": [
       "<div>\n",
       "<style scoped>\n",
       "    .dataframe tbody tr th:only-of-type {\n",
       "        vertical-align: middle;\n",
       "    }\n",
       "\n",
       "    .dataframe tbody tr th {\n",
       "        vertical-align: top;\n",
       "    }\n",
       "\n",
       "    .dataframe thead th {\n",
       "        text-align: right;\n",
       "    }\n",
       "</style>\n",
       "<table border=\"1\" class=\"dataframe\">\n",
       "  <thead>\n",
       "    <tr style=\"text-align: right;\">\n",
       "      <th></th>\n",
       "      <th>Business_Name</th>\n",
       "      <th>Date</th>\n",
       "      <th>Amount_Received</th>\n",
       "    </tr>\n",
       "  </thead>\n",
       "  <tbody>\n",
       "    <tr>\n",
       "      <th>0</th>\n",
       "      <td>ACCESSORY_SHOP</td>\n",
       "      <td>01/01/2025</td>\n",
       "      <td>140.0</td>\n",
       "    </tr>\n",
       "    <tr>\n",
       "      <th>1</th>\n",
       "      <td>ACCESSORY_SHOP</td>\n",
       "      <td>01/02/2025</td>\n",
       "      <td>89.0</td>\n",
       "    </tr>\n",
       "    <tr>\n",
       "      <th>2</th>\n",
       "      <td>ACCESSORY_SHOP</td>\n",
       "      <td>01/03/2025</td>\n",
       "      <td>212.0</td>\n",
       "    </tr>\n",
       "    <tr>\n",
       "      <th>3</th>\n",
       "      <td>ACCESSORY_SHOP</td>\n",
       "      <td>01/04/2025</td>\n",
       "      <td>273.0</td>\n",
       "    </tr>\n",
       "    <tr>\n",
       "      <th>4</th>\n",
       "      <td>ACCESSORY_SHOP</td>\n",
       "      <td>01/05/2025</td>\n",
       "      <td>143.0</td>\n",
       "    </tr>\n",
       "  </tbody>\n",
       "</table>\n",
       "</div>"
      ],
      "text/plain": [
       "    Business_Name        Date  Amount_Received\n",
       "0  ACCESSORY_SHOP  01/01/2025            140.0\n",
       "1  ACCESSORY_SHOP  01/02/2025             89.0\n",
       "2  ACCESSORY_SHOP  01/03/2025            212.0\n",
       "3  ACCESSORY_SHOP  01/04/2025            273.0\n",
       "4  ACCESSORY_SHOP  01/05/2025            143.0"
      ]
     },
     "execution_count": 27,
     "metadata": {},
     "output_type": "execute_result"
    }
   ],
   "source": [
    "business_df.head()"
   ]
  },
  {
   "cell_type": "markdown",
   "id": "3eea9a83",
   "metadata": {},
   "source": [
    "##### ISOLATION FOREST"
   ]
  },
  {
   "cell_type": "code",
   "execution_count": 108,
   "id": "e2201473",
   "metadata": {},
   "outputs": [],
   "source": [
    "# Apply Isolation Forest to detect outliers in 'Amount_Received'\n",
    "iso_forest = IsolationForest(n_estimators=100, contamination= 'auto', random_state=42)\n",
    "business_df['scores'] = iso_forest.fit_predict(business_df[['Amount_Received']])\n",
    "\n",
    "# Determine if a transaction is an outlier (True for outliers, False for normal)\n",
    "business_df['is_outlier'] = business_df['scores'] == -1\n",
    "\n",
    "# Filter for normal transactions\n",
    "normal_transactions = business_df[business_df['is_outlier'] == False]"
   ]
  },
  {
   "cell_type": "code",
   "execution_count": 109,
   "id": "53e0ba8e",
   "metadata": {},
   "outputs": [
    {
     "name": "stdout",
     "output_type": "stream",
     "text": [
      "             Business_Name  Amount_Received  scores  is_outlier\n",
      "Date                                                           \n",
      "2025-01-01  ACCESSORY_SHOP           140.00       1       False\n",
      "2025-01-02  ACCESSORY_SHOP            89.00      -1        True\n",
      "2025-01-03  ACCESSORY_SHOP           212.00       1       False\n",
      "2025-01-04  ACCESSORY_SHOP           273.00       1       False\n",
      "2025-01-05  ACCESSORY_SHOP           143.00       1       False\n",
      "...                    ...              ...     ...         ...\n",
      "2025-05-30     WINE_CELLAR             9.00      -1        True\n",
      "2025-07-30     WINE_CELLAR           214.93       1       False\n",
      "2025-08-30     WINE_CELLAR            38.98      -1        True\n",
      "2025-10-30     WINE_CELLAR           166.97       1       False\n",
      "2025-12-30     WINE_CELLAR            90.98      -1        True\n",
      "\n",
      "[27214 rows x 4 columns]\n"
     ]
    }
   ],
   "source": [
    "print(business_df)"
   ]
  },
  {
   "cell_type": "markdown",
   "id": "d26818fe",
   "metadata": {},
   "source": [
    "##### VIEW OUTLIERS FOR SPECIFIC BUSINESS"
   ]
  },
  {
   "cell_type": "code",
   "execution_count": 110,
   "id": "70ae5228",
   "metadata": {},
   "outputs": [
    {
     "name": "stdout",
     "output_type": "stream",
     "text": [
      "           Business_Name  Amount_Received  scores  is_outlier\n",
      "Date                                                         \n",
      "2025-01-01   WINE_CELLAR           223.95       1       False\n",
      "2025-01-02   WINE_CELLAR           160.93       1       False\n",
      "2025-01-03   WINE_CELLAR            86.97      -1        True\n",
      "2025-01-04   WINE_CELLAR           291.92       1       False\n",
      "2025-01-05   WINE_CELLAR           230.94       1       False\n",
      "...                  ...              ...     ...         ...\n",
      "2025-05-30   WINE_CELLAR             9.00      -1        True\n",
      "2025-07-30   WINE_CELLAR           214.93       1       False\n",
      "2025-08-30   WINE_CELLAR            38.98      -1        True\n",
      "2025-10-30   WINE_CELLAR           166.97       1       False\n",
      "2025-12-30   WINE_CELLAR            90.98      -1        True\n",
      "\n",
      "[352 rows x 4 columns]\n"
     ]
    }
   ],
   "source": [
    "# Specify the business name interested in\n",
    "specific_business_name = \"WINE_CELLAR\"\n",
    "\n",
    "# Filter the DataFrame to select rows where the Business_Name matches the specified business\n",
    "specific_business_transactions = business_df[business_df['Business_Name'] == specific_business_name]\n",
    "\n",
    "# Display the filtered DataFrame\n",
    "print(specific_business_transactions)"
   ]
  },
  {
   "cell_type": "markdown",
   "id": "af8ee463",
   "metadata": {},
   "source": [
    "##### CREATING LOWER AND UPPER LIMITS USING MEAN OF TRANSACTIONS"
   ]
  },
  {
   "cell_type": "code",
   "execution_count": 35,
   "id": "b6d65342",
   "metadata": {},
   "outputs": [],
   "source": [
    "average_transactions = business_df.groupby('Business_Name')['Amount_Received'].mean().reset_index(name='Average_Amount')\n",
    "lower_limit = average_transactions['Average_Amount'].min()\n",
    "upper_limit = average_transactions['Average_Amount'].max()"
   ]
  },
  {
   "cell_type": "code",
   "execution_count": 37,
   "id": "6959a15f",
   "metadata": {},
   "outputs": [
    {
     "data": {
      "text/html": [
       "<div>\n",
       "<style scoped>\n",
       "    .dataframe tbody tr th:only-of-type {\n",
       "        vertical-align: middle;\n",
       "    }\n",
       "\n",
       "    .dataframe tbody tr th {\n",
       "        vertical-align: top;\n",
       "    }\n",
       "\n",
       "    .dataframe thead th {\n",
       "        text-align: right;\n",
       "    }\n",
       "</style>\n",
       "<table border=\"1\" class=\"dataframe\">\n",
       "  <thead>\n",
       "    <tr style=\"text-align: right;\">\n",
       "      <th></th>\n",
       "      <th>Business_Name</th>\n",
       "      <th>lower_limit</th>\n",
       "      <th>upper_limit</th>\n",
       "    </tr>\n",
       "  </thead>\n",
       "  <tbody>\n",
       "    <tr>\n",
       "      <th>0</th>\n",
       "      <td>ACCESSORY_SHOP</td>\n",
       "      <td>97.00</td>\n",
       "      <td>292.00</td>\n",
       "    </tr>\n",
       "    <tr>\n",
       "      <th>1</th>\n",
       "      <td>A_CAFE</td>\n",
       "      <td>980.60</td>\n",
       "      <td>4115.10</td>\n",
       "    </tr>\n",
       "    <tr>\n",
       "      <th>2</th>\n",
       "      <td>A_LOCAL_COFFEE_SHOP</td>\n",
       "      <td>958.80</td>\n",
       "      <td>4118.00</td>\n",
       "    </tr>\n",
       "    <tr>\n",
       "      <th>3</th>\n",
       "      <td>A_SUPERMARKET</td>\n",
       "      <td>12978.91</td>\n",
       "      <td>18147.24</td>\n",
       "    </tr>\n",
       "    <tr>\n",
       "      <th>4</th>\n",
       "      <td>BAR</td>\n",
       "      <td>2775.00</td>\n",
       "      <td>51384.00</td>\n",
       "    </tr>\n",
       "    <tr>\n",
       "      <th>...</th>\n",
       "      <td>...</td>\n",
       "      <td>...</td>\n",
       "      <td>...</td>\n",
       "    </tr>\n",
       "    <tr>\n",
       "      <th>74</th>\n",
       "      <td>WE_HAVE_BEAN_WEIGHTING</td>\n",
       "      <td>141.82</td>\n",
       "      <td>551.83</td>\n",
       "    </tr>\n",
       "    <tr>\n",
       "      <th>75</th>\n",
       "      <td>WHISKEY_BAR</td>\n",
       "      <td>369.00</td>\n",
       "      <td>8733.50</td>\n",
       "    </tr>\n",
       "    <tr>\n",
       "      <th>76</th>\n",
       "      <td>WHISKEY_SHOP</td>\n",
       "      <td>111.98</td>\n",
       "      <td>512.88</td>\n",
       "    </tr>\n",
       "    <tr>\n",
       "      <th>77</th>\n",
       "      <td>WINE_BAR</td>\n",
       "      <td>342.00</td>\n",
       "      <td>8501.50</td>\n",
       "    </tr>\n",
       "    <tr>\n",
       "      <th>78</th>\n",
       "      <td>WINE_CELLAR</td>\n",
       "      <td>119.96</td>\n",
       "      <td>572.87</td>\n",
       "    </tr>\n",
       "  </tbody>\n",
       "</table>\n",
       "<p>79 rows × 3 columns</p>\n",
       "</div>"
      ],
      "text/plain": [
       "             Business_Name  lower_limit  upper_limit\n",
       "0           ACCESSORY_SHOP        97.00       292.00\n",
       "1                   A_CAFE       980.60      4115.10\n",
       "2      A_LOCAL_COFFEE_SHOP       958.80      4118.00\n",
       "3            A_SUPERMARKET     12978.91     18147.24\n",
       "4                      BAR      2775.00     51384.00\n",
       "..                     ...          ...          ...\n",
       "74  WE_HAVE_BEAN_WEIGHTING       141.82       551.83\n",
       "75             WHISKEY_BAR       369.00      8733.50\n",
       "76            WHISKEY_SHOP       111.98       512.88\n",
       "77                WINE_BAR       342.00      8501.50\n",
       "78             WINE_CELLAR       119.96       572.87\n",
       "\n",
       "[79 rows x 3 columns]"
      ]
     },
     "execution_count": 37,
     "metadata": {},
     "output_type": "execute_result"
    }
   ],
   "source": [
    "limits_df = limits[['Business_Name', 'lower_limit', 'upper_limit']].drop_duplicates()\n",
    "limits_df"
   ]
  },
  {
   "cell_type": "markdown",
   "id": "94a7c09b",
   "metadata": {},
   "source": [
    "##### CATEGORIZE BASED ON AVERAGE OF TRANSACTIONS INTO STANDARD, UNDER-THRESHOD AND OVER-THRESHOLD"
   ]
  },
  {
   "cell_type": "code",
   "execution_count": 43,
   "id": "77d5b320",
   "metadata": {},
   "outputs": [
    {
     "name": "stdout",
     "output_type": "stream",
     "text": [
      "             Business_Name  Average_Amount  Category  Lower_Limit  Upper_Limit\n",
      "0           ACCESSORY_SHOP      205.664835  Standard   195.901099     29550.13\n",
      "1                   A_CAFE     3144.874313  Standard   195.901099     29550.13\n",
      "2      A_LOCAL_COFFEE_SHOP     3137.176648  Standard   195.901099     29550.13\n",
      "3            A_SUPERMARKET    15529.611484  Standard   195.901099     29550.13\n",
      "4                      BAR    23236.487637  Standard   195.901099     29550.13\n",
      "..                     ...             ...       ...          ...          ...\n",
      "74  WE_HAVE_BEAN_WEIGHTING      674.428097  Standard   195.901099     29550.13\n",
      "75             WHISKEY_BAR     3746.524725  Standard   195.901099     29550.13\n",
      "76            WHISKEY_SHOP      666.492699  Standard   195.901099     29550.13\n",
      "77                WINE_BAR     3717.559066  Standard   195.901099     29550.13\n",
      "78             WINE_CELLAR      660.625710  Standard   195.901099     29550.13\n",
      "\n",
      "[79 rows x 5 columns]\n"
     ]
    }
   ],
   "source": [
    "def categorize_business(row, lower_limit, upper_limit):\n",
    "    if row['Average_Amount'] < lower_limit:\n",
    "        return 'Under-Threshold'\n",
    "    elif lower_limit <= row['Average_Amount'] <= upper_limit:\n",
    "        return 'Standard'\n",
    "    else:\n",
    "        return 'Over-Threshold'\n",
    "\n",
    "# Apply the categorization function to each row, passing the overall lower and upper limits\n",
    "average_transactions['Category'] = average_transactions.apply(categorize_business, axis=1, args=(lower_limit, upper_limit))\n",
    "\n",
    "# Add the overall lower and upper limits to the DataFrame\n",
    "average_transactions['Lower_Limit'] = lower_limit\n",
    "average_transactions['Upper_Limit'] = upper_limit\n",
    "\n",
    "# Display the final DataFrame\n",
    "print(average_transactions)"
   ]
  },
  {
   "cell_type": "code",
   "execution_count": 113,
   "id": "5d6f980e",
   "metadata": {},
   "outputs": [],
   "source": [
    "#print(business_df.columns)\n",
    "#business_df.head()"
   ]
  },
  {
   "cell_type": "code",
   "execution_count": 115,
   "id": "6a4ea08f",
   "metadata": {},
   "outputs": [
    {
     "data": {
      "text/html": [
       "<div>\n",
       "<style scoped>\n",
       "    .dataframe tbody tr th:only-of-type {\n",
       "        vertical-align: middle;\n",
       "    }\n",
       "\n",
       "    .dataframe tbody tr th {\n",
       "        vertical-align: top;\n",
       "    }\n",
       "\n",
       "    .dataframe thead th {\n",
       "        text-align: right;\n",
       "    }\n",
       "</style>\n",
       "<table border=\"1\" class=\"dataframe\">\n",
       "  <thead>\n",
       "    <tr style=\"text-align: right;\">\n",
       "      <th></th>\n",
       "      <th>Business_Name</th>\n",
       "      <th>Amount_Received</th>\n",
       "      <th>scores</th>\n",
       "      <th>is_outlier</th>\n",
       "    </tr>\n",
       "    <tr>\n",
       "      <th>Date</th>\n",
       "      <th></th>\n",
       "      <th></th>\n",
       "      <th></th>\n",
       "      <th></th>\n",
       "    </tr>\n",
       "  </thead>\n",
       "  <tbody>\n",
       "    <tr>\n",
       "      <th>2025-01-01</th>\n",
       "      <td>ACCESSORY_SHOP</td>\n",
       "      <td>140.0</td>\n",
       "      <td>1</td>\n",
       "      <td>False</td>\n",
       "    </tr>\n",
       "    <tr>\n",
       "      <th>2025-01-02</th>\n",
       "      <td>ACCESSORY_SHOP</td>\n",
       "      <td>89.0</td>\n",
       "      <td>-1</td>\n",
       "      <td>True</td>\n",
       "    </tr>\n",
       "    <tr>\n",
       "      <th>2025-01-03</th>\n",
       "      <td>ACCESSORY_SHOP</td>\n",
       "      <td>212.0</td>\n",
       "      <td>1</td>\n",
       "      <td>False</td>\n",
       "    </tr>\n",
       "    <tr>\n",
       "      <th>2025-01-04</th>\n",
       "      <td>ACCESSORY_SHOP</td>\n",
       "      <td>273.0</td>\n",
       "      <td>1</td>\n",
       "      <td>False</td>\n",
       "    </tr>\n",
       "    <tr>\n",
       "      <th>2025-01-05</th>\n",
       "      <td>ACCESSORY_SHOP</td>\n",
       "      <td>143.0</td>\n",
       "      <td>1</td>\n",
       "      <td>False</td>\n",
       "    </tr>\n",
       "    <tr>\n",
       "      <th>...</th>\n",
       "      <td>...</td>\n",
       "      <td>...</td>\n",
       "      <td>...</td>\n",
       "      <td>...</td>\n",
       "    </tr>\n",
       "    <tr>\n",
       "      <th>2025-05-31</th>\n",
       "      <td>ACCESSORY_SHOP</td>\n",
       "      <td>219.0</td>\n",
       "      <td>1</td>\n",
       "      <td>False</td>\n",
       "    </tr>\n",
       "    <tr>\n",
       "      <th>2025-07-31</th>\n",
       "      <td>ACCESSORY_SHOP</td>\n",
       "      <td>186.0</td>\n",
       "      <td>1</td>\n",
       "      <td>False</td>\n",
       "    </tr>\n",
       "    <tr>\n",
       "      <th>2025-08-31</th>\n",
       "      <td>ACCESSORY_SHOP</td>\n",
       "      <td>260.0</td>\n",
       "      <td>1</td>\n",
       "      <td>False</td>\n",
       "    </tr>\n",
       "    <tr>\n",
       "      <th>2025-10-31</th>\n",
       "      <td>ACCESSORY_SHOP</td>\n",
       "      <td>252.0</td>\n",
       "      <td>1</td>\n",
       "      <td>False</td>\n",
       "    </tr>\n",
       "    <tr>\n",
       "      <th>2025-12-31</th>\n",
       "      <td>ACCESSORY_SHOP</td>\n",
       "      <td>101.0</td>\n",
       "      <td>1</td>\n",
       "      <td>False</td>\n",
       "    </tr>\n",
       "  </tbody>\n",
       "</table>\n",
       "<p>364 rows × 4 columns</p>\n",
       "</div>"
      ],
      "text/plain": [
       "             Business_Name  Amount_Received  scores  is_outlier\n",
       "Date                                                           \n",
       "2025-01-01  ACCESSORY_SHOP            140.0       1       False\n",
       "2025-01-02  ACCESSORY_SHOP             89.0      -1        True\n",
       "2025-01-03  ACCESSORY_SHOP            212.0       1       False\n",
       "2025-01-04  ACCESSORY_SHOP            273.0       1       False\n",
       "2025-01-05  ACCESSORY_SHOP            143.0       1       False\n",
       "...                    ...              ...     ...         ...\n",
       "2025-05-31  ACCESSORY_SHOP            219.0       1       False\n",
       "2025-07-31  ACCESSORY_SHOP            186.0       1       False\n",
       "2025-08-31  ACCESSORY_SHOP            260.0       1       False\n",
       "2025-10-31  ACCESSORY_SHOP            252.0       1       False\n",
       "2025-12-31  ACCESSORY_SHOP            101.0       1       False\n",
       "\n",
       "[364 rows x 4 columns]"
      ]
     },
     "execution_count": 115,
     "metadata": {},
     "output_type": "execute_result"
    }
   ],
   "source": [
    "# Filter the DataFrame for rows where the Business_Name is \"ACCESSORY_SHOP\"\n",
    "accessory_shop_df = business_df[business_df['Business_Name'] == 'ACCESSORY_SHOP']\n",
    "accessory_shop_df"
   ]
  },
  {
   "cell_type": "markdown",
   "id": "c1f8eb6a",
   "metadata": {},
   "source": [
    "##### DAILY, WEEKLY AND MONTHLY COUNTS OF TRANSACTIONS FOR EACH BUSINESS"
   ]
  },
  {
   "cell_type": "code",
   "execution_count": 61,
   "id": "f838f5df",
   "metadata": {},
   "outputs": [],
   "source": [
    "# Daily transaction counts for each business\n",
    "daily_counts = business_df.groupby('Business_Name').resample('D').size()\n",
    "\n",
    "# Weekly transaction counts for each business\n",
    "weekly_counts = business_df.groupby('Business_Name').resample('W').size()\n",
    "\n",
    "# Monthly transaction counts for each business\n",
    "monthly_counts = business_df.groupby('Business_Name').resample('M').size()"
   ]
  },
  {
   "cell_type": "code",
   "execution_count": 81,
   "id": "5f9a35cf",
   "metadata": {},
   "outputs": [],
   "source": [
    "# Convert Series to DataFrame\n",
    "daily_df = daily_counts.reset_index(name='Daily_Counts')\n",
    "weekly_df = weekly_counts.reset_index(name='Weekly_Counts')\n",
    "monthly_df = monthly_counts.reset_index(name='Monthly_Counts')\n",
    "\n",
    "# Merge into a single DataFrame\n",
    "counts_df = pd.merge(daily_df, weekly_df, on='Business_Name')\n",
    "counts_df = pd.merge(counts_df, monthly_df, on='Business_Name')\n"
   ]
  },
  {
   "cell_type": "code",
   "execution_count": 82,
   "id": "ed4c8d97",
   "metadata": {},
   "outputs": [
    {
     "name": "stdout",
     "output_type": "stream",
     "text": [
      "           Business_Name     Date_x  Daily_Counts     Date_y  Weekly_Counts  \\\n",
      "0         ACCESSORY_SHOP 2025-01-01             1 2025-01-05              5   \n",
      "1         ACCESSORY_SHOP 2025-01-01             1 2025-01-05              5   \n",
      "2         ACCESSORY_SHOP 2025-01-01             1 2025-01-05              5   \n",
      "3         ACCESSORY_SHOP 2025-01-01             1 2025-01-05              5   \n",
      "4         ACCESSORY_SHOP 2025-01-01             1 2025-01-05              5   \n",
      "...                  ...        ...           ...        ...            ...   \n",
      "17462164     WINE_CELLAR 2025-12-30             1 2026-01-04              2   \n",
      "17462165     WINE_CELLAR 2025-12-30             1 2026-01-04              2   \n",
      "17462166     WINE_CELLAR 2025-12-30             1 2026-01-04              2   \n",
      "17462167     WINE_CELLAR 2025-12-30             1 2026-01-04              2   \n",
      "17462168     WINE_CELLAR 2025-12-30             1 2026-01-04              2   \n",
      "\n",
      "               Date  Monthly_Counts  \n",
      "0        2025-01-31              31  \n",
      "1        2025-02-28              28  \n",
      "2        2025-03-31              31  \n",
      "3        2025-04-30              30  \n",
      "4        2025-05-31              31  \n",
      "...             ...             ...  \n",
      "17462164 2025-08-31              29  \n",
      "17462165 2025-09-30              29  \n",
      "17462166 2025-10-31              30  \n",
      "17462167 2025-11-30              29  \n",
      "17462168 2025-12-31              30  \n",
      "\n",
      "[17462169 rows x 7 columns]\n"
     ]
    }
   ],
   "source": [
    "print(counts_df)"
   ]
  },
  {
   "cell_type": "code",
   "execution_count": null,
   "id": "e6e36265",
   "metadata": {},
   "outputs": [],
   "source": []
  }
 ],
 "metadata": {
  "kernelspec": {
   "display_name": "Python 3 (ipykernel)",
   "language": "python",
   "name": "python3"
  },
  "language_info": {
   "codemirror_mode": {
    "name": "ipython",
    "version": 3
   },
   "file_extension": ".py",
   "mimetype": "text/x-python",
   "name": "python",
   "nbconvert_exporter": "python",
   "pygments_lexer": "ipython3",
   "version": "3.9.13"
  }
 },
 "nbformat": 4,
 "nbformat_minor": 5
}
