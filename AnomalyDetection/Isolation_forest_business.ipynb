{
 "cells": [
  {
   "cell_type": "code",
   "execution_count": 74,
   "id": "9706bbcf",
   "metadata": {},
   "outputs": [],
   "source": [
    "import pandas as pd\n",
    "import numpy as np\n",
    "import matplotlib.pyplot as plt"
   ]
  },
  {
   "cell_type": "code",
   "execution_count": 62,
   "id": "b5bd40e5",
   "metadata": {},
   "outputs": [],
   "source": [
    "biz_df = pd.read_csv('C:/Users/Diya/OneDrive/Desktop/Mini Project/Datasets/biz_large.csv')"
   ]
  },
  {
   "cell_type": "code",
   "execution_count": 63,
   "id": "1dc57e39",
   "metadata": {},
   "outputs": [
    {
     "name": "stdout",
     "output_type": "stream",
     "text": [
      "<class 'pandas.core.frame.DataFrame'>\n",
      "RangeIndex: 79 entries, 0 to 78\n",
      "Data columns (total 8 columns):\n",
      " #   Column                   Non-Null Count  Dtype  \n",
      "---  ------                   --------------  -----  \n",
      " 0   name                     79 non-null     object \n",
      " 1   tx_count                 79 non-null     int64  \n",
      " 2   tx_sum_gbp               79 non-null     float64\n",
      " 3   tx_mean_gbp              79 non-null     float64\n",
      " 4   tx_median_gbp            79 non-null     float64\n",
      " 5   customers_sorted_unique  79 non-null     object \n",
      " 6   customers_tx_count       79 non-null     object \n",
      " 7   industry_category        79 non-null     object \n",
      "dtypes: float64(3), int64(1), object(4)\n",
      "memory usage: 5.1+ KB\n",
      "None\n"
     ]
    }
   ],
   "source": [
    "print(biz_df.info())"
   ]
  },
  {
   "cell_type": "code",
   "execution_count": 64,
   "id": "2474a9fb",
   "metadata": {},
   "outputs": [
    {
     "data": {
      "text/html": [
       "<div>\n",
       "<style scoped>\n",
       "    .dataframe tbody tr th:only-of-type {\n",
       "        vertical-align: middle;\n",
       "    }\n",
       "\n",
       "    .dataframe tbody tr th {\n",
       "        vertical-align: top;\n",
       "    }\n",
       "\n",
       "    .dataframe thead th {\n",
       "        text-align: right;\n",
       "    }\n",
       "</style>\n",
       "<table border=\"1\" class=\"dataframe\">\n",
       "  <thead>\n",
       "    <tr style=\"text-align: right;\">\n",
       "      <th></th>\n",
       "      <th>name</th>\n",
       "      <th>tx_count</th>\n",
       "      <th>tx_sum_gbp</th>\n",
       "      <th>tx_mean_gbp</th>\n",
       "      <th>tx_median_gbp</th>\n",
       "      <th>customers_sorted_unique</th>\n",
       "      <th>customers_tx_count</th>\n",
       "      <th>industry_category</th>\n",
       "    </tr>\n",
       "  </thead>\n",
       "  <tbody>\n",
       "    <tr>\n",
       "      <th>0</th>\n",
       "      <td>ACCESSORY_SHOP</td>\n",
       "      <td>3325</td>\n",
       "      <td>74862.00</td>\n",
       "      <td>22.514887</td>\n",
       "      <td>22.00</td>\n",
       "      <td>[1357.0, 1607.0, 1623.0, 1828.0, 1931.0, 2090....</td>\n",
       "      <td>[6, 10, 10, 5, 14, 6, 6, 7, 7, 5, 11, 9, 9, 9,...</td>\n",
       "      <td>Accessories</td>\n",
       "    </tr>\n",
       "    <tr>\n",
       "      <th>1</th>\n",
       "      <td>A_CAFE</td>\n",
       "      <td>475154</td>\n",
       "      <td>1144734.25</td>\n",
       "      <td>2.409186</td>\n",
       "      <td>2.40</td>\n",
       "      <td>[1000.0, 1002.0, 1006.0, 1053.0, 1059.0, 1071....</td>\n",
       "      <td>[116, 53, 118, 55, 45, 55, 65, 57, 143, 50, 58...</td>\n",
       "      <td>Cafes</td>\n",
       "    </tr>\n",
       "    <tr>\n",
       "      <th>2</th>\n",
       "      <td>A_LOCAL_COFFEE_SHOP</td>\n",
       "      <td>474159</td>\n",
       "      <td>1141932.30</td>\n",
       "      <td>2.408332</td>\n",
       "      <td>2.40</td>\n",
       "      <td>[1000.0, 1002.0, 1006.0, 1018.0, 1053.0, 1059....</td>\n",
       "      <td>[117, 46, 137, 4, 55, 40, 53, 55, 46, 130, 54,...</td>\n",
       "      <td>Cafes</td>\n",
       "    </tr>\n",
       "    <tr>\n",
       "      <th>3</th>\n",
       "      <td>A_SUPERMARKET</td>\n",
       "      <td>81335</td>\n",
       "      <td>5652778.58</td>\n",
       "      <td>69.499952</td>\n",
       "      <td>65.22</td>\n",
       "      <td>[1000.0, 1002.0, 1006.0, 1018.0, 1053.0, 1059....</td>\n",
       "      <td>[2, 5, 16, 15, 3, 5, 4, 18, 16, 10, 11, 7, 4, ...</td>\n",
       "      <td>Supermarkets</td>\n",
       "    </tr>\n",
       "    <tr>\n",
       "      <th>4</th>\n",
       "      <td>BAR</td>\n",
       "      <td>770414</td>\n",
       "      <td>8458081.50</td>\n",
       "      <td>10.978619</td>\n",
       "      <td>11.00</td>\n",
       "      <td>[1000.0, 1002.0, 1006.0, 1018.0, 1053.0, 1059....</td>\n",
       "      <td>[72, 110, 104, 110, 98, 82, 117, 71, 139, 65, ...</td>\n",
       "      <td>Pubs / Bars</td>\n",
       "    </tr>\n",
       "  </tbody>\n",
       "</table>\n",
       "</div>"
      ],
      "text/plain": [
       "                  name  tx_count  tx_sum_gbp  tx_mean_gbp  tx_median_gbp  \\\n",
       "0       ACCESSORY_SHOP      3325    74862.00    22.514887          22.00   \n",
       "1               A_CAFE    475154  1144734.25     2.409186           2.40   \n",
       "2  A_LOCAL_COFFEE_SHOP    474159  1141932.30     2.408332           2.40   \n",
       "3        A_SUPERMARKET     81335  5652778.58    69.499952          65.22   \n",
       "4                  BAR    770414  8458081.50    10.978619          11.00   \n",
       "\n",
       "                             customers_sorted_unique  \\\n",
       "0  [1357.0, 1607.0, 1623.0, 1828.0, 1931.0, 2090....   \n",
       "1  [1000.0, 1002.0, 1006.0, 1053.0, 1059.0, 1071....   \n",
       "2  [1000.0, 1002.0, 1006.0, 1018.0, 1053.0, 1059....   \n",
       "3  [1000.0, 1002.0, 1006.0, 1018.0, 1053.0, 1059....   \n",
       "4  [1000.0, 1002.0, 1006.0, 1018.0, 1053.0, 1059....   \n",
       "\n",
       "                                  customers_tx_count industry_category  \n",
       "0  [6, 10, 10, 5, 14, 6, 6, 7, 7, 5, 11, 9, 9, 9,...       Accessories  \n",
       "1  [116, 53, 118, 55, 45, 55, 65, 57, 143, 50, 58...             Cafes  \n",
       "2  [117, 46, 137, 4, 55, 40, 53, 55, 46, 130, 54,...             Cafes  \n",
       "3  [2, 5, 16, 15, 3, 5, 4, 18, 16, 10, 11, 7, 4, ...      Supermarkets  \n",
       "4  [72, 110, 104, 110, 98, 82, 117, 71, 139, 65, ...       Pubs / Bars  "
      ]
     },
     "execution_count": 64,
     "metadata": {},
     "output_type": "execute_result"
    }
   ],
   "source": [
    "biz_df.head(5)"
   ]
  },
  {
   "cell_type": "code",
   "execution_count": 65,
   "id": "8ad27b81",
   "metadata": {},
   "outputs": [],
   "source": [
    "# Example: Calculate 'tx_mean_gbp' if you have the total sum and count\n",
    "# This is just an illustrative example; adjust calculations based on your actual data structure\n",
    "biz_df['tx_mean_gbp'] = biz_df['tx_sum_gbp'] / biz_df['tx_count']\n",
    "\n",
    "# Then, proceed with your anomaly detection code\n",
    "\n"
   ]
  },
  {
   "cell_type": "code",
   "execution_count": 112,
   "id": "98491b02",
   "metadata": {},
   "outputs": [],
   "source": [
    "from sklearn.ensemble import IsolationForest\n",
    "from sklearn.preprocessing import StandardScaler\n",
    "\n",
    "# Assuming 'df' is your DataFrame containing the entire dataset\n",
    "\n",
    "# Selecting numerical features for anomaly detection\n",
    "features = biz_df[['tx_count', 'tx_sum_gbp', 'tx_mean_gbp', 'tx_median_gbp']]\n",
    "\n",
    "# Optional: Scale the features\n",
    "scaler = StandardScaler()\n",
    "scaled_features = scaler.fit_transform(features)\n",
    "\n",
    "# Apply Isolation Forest for anomaly detection\n",
    "iso_forest = IsolationForest(n_estimators=100, contamination=0.05, random_state=42)\n",
    "iso_forest.fit(scaled_features)\n",
    "\n",
    "# Predictions: -1 for anomalies, 1 for normal observations\n",
    "predictions = iso_forest.predict(scaled_features)\n",
    "\n",
    "\n",
    "\n"
   ]
  },
  {
   "cell_type": "code",
   "execution_count": 113,
   "id": "544ef8ba",
   "metadata": {},
   "outputs": [
    {
     "name": "stdout",
     "output_type": "stream",
     "text": [
      "                  name  tx_count  tx_sum_gbp  tx_mean_gbp  tx_median_gbp  \\\n",
      "0       ACCESSORY_SHOP      3325    74862.00    22.514887          22.00   \n",
      "1               A_CAFE    475154  1144734.25     2.409186           2.40   \n",
      "2  A_LOCAL_COFFEE_SHOP    474159  1141932.30     2.408332           2.40   \n",
      "3        A_SUPERMARKET     81335  5652778.58    69.499952          65.22   \n",
      "4                  BAR    770414  8458081.50    10.978619          11.00   \n",
      "\n",
      "   anomaly  \n",
      "0        1  \n",
      "1        1  \n",
      "2        1  \n",
      "3        1  \n",
      "4       -1  \n"
     ]
    }
   ],
   "source": [
    "# Selecting specific columns from 'biz_df' to include in the new DataFrame\n",
    "selected_columns = biz_df[['name','tx_count', 'tx_sum_gbp', 'tx_mean_gbp', 'tx_median_gbp']]  # Adjust columns as needed\n",
    "\n",
    "# Creating a new DataFrame with selected columns\n",
    "anomaly_df = selected_columns.copy()\n",
    "\n",
    "# Adding the 'anomaly' column to the new DataFrame\n",
    "# Convert predictions from -1 (anomaly) and 1 (normal) to a more descriptive format if desired\n",
    "anomaly_df['anomaly'] = predictions  # Assuming 'predictions' is the array of anomaly labels from Isolation Forest\n",
    "\n",
    "# Now, 'new_df' contains the selected columns from 'biz_df' plus the 'anomaly' column\n",
    "# Display the first few rows of the new DataFrame to verify\n",
    "print(anomaly_df.head())"
   ]
  },
  {
   "cell_type": "code",
   "execution_count": 114,
   "id": "5b453b89",
   "metadata": {},
   "outputs": [
    {
     "data": {
      "image/png": "[encoded data removed]",
      "text/plain": [
       "<Figure size 1000x600 with 1 Axes>"
      ]
     },
     "metadata": {},
     "output_type": "display_data"
    }
   ],
   "source": [
    "# Filter the anomalies and normal observations into two separate DataFrames\n",
    "anomalies = anomaly_df[anomaly_df['anomaly'] == -1]\n",
    "normal = anomaly_df[anomaly_df['anomaly'] == 1]\n",
    "\n",
    "# Plot\n",
    "plt.figure(figsize=(10, 6))\n",
    "\n",
    "# Plot normal observations\n",
    "plt.scatter(normal['tx_count'], normal['tx_sum_gbp'], c='blue', label='Normal')\n",
    "\n",
    "# Plot anomalies\n",
    "plt.scatter(anomalies['tx_count'], anomalies['tx_sum_gbp'], c='red', label='Anomaly')\n",
    "\n",
    "# Labeling\n",
    "plt.xlabel('Transaction Count')\n",
    "plt.ylabel('Transaction Sum in GBP')\n",
    "plt.title('Anomalies vs. Normal Observations')\n",
    "plt.legend()\n",
    "\n",
    "# Show the plot\n",
    "plt.show()\n"
   ]
  },
  {
   "cell_type": "code",
   "execution_count": 116,
   "id": "77a6eed6",
   "metadata": {},
   "outputs": [
    {
     "name": "stdout",
     "output_type": "stream",
     "text": [
      "   tx_count  tx_sum_gbp  anomaly\n",
      "0      3325    74862.00   normal\n",
      "1    475154  1144734.25   normal\n",
      "2    474159  1141932.30   normal\n",
      "3     81335  5652778.58   normal\n",
      "4    770414  8458081.50  anomaly\n"
     ]
    }
   ],
   "source": [
    "# Example using the 'tx_sum_gbp' column from your DataFrame\n",
    "mean_tx_sum_gbp = biz_df['tx_sum_gbp'].mean()\n",
    "std_tx_sum_gbp = biz_df['tx_sum_gbp'].std()\n",
    "\n",
    "# Defining limits: mean ± 3*std as an example\n",
    "lower_limit_tx_sum_gbp = mean_tx_sum_gbp - 3 * std_tx_sum_gbp\n",
    "upper_limit_tx_sum_gbp = mean_tx_sum_gbp + 3 * std_tx_sum_gbp\n",
    "\n",
    "# Classifying data points\n",
    "biz_df['anomaly_tx_sum_gbp'] = biz_df['tx_sum_gbp'].apply(lambda x: 'normal' if lower_limit_tx_sum_gbp <= x <= upper_limit_tx_sum_gbp else 'anomaly')\n",
    "\n",
    "# To create a new DataFrame with selected columns and the 'anomaly' classification\n",
    "selected_columns = biz_df[['tx_count', 'tx_sum_gbp']]  # Adjust columns as needed\n",
    "new_df = selected_columns.copy()\n",
    "new_df['anomaly'] = biz_df['anomaly_tx_sum_gbp']\n",
    "\n",
    "print(new_df.head())\n"
   ]
  },
  {
   "cell_type": "code",
   "execution_count": 105,
   "id": "e65b57e2",
   "metadata": {},
   "outputs": [
    {
     "name": "stdout",
     "output_type": "stream",
     "text": [
      "Lower Bound: -1388954.4\n",
      "Upper Bound: 3017877.04\n"
     ]
    }
   ],
   "source": [
    "# Calculate Q1 (25th percentile) and Q3 (75th percentile) for the 'tx_sum_gbp' column\n",
    "Q1 = biz_df['tx_sum_gbp'].quantile(0.25)\n",
    "Q3 = biz_df['tx_sum_gbp'].quantile(0.75)\n",
    "\n",
    "# Calculate the Interquartile Range (IQR)\n",
    "IQR = Q3 - Q1\n",
    "\n",
    "# Define lower and upper bounds for normal data\n",
    "lower_bound = Q1 - 1.5 * IQR\n",
    "upper_bound = Q3 + 1.5 * IQR\n",
    "\n",
    "# Display the bounds\n",
    "print(f\"Lower Bound: {lower_bound}\")\n",
    "print(f\"Upper Bound: {upper_bound}\")\n"
   ]
  },
  {
   "cell_type": "code",
   "execution_count": 118,
   "id": "874bc7fb",
   "metadata": {},
   "outputs": [
    {
     "data": {
      "text/plain": [
       "array([ 0.22189715,  0.09783208,  0.08928114,  0.07585722, -0.01444996,\n",
       "        0.24698646,  0.15676551,  0.24767992,  0.22960063,  0.20220008,\n",
       "        0.25746818,  0.20064629,  0.21025442,  0.0553038 ,  0.21610683,\n",
       "        0.11783653,  0.24799558,  0.23991579,  0.02775272,  0.18898638,\n",
       "        0.21025442, -0.00528678,  0.06445704,  0.16010749,  0.06658658,\n",
       "        0.17427258,  0.21330522,  0.20128034,  0.14753143,  0.14799903,\n",
       "        0.25206993,  0.14971081,  0.00378584,  0.19407294,  0.25643789,\n",
       "        0.21621739,  0.22346298,  0.20939627,  0.21070049,  0.0679095 ,\n",
       "        0.26096729,  0.24516233,  0.20881882,  0.10531054,  0.00058742,\n",
       "        0.22276332,  0.21882864,  0.24697193,  0.24340003,  0.24304723,\n",
       "        0.14446419, -0.09079479,  0.17505233,  0.22873547,  0.26603383,\n",
       "        0.15848185,  0.230556  ,  0.18837182,  0.24872275,  0.24628686,\n",
       "        0.17195219,  0.25668637,  0.2124158 ,  0.20680281,  0.20601571,\n",
       "        0.26112894, -0.01044643,  0.10223276,  0.1169099 ,  0.19384415,\n",
       "        0.26398036,  0.15786646,  0.13563522,  0.2016698 ,  0.2636069 ,\n",
       "        0.21459773,  0.26404678,  0.20724855,  0.26141054])"
      ]
     },
     "execution_count": 118,
     "metadata": {},
     "output_type": "execute_result"
    }
   ],
   "source": [
    "# Get anomaly scores\n",
    "anomaly_scores = iso_forest.decision_function(scaled_features)\n",
    "anomaly_scores"
   ]
  },
  {
   "cell_type": "markdown",
   "id": "42095278",
   "metadata": {},
   "source": [
    "Scores above a certain threshold (e.g., the 75th percentile) are considered \"No Risk\".\n",
    "Scores below this threshold but above a lower threshold (e.g., the 25th percentile) are \"Medium Risk\".\n",
    "Scores below the lower threshold are \"High Risk\"."
   ]
  },
  {
   "cell_type": "code",
   "execution_count": 119,
   "id": "712b878b",
   "metadata": {},
   "outputs": [],
   "source": [
    "# Define thresholds\n",
    "threshold_no_risk = np.percentile(anomaly_scores, 75)\n",
    "threshold_high_risk = np.percentile(anomaly_scores, 25)\n"
   ]
  },
  {
   "cell_type": "markdown",
   "id": "acdbe241",
   "metadata": {},
   "source": [
    "Since Isolation Forest labels anomalies as -1, we should focus on adjusting risk levels among these\n",
    "Assuming a simple approach where all normal observations are 'No Risk' and using anomaly scores to distinguish between 'Medium Risk' and 'High Risk' among anomalies"
   ]
  },
  {
   "cell_type": "code",
   "execution_count": 122,
   "id": "e9d90308",
   "metadata": {},
   "outputs": [],
   "source": [
    "# Define a new threshold based on anomaly scores for anomalies only\n",
    "# Note: Adjust the calculation of thresholds as per your requirement\n",
    "anomaly_scores_anomalies = anomaly_scores[anomaly_df['anomaly'] == -1]\n",
    "threshold_medium_risk = np.percentile(anomaly_scores_anomalies, 50)  # Median score among anomalies\n",
    "\n",
    "def categorize_risk_updated(is_anomaly, score):\n",
    "    if is_anomaly == 1:  # Normal observation\n",
    "        return 'No Risk'\n",
    "    else:  # Anomaly\n",
    "        return 'High Risk' if score < threshold_medium_risk else 'Medium Risk'\n",
    "\n",
    "# Apply the updated categorization\n",
    "anomaly_df['risk_category'] = [categorize_risk_updated(is_anomaly, score) for is_anomaly, score in zip(anomaly_df['anomaly'], anomaly_scores)]\n"
   ]
  },
  {
   "cell_type": "code",
   "execution_count": 124,
   "id": "8849845e",
   "metadata": {},
   "outputs": [
    {
     "name": "stdout",
     "output_type": "stream",
     "text": [
      "                  name  tx_count  tx_sum_gbp  tx_mean_gbp  tx_median_gbp  \\\n",
      "0       ACCESSORY_SHOP      3325    74862.00    22.514887          22.00   \n",
      "1               A_CAFE    475154  1144734.25     2.409186           2.40   \n",
      "2  A_LOCAL_COFFEE_SHOP    474159  1141932.30     2.408332           2.40   \n",
      "3        A_SUPERMARKET     81335  5652778.58    69.499952          65.22   \n",
      "4                  BAR    770414  8458081.50    10.978619          11.00   \n",
      "5             BOOKSHOP     26186   324530.00    12.393264          12.00   \n",
      "6              BUTCHER     93333  2097495.50    22.473246          22.45   \n",
      "7             BUTCHERS     14905   294408.00    19.752298          18.00   \n",
      "8                 CAFE    111139   489245.50     4.402105           4.50   \n",
      "9      CHILDRENDS_SHOP     16638   916095.00    55.060404          55.00   \n",
      "\n",
      "   anomaly risk_category  \n",
      "0        1       No Risk  \n",
      "1        1       No Risk  \n",
      "2        1       No Risk  \n",
      "3        1       No Risk  \n",
      "4       -1     High Risk  \n",
      "5        1       No Risk  \n",
      "6        1       No Risk  \n",
      "7        1       No Risk  \n",
      "8        1       No Risk  \n",
      "9        1       No Risk  \n"
     ]
    }
   ],
   "source": [
    "# Display the DataFrame with risk categories\n",
    "print(anomaly_df.head(10))\n"
   ]
  },
  {
   "cell_type": "code",
   "execution_count": 125,
   "id": "015d8050",
   "metadata": {},
   "outputs": [
    {
     "data": {
      "image/png": "[encoded data removed]",
      "text/plain": [
       "<Figure size 1000x600 with 1 Axes>"
      ]
     },
     "metadata": {},
     "output_type": "display_data"
    }
   ],
   "source": [
    "import matplotlib.pyplot as plt\n",
    "import seaborn as sns\n",
    "\n",
    "anomaly_df['risk_category'] = pd.Categorical(anomaly_df['risk_category'], categories=[\"No Risk\", \"Medium Risk\", \"High Risk\"])\n",
    "\n",
    "# Use seaborn to create the scatter plot\n",
    "plt.figure(figsize=(10, 6))\n",
    "sns.scatterplot(data=anomaly_df, x='tx_sum_gbp', y='tx_mean_gbp', hue='risk_category', style='risk_category', palette='bright')\n",
    "\n",
    "# Adding plot title and labels\n",
    "plt.title('Transactions Risk Categorization')\n",
    "plt.xlabel('Transaction Sum in GBP')\n",
    "plt.ylabel('Transaction Mean in GBP')\n",
    "\n",
    "# Show legend\n",
    "plt.legend(title='Risk Category')\n",
    "\n",
    "# Display the plot\n",
    "plt.show()\n"
   ]
  },
  {
   "cell_type": "code",
   "execution_count": 126,
   "id": "dd4e2989",
   "metadata": {},
   "outputs": [
    {
     "name": "stdout",
     "output_type": "stream",
     "text": [
      "   name  tx_count   tx_sum_gbp  tx_mean_gbp  tx_median_gbp  anomaly  \\\n",
      "4   BAR    770414   8458081.50    10.978619           11.0       -1   \n",
      "51  PUB    834380  10639504.55    12.751390           11.5       -1   \n",
      "\n",
      "   risk_category  \n",
      "4      High Risk  \n",
      "51     High Risk  \n"
     ]
    }
   ],
   "source": [
    "# Select rows where the 'risk_category' is 'High Risk'\n",
    "high_risk_rows = anomaly_df[anomaly_df['risk_category'] == 'High Risk']\n",
    "\n",
    "# Display the rows categorized as 'High Risk'\n",
    "print(high_risk_rows)\n"
   ]
  },
  {
   "cell_type": "code",
   "execution_count": 127,
   "id": "12d2b58c",
   "metadata": {},
   "outputs": [
    {
     "name": "stdout",
     "output_type": "stream",
     "text": [
      "                name  tx_count  tx_sum_gbp  tx_mean_gbp  tx_median_gbp  \\\n",
      "21  ELECTRONICS_SHOP      1543    250739.0   162.500972          159.0   \n",
      "66         TECH_SHOP      1569    262087.0   167.040790          171.0   \n",
      "\n",
      "    anomaly risk_category  \n",
      "21       -1   Medium Risk  \n",
      "66       -1   Medium Risk  \n"
     ]
    }
   ],
   "source": [
    "# Select rows where the 'risk_category' is 'Medium Risk'\n",
    "medium_risk_rows = anomaly_df[anomaly_df['risk_category'] == 'Medium Risk']\n",
    "\n",
    "# Display the rows categorized as 'Medium Risk'\n",
    "print(medium_risk_rows)\n"
   ]
  },
  {
   "cell_type": "code",
   "execution_count": 130,
   "id": "06ab8e9a",
   "metadata": {},
   "outputs": [
    {
     "name": "stdout",
     "output_type": "stream",
     "text": [
      "                      name  tx_count  tx_sum_gbp  tx_mean_gbp  tx_median_gbp  \\\n",
      "0           ACCESSORY_SHOP      3325    74862.00    22.514887          22.00   \n",
      "1                   A_CAFE    475154  1144734.25     2.409186           2.40   \n",
      "2      A_LOCAL_COFFEE_SHOP    474159  1141932.30     2.408332           2.40   \n",
      "3            A_SUPERMARKET     81335  5652778.58    69.499952          65.22   \n",
      "5                 BOOKSHOP     26186   324530.00    12.393264          12.00   \n",
      "..                     ...       ...         ...          ...            ...   \n",
      "74  WE_HAVE_BEAN_WEIGHTING      8596   237398.69    27.617344          27.73   \n",
      "75             WHISKEY_BAR    122900  1363735.00    11.096298          11.50   \n",
      "76            WHISKEY_SHOP      8800   234605.43    26.659708          19.99   \n",
      "77                WINE_BAR    121995  1353191.50    11.092188          11.50   \n",
      "78             WINE_CELLAR      8670   232540.25    26.821251          19.99   \n",
      "\n",
      "    anomaly risk_category  \n",
      "0         1       No Risk  \n",
      "1         1       No Risk  \n",
      "2         1       No Risk  \n",
      "3         1       No Risk  \n",
      "5         1       No Risk  \n",
      "..      ...           ...  \n",
      "74        1       No Risk  \n",
      "75        1       No Risk  \n",
      "76        1       No Risk  \n",
      "77        1       No Risk  \n",
      "78        1       No Risk  \n",
      "\n",
      "[75 rows x 7 columns]\n"
     ]
    }
   ],
   "source": [
    "# Select rows where the 'risk_category' is 'No Risk'\n",
    "no_risk_rows = anomaly_df[anomaly_df['risk_category'] == 'No Risk']\n",
    "\n",
    "# Display the rows categorized as 'No Risk'\n",
    "print(no_risk_rows)\n"
   ]
  },
  {
   "cell_type": "code",
   "execution_count": null,
   "id": "7c5b61ea",
   "metadata": {},
   "outputs": [],
   "source": []
  }
 ],
 "metadata": {
  "kernelspec": {
   "display_name": "Python 3 (ipykernel)",
   "language": "python",
   "name": "python3"
  },
  "language_info": {
   "codemirror_mode": {
    "name": "ipython",
    "version": 3
   },
   "file_extension": ".py",
   "mimetype": "text/x-python",
   "name": "python",
   "nbconvert_exporter": "python",
   "pygments_lexer": "ipython3",
   "version": "3.9.13"
  }
 },
 "nbformat": 4,
 "nbformat_minor": 5
}
