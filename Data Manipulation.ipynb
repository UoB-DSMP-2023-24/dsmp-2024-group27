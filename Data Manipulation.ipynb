{
 "cells": [
  {
   "cell_type": "markdown",
   "id": "3de71d49",
   "metadata": {},
   "source": [
    "## Import Libraries"
   ]
  },
  {
   "cell_type": "code",
   "execution_count": 1,
   "id": "915af7fc",
   "metadata": {},
   "outputs": [],
   "source": [
    "# Importing necessary libraries\n",
    "import pandas as pd\n",
    "import numpy as np"
   ]
  },
  {
   "cell_type": "markdown",
   "id": "f5d337fc",
   "metadata": {},
   "source": [
    "## Loading the Dataset"
   ]
  },
  {
   "cell_type": "code",
   "execution_count": 2,
   "id": "fc995a5b",
   "metadata": {},
   "outputs": [],
   "source": [
    "# Loading in and setting the data\n",
    "# You can't download these files from the github, you have to drop them in the folder\n",
    "tx_data = pd.read_csv('fake_transactional_data_24.csv')\n",
    "tx_df = pd.DataFrame(tx_data)"
   ]
  },
  {
   "cell_type": "code",
   "execution_count": 3,
   "id": "cc2cc353",
   "metadata": {},
   "outputs": [
    {
     "data": {
      "text/html": [
       "<div>\n",
       "<style scoped>\n",
       "    .dataframe tbody tr th:only-of-type {\n",
       "        vertical-align: middle;\n",
       "    }\n",
       "\n",
       "    .dataframe tbody tr th {\n",
       "        vertical-align: top;\n",
       "    }\n",
       "\n",
       "    .dataframe thead th {\n",
       "        text-align: right;\n",
       "    }\n",
       "</style>\n",
       "<table border=\"1\" class=\"dataframe\">\n",
       "  <thead>\n",
       "    <tr style=\"text-align: right;\">\n",
       "      <th></th>\n",
       "      <th>from_totally_fake_account</th>\n",
       "      <th>monopoly_money_amount</th>\n",
       "      <th>to_randomly_generated_account</th>\n",
       "      <th>not_happened_yet_date</th>\n",
       "    </tr>\n",
       "  </thead>\n",
       "  <tbody>\n",
       "    <tr>\n",
       "      <th>0</th>\n",
       "      <td>10371.0</td>\n",
       "      <td>4.00</td>\n",
       "      <td>CINEMA</td>\n",
       "      <td>01/01/2025</td>\n",
       "    </tr>\n",
       "    <tr>\n",
       "      <th>1</th>\n",
       "      <td>88339.0</td>\n",
       "      <td>2.40</td>\n",
       "      <td>40544</td>\n",
       "      <td>01/01/2025</td>\n",
       "    </tr>\n",
       "    <tr>\n",
       "      <th>2</th>\n",
       "      <td>18555.0</td>\n",
       "      <td>2.40</td>\n",
       "      <td>85149</td>\n",
       "      <td>01/01/2025</td>\n",
       "    </tr>\n",
       "    <tr>\n",
       "      <th>3</th>\n",
       "      <td>18555.0</td>\n",
       "      <td>4.10</td>\n",
       "      <td>HIPSTER_COFFEE_SHOP</td>\n",
       "      <td>01/01/2025</td>\n",
       "    </tr>\n",
       "    <tr>\n",
       "      <th>4</th>\n",
       "      <td>80792.0</td>\n",
       "      <td>1.95</td>\n",
       "      <td>18555</td>\n",
       "      <td>01/01/2025</td>\n",
       "    </tr>\n",
       "  </tbody>\n",
       "</table>\n",
       "</div>"
      ],
      "text/plain": [
       "   from_totally_fake_account  monopoly_money_amount  \\\n",
       "0                    10371.0                   4.00   \n",
       "1                    88339.0                   2.40   \n",
       "2                    18555.0                   2.40   \n",
       "3                    18555.0                   4.10   \n",
       "4                    80792.0                   1.95   \n",
       "\n",
       "  to_randomly_generated_account not_happened_yet_date  \n",
       "0                        CINEMA            01/01/2025  \n",
       "1                         40544            01/01/2025  \n",
       "2                         85149            01/01/2025  \n",
       "3           HIPSTER_COFFEE_SHOP            01/01/2025  \n",
       "4                         18555            01/01/2025  "
      ]
     },
     "execution_count": 3,
     "metadata": {},
     "output_type": "execute_result"
    }
   ],
   "source": [
    "tx_df.head()"
   ]
  },
  {
   "cell_type": "markdown",
   "id": "7ce5b761",
   "metadata": {},
   "source": [
    "### Creating Senders and Receivers List"
   ]
  },
  {
   "cell_type": "code",
   "execution_count": 4,
   "id": "b163b2a6",
   "metadata": {},
   "outputs": [
    {
     "name": "stdout",
     "output_type": "stream",
     "text": [
      "0                        CINEMA\n",
      "1                         40544\n",
      "2                         85149\n",
      "3           HIPSTER_COFFEE_SHOP\n",
      "4                         18555\n",
      "                   ...         \n",
      "10148275            COFFEE_SHOP\n",
      "10148276            COFFEE_SHOP\n",
      "10148277               WINE_BAR\n",
      "10148278                  57569\n",
      "10148279    A_LOCAL_COFFEE_SHOP\n",
      "Name: to_randomly_generated_account, Length: 10148280, dtype: object\n"
     ]
    }
   ],
   "source": [
    "# Creating senders and receivers list\n",
    "senders_list = sorted(tx_df['from_totally_fake_account'])\n",
    "receivers_list = sorted(tx_df['to_randomly_generated_account'])\n",
    "\n",
    "print(tx_df['to_randomly_generated_account'])"
   ]
  },
  {
   "cell_type": "markdown",
   "id": "7311dd1a",
   "metadata": {},
   "source": [
    "## Business Data Extraction and Organization"
   ]
  },
  {
   "cell_type": "code",
   "execution_count": 5,
   "id": "db6556a4",
   "metadata": {},
   "outputs": [],
   "source": [
    "# Creating business and users list\n",
    "receivers_biz_list = []\n",
    "receivers_user_list = []\n",
    "\n",
    "for receiver in receivers_list:\n",
    "    if receiver.isnumeric() == True:\n",
    "        receivers_user_list.append(receiver)\n",
    "    else:\n",
    "        receivers_biz_list.append(receiver)"
   ]
  },
  {
   "cell_type": "code",
   "execution_count": 6,
   "id": "d08cdc7d",
   "metadata": {},
   "outputs": [],
   "source": [
    "unique_senders_list = sorted(list(set(senders_list)))\n",
    "unique_receivers_list = sorted(list(set(receivers_list)))\n",
    "unique_receivers_biz_list = sorted(list(set(receivers_biz_list)))\n",
    "unique_receivers_user_list = sorted(list(set(receivers_user_list)))"
   ]
  },
  {
   "cell_type": "markdown",
   "id": "28eb7854",
   "metadata": {},
   "source": [
    "### Extracting Valuable Business Data"
   ]
  },
  {
   "cell_type": "code",
   "execution_count": 7,
   "id": "78becde7",
   "metadata": {},
   "outputs": [],
   "source": [
    "# Creating business table\n",
    "# Pruning data from original dataframe\n",
    "biz_tx_df = tx_df[tx_df['to_randomly_generated_account'].isin(unique_receivers_biz_list)]\n",
    "biz_tx_df = biz_tx_df.sort_values('to_randomly_generated_account')\n",
    "\n",
    "# Getting list of ordered names\n",
    "biz_name_list = list(biz_tx_df['to_randomly_generated_account'].unique())"
   ]
  },
  {
   "cell_type": "code",
   "execution_count": 8,
   "id": "7caf273e",
   "metadata": {},
   "outputs": [],
   "source": [
    "# Getting Descriptive Stats\n",
    "biz_tx_count = biz_tx_df.groupby('to_randomly_generated_account')['monopoly_money_amount'].count()\n",
    "biz_tx_sum = biz_tx_df.groupby('to_randomly_generated_account')['monopoly_money_amount'].sum()\n",
    "\n",
    "biz_tx_mean = biz_tx_df.groupby('to_randomly_generated_account')['monopoly_money_amount'].mean()\n",
    "biz_tx_median = biz_tx_df.groupby('to_randomly_generated_account')['monopoly_money_amount'].median()"
   ]
  },
  {
   "cell_type": "code",
   "execution_count": 9,
   "id": "6fda25a9",
   "metadata": {},
   "outputs": [],
   "source": [
    "# Needed to count words\n",
    "from collections import Counter\n",
    "\n",
    "# Custom aggregation function for sorted list\n",
    "def sorted_list_agg(input_list):\n",
    "    return sorted(input_list)\n",
    "\n",
    "# Custom aggregation function for sorted unique list\n",
    "def sorted_unique_list_agg(input_list):\n",
    "    return sorted(input_list.unique())\n",
    "\n",
    "def sorted_list_count_agg(input_list):\n",
    "    # Sort the list\n",
    "    input_list = sorted(input_list)\n",
    "    \n",
    "    # Count the frequencies\n",
    "    input_word_freqs = Counter(input_list)\n",
    "    \n",
    "    # Generate the output list\n",
    "    # dict.fromkeys iterates over the words in the order they occur, it ensures the words remain in order\n",
    "    output_list = [input_word_freqs[word_count] for word_count in dict.fromkeys(input_word_freqs)]\n",
    "    \n",
    "    return output_list"
   ]
  },
  {
   "cell_type": "code",
   "execution_count": 10,
   "id": "9e186b43",
   "metadata": {},
   "outputs": [],
   "source": [
    "# Getting Business Sorted Customer Details\n",
    "biz_tx_customers_sorted = biz_tx_df.groupby('to_randomly_generated_account')['from_totally_fake_account'].agg(sorted_list_agg)\n",
    "\n",
    "# Getting Business Unique Sorted Customer Details\n",
    "biz_tx_customers_sorted_unique = biz_tx_df.groupby('to_randomly_generated_account')['from_totally_fake_account'].agg(sorted_unique_list_agg)\n",
    "\n",
    "# Getting Business Sorted Customer Details Count\n",
    "biz_tx_customers_sorted_unique_count = biz_tx_df.groupby('to_randomly_generated_account')['from_totally_fake_account'].agg(sorted_list_count_agg)"
   ]
  },
  {
   "cell_type": "markdown",
   "id": "d641ef4e",
   "metadata": {},
   "source": [
    "### Building Business Dataframes"
   ]
  },
  {
   "cell_type": "code",
   "execution_count": 11,
   "id": "4ee021e7",
   "metadata": {},
   "outputs": [],
   "source": [
    "# Building business accounts table\n",
    "biz_slim_data = {\n",
    "    'name': biz_name_list,\n",
    "    'tx_count': list(biz_tx_count),\n",
    "    'tx_sum_gbp': list(biz_tx_sum),\n",
    "    'tx_mean_gbp': list(biz_tx_mean),\n",
    "    'tx_median_gbp': list(biz_tx_median)\n",
    "}\n",
    "\n",
    "# Building business accounts table\n",
    "biz_large_data = {\n",
    "    'name': biz_name_list,\n",
    "    'tx_count': list(biz_tx_count),\n",
    "    'tx_sum_gbp': list(biz_tx_sum),\n",
    "    'tx_mean_gbp': list(biz_tx_mean),\n",
    "    'tx_median_gbp': list(biz_tx_median),\n",
    "    'customers_sorted_unique': list(biz_tx_customers_sorted_unique),\n",
    "    'customers_tx_count': list(biz_tx_customers_sorted_unique_count)\n",
    "}\n",
    "\n",
    "# Create small dataframe\n",
    "biz_slim_df = pd.DataFrame(biz_slim_data)\n",
    "\n",
    "# Create large dataframe\n",
    "biz_large_df = pd.DataFrame(biz_large_data)"
   ]
  },
  {
   "cell_type": "markdown",
   "id": "fe2ab396",
   "metadata": {},
   "source": [
    "### Categorizing Industries by Data"
   ]
  },
  {
   "cell_type": "code",
   "execution_count": 12,
   "id": "ce86f69b",
   "metadata": {},
   "outputs": [],
   "source": [
    "### Importing Mapping\n",
    "from industryMap import industry_categories\n",
    "\n",
    "# Using the industry_categories dictionary, map each business in the DataFrame to its industry category\n",
    "biz_large_df['industry_category'] = biz_large_df['name'].map(industry_categories)"
   ]
  },
  {
   "cell_type": "code",
   "execution_count": 13,
   "id": "511d2415",
   "metadata": {},
   "outputs": [
    {
     "data": {
      "text/html": [
       "<div>\n",
       "<style scoped>\n",
       "    .dataframe tbody tr th:only-of-type {\n",
       "        vertical-align: middle;\n",
       "    }\n",
       "\n",
       "    .dataframe tbody tr th {\n",
       "        vertical-align: top;\n",
       "    }\n",
       "\n",
       "    .dataframe thead th {\n",
       "        text-align: right;\n",
       "    }\n",
       "</style>\n",
       "<table border=\"1\" class=\"dataframe\">\n",
       "  <thead>\n",
       "    <tr style=\"text-align: right;\">\n",
       "      <th></th>\n",
       "      <th>name</th>\n",
       "      <th>tx_count</th>\n",
       "      <th>tx_sum_gbp</th>\n",
       "      <th>tx_mean_gbp</th>\n",
       "      <th>tx_median_gbp</th>\n",
       "      <th>customers_sorted_unique</th>\n",
       "      <th>customers_tx_count</th>\n",
       "      <th>industry_category</th>\n",
       "    </tr>\n",
       "  </thead>\n",
       "  <tbody>\n",
       "    <tr>\n",
       "      <th>0</th>\n",
       "      <td>ACCESSORY_SHOP</td>\n",
       "      <td>3325</td>\n",
       "      <td>74862.00</td>\n",
       "      <td>22.514887</td>\n",
       "      <td>22.00</td>\n",
       "      <td>[1357.0, 1607.0, 1623.0, 1828.0, 1931.0, 2090....</td>\n",
       "      <td>[6, 10, 10, 5, 14, 6, 6, 7, 7, 5, 11, 9, 9, 9,...</td>\n",
       "      <td>Accessories</td>\n",
       "    </tr>\n",
       "    <tr>\n",
       "      <th>1</th>\n",
       "      <td>A_CAFE</td>\n",
       "      <td>475154</td>\n",
       "      <td>1144734.25</td>\n",
       "      <td>2.409186</td>\n",
       "      <td>2.40</td>\n",
       "      <td>[1000.0, 1002.0, 1006.0, 1053.0, 1059.0, 1071....</td>\n",
       "      <td>[116, 53, 118, 55, 45, 55, 65, 57, 143, 50, 58...</td>\n",
       "      <td>Cafes</td>\n",
       "    </tr>\n",
       "    <tr>\n",
       "      <th>2</th>\n",
       "      <td>A_LOCAL_COFFEE_SHOP</td>\n",
       "      <td>474159</td>\n",
       "      <td>1141932.30</td>\n",
       "      <td>2.408332</td>\n",
       "      <td>2.40</td>\n",
       "      <td>[1000.0, 1002.0, 1006.0, 1018.0, 1053.0, 1059....</td>\n",
       "      <td>[117, 46, 137, 4, 55, 40, 53, 55, 46, 130, 54,...</td>\n",
       "      <td>Cafes</td>\n",
       "    </tr>\n",
       "    <tr>\n",
       "      <th>3</th>\n",
       "      <td>A_SUPERMARKET</td>\n",
       "      <td>81335</td>\n",
       "      <td>5652778.58</td>\n",
       "      <td>69.499952</td>\n",
       "      <td>65.22</td>\n",
       "      <td>[1000.0, 1002.0, 1006.0, 1018.0, 1053.0, 1059....</td>\n",
       "      <td>[2, 5, 16, 15, 3, 5, 4, 18, 16, 10, 11, 7, 4, ...</td>\n",
       "      <td>Supermarkets</td>\n",
       "    </tr>\n",
       "    <tr>\n",
       "      <th>4</th>\n",
       "      <td>BAR</td>\n",
       "      <td>770414</td>\n",
       "      <td>8458081.50</td>\n",
       "      <td>10.978619</td>\n",
       "      <td>11.00</td>\n",
       "      <td>[1000.0, 1002.0, 1006.0, 1018.0, 1053.0, 1059....</td>\n",
       "      <td>[72, 110, 104, 110, 98, 82, 117, 71, 139, 65, ...</td>\n",
       "      <td>Pubs / Bars</td>\n",
       "    </tr>\n",
       "  </tbody>\n",
       "</table>\n",
       "</div>"
      ],
      "text/plain": [
       "                  name  tx_count  tx_sum_gbp  tx_mean_gbp  tx_median_gbp  \\\n",
       "0       ACCESSORY_SHOP      3325    74862.00    22.514887          22.00   \n",
       "1               A_CAFE    475154  1144734.25     2.409186           2.40   \n",
       "2  A_LOCAL_COFFEE_SHOP    474159  1141932.30     2.408332           2.40   \n",
       "3        A_SUPERMARKET     81335  5652778.58    69.499952          65.22   \n",
       "4                  BAR    770414  8458081.50    10.978619          11.00   \n",
       "\n",
       "                             customers_sorted_unique  \\\n",
       "0  [1357.0, 1607.0, 1623.0, 1828.0, 1931.0, 2090....   \n",
       "1  [1000.0, 1002.0, 1006.0, 1053.0, 1059.0, 1071....   \n",
       "2  [1000.0, 1002.0, 1006.0, 1018.0, 1053.0, 1059....   \n",
       "3  [1000.0, 1002.0, 1006.0, 1018.0, 1053.0, 1059....   \n",
       "4  [1000.0, 1002.0, 1006.0, 1018.0, 1053.0, 1059....   \n",
       "\n",
       "                                  customers_tx_count industry_category  \n",
       "0  [6, 10, 10, 5, 14, 6, 6, 7, 7, 5, 11, 9, 9, 9,...       Accessories  \n",
       "1  [116, 53, 118, 55, 45, 55, 65, 57, 143, 50, 58...             Cafes  \n",
       "2  [117, 46, 137, 4, 55, 40, 53, 55, 46, 130, 54,...             Cafes  \n",
       "3  [2, 5, 16, 15, 3, 5, 4, 18, 16, 10, 11, 7, 4, ...      Supermarkets  \n",
       "4  [72, 110, 104, 110, 98, 82, 117, 71, 139, 65, ...       Pubs / Bars  "
      ]
     },
     "execution_count": 13,
     "metadata": {},
     "output_type": "execute_result"
    }
   ],
   "source": [
    "biz_large_df.head()"
   ]
  },
  {
   "cell_type": "code",
   "execution_count": 19,
   "id": "7debfda4",
   "metadata": {},
   "outputs": [],
   "source": [
    "# Saves the dataframes to csv files, in the specific folder\n",
    "biz_slim_df.to_csv('SavedData/biz_slim.csv', index=False)\n",
    "biz_large_df.to_csv('SavedData/biz_large.csv', index=False)"
   ]
  },
  {
   "cell_type": "markdown",
   "id": "ec9487b2",
   "metadata": {},
   "source": [
    "## User Data Extraction and Organization"
   ]
  },
  {
   "cell_type": "code",
   "execution_count": 14,
   "id": "97dfd454",
   "metadata": {},
   "outputs": [],
   "source": [
    "# User List\n",
    "# user_id X\n",
    "\n",
    "# total_tx_count X\n",
    "# gross_tx_sum_gbp X\n",
    "\n",
    "# sent_tx_count X\n",
    "# gross_tx_sent_sum_gbp X\n",
    "# gross_tx_sent_mean X\n",
    "# gross_tx_sent_med X\n",
    "\n",
    "# receive_tx_count X\n",
    "# gross_tx_receive_sum_gbp X\n",
    "# gross_tx_receive_mean X\n",
    "# gross_tx_receive_med X\n",
    "\n",
    "# net_tx_count X\n",
    "# net_tx_sum_gbp X"
   ]
  },
  {
   "cell_type": "markdown",
   "id": "145b1c59",
   "metadata": {},
   "source": [
    "### Create User ID List"
   ]
  },
  {
   "cell_type": "code",
   "execution_count": 15,
   "id": "0a88b5ae",
   "metadata": {},
   "outputs": [],
   "source": [
    "# Combine the unique senders, and unique customer receivers\n",
    "customer_list_combination = unique_senders_list + unique_receivers_user_list\n",
    "\n",
    "# Convert all items to strings of integers\n",
    "# Turned into a set as this removed duplicates\n",
    "# Values are sorted alphabetically\n",
    "customer_unique_list = sorted(set([str(int(cust)) for cust in customer_list_combination]))"
   ]
  },
  {
   "cell_type": "markdown",
   "id": "a0880789",
   "metadata": {},
   "source": [
    "### Create Send Tx Count List"
   ]
  },
  {
   "cell_type": "code",
   "execution_count": 16,
   "id": "ca8436de",
   "metadata": {},
   "outputs": [],
   "source": [
    "# Dictionary featuring all the unique customer id's\n",
    "user_send_tx_count_dict = dict.fromkeys(customer_unique_list, 0)\n",
    "\n",
    "# User send tx's, first converted to int to get rid of decimals, then converted to string\n",
    "user_send_tx_count = tx_df['from_totally_fake_account'].astype(int).astype(str).value_counts()\n",
    "\n",
    "# Setting these values to the values in the dictionary\n",
    "for user in customer_unique_list:\n",
    "    if user in user_send_tx_count:\n",
    "        user_send_tx_count_dict[user] = user_send_tx_count[user]\n",
    "\n",
    "# Converting this to a list\n",
    "user_send_tx_count_list = list(user_send_tx_count_dict.values())"
   ]
  },
  {
   "cell_type": "code",
   "execution_count": 17,
   "id": "13353ec2",
   "metadata": {},
   "outputs": [],
   "source": [
    "# User id checker, for send tx count\n",
    "user_id_tx_checker = '1000' # Have to set to String to see count, have to set integer to see value\n",
    "spec_user_send_tx_count = user_send_tx_count.get(user_id_tx_checker, 0)\n",
    "#print(spec_user_send_tx_count)\n",
    "\n",
    "# Ensuring value is or isn't in list\n",
    "#print(user_id_tx_checker in unique_senders_list)"
   ]
  },
  {
   "cell_type": "markdown",
   "id": "27d6a380",
   "metadata": {},
   "source": [
    "### Create Receive Tx Count List"
   ]
  },
  {
   "cell_type": "code",
   "execution_count": 18,
   "id": "8b3aa636",
   "metadata": {},
   "outputs": [],
   "source": [
    "# Dictionary featuring all the unique customer id's\n",
    "user_receive_tx_count_dict = dict.fromkeys(customer_unique_list, 0)\n",
    "\n",
    "# Creating tx_df that features no company names\n",
    "user_tx_df = tx_df[~tx_df['to_randomly_generated_account'].isin(biz_name_list)]\n",
    "\n",
    "# User send tx's, first converted to int to get rid of decimals, then converted to string\n",
    "user_receive_tx_count = user_tx_df['to_randomly_generated_account'].astype(int).astype(str).value_counts()\n",
    "\n",
    "# Setting these values to the values in the dictionary\n",
    "for user in customer_unique_list:\n",
    "    if user in user_receive_tx_count:\n",
    "        user_receive_tx_count_dict[user] = user_receive_tx_count[user]\n",
    "\n",
    "# Converting this to a list\n",
    "user_received_tx_count_list = list(user_receive_tx_count_dict.values())"
   ]
  },
  {
   "cell_type": "code",
   "execution_count": 19,
   "id": "0cc226bf",
   "metadata": {},
   "outputs": [],
   "source": [
    "# User id checker, for send tx count\n",
    "user_id_tx_checker = 100384 # Have to set to String to see count, have to set integer to see value\n",
    "spec_receive_send_tx_count = user_receive_tx_count.get(user_id_tx_checker, 0)\n",
    "#print(spec_receive_send_tx_count)\n",
    "\n",
    "# Ensuring value is or isn't in list\n",
    "#print(user_id_tx_checker in unique_receivers_list)"
   ]
  },
  {
   "cell_type": "markdown",
   "id": "be846832",
   "metadata": {},
   "source": [
    "### Create Total Tx Count List"
   ]
  },
  {
   "cell_type": "code",
   "execution_count": 20,
   "id": "828b7e91",
   "metadata": {},
   "outputs": [],
   "source": [
    "user_total_tx_count_dict = {}\n",
    "\n",
    "for user in user_send_tx_count_dict:\n",
    "    user_total_tx_count_dict[user] =  user_send_tx_count_dict[user] + user_receive_tx_count_dict[user]\n",
    "\n",
    "user_total_tx_count_list = list(user_total_tx_count_dict.values())"
   ]
  },
  {
   "cell_type": "markdown",
   "id": "be805d21",
   "metadata": {},
   "source": [
    "### Create Net Tx Count List"
   ]
  },
  {
   "cell_type": "code",
   "execution_count": 21,
   "id": "48f66055",
   "metadata": {},
   "outputs": [],
   "source": [
    "user_net_tx_count_dict = {}\n",
    "\n",
    "for user in user_send_tx_count_dict:\n",
    "    user_net_tx_count_dict[user] =  user_send_tx_count_dict[user] - user_receive_tx_count_dict[user]\n",
    "\n",
    "user_net_tx_count_list = list(user_net_tx_count_dict.values())"
   ]
  },
  {
   "cell_type": "markdown",
   "id": "51c48316",
   "metadata": {},
   "source": [
    "### Gross Tx Sent Sum GBP"
   ]
  },
  {
   "cell_type": "code",
   "execution_count": 22,
   "id": "c7672335",
   "metadata": {},
   "outputs": [],
   "source": [
    "# Groups the user with all the entries in which they have sent money\n",
    "# The \".sum()\" adds up all these entries\n",
    "grouped_user_id_sent = tx_df.groupby('from_totally_fake_account')['monopoly_money_amount'].sum()\n",
    "\n",
    "# Convert the user id to int to get rid of zero, then to string\n",
    "grouped_user_id_sent.index = grouped_user_id_sent.index.astype(int).astype(str)\n",
    "\n",
    "# Dictionary featuring all the unique customer id's\n",
    "user_sent_tx_sum_dict = dict.fromkeys(customer_unique_list, 0)\n",
    "\n",
    "# Setting these values to the values in the dictionary\n",
    "for user in customer_unique_list:\n",
    "    if user in grouped_user_id_sent:\n",
    "        user_sent_tx_sum_dict[user] = grouped_user_id_sent[user]\n",
    "\n",
    "# Converting this to a list\n",
    "user_sent_tx_sum_list = list(user_sent_tx_sum_dict.values())"
   ]
  },
  {
   "cell_type": "markdown",
   "id": "a17148b7",
   "metadata": {},
   "source": [
    "### Gross Tx Receive Sum GBP"
   ]
  },
  {
   "cell_type": "code",
   "execution_count": 23,
   "id": "1f976519",
   "metadata": {},
   "outputs": [],
   "source": [
    "# Gets the tx_df, filters the dataframe for only rows with business accounts, and putting '~' in front does the reverse\n",
    "user_tx_df = tx_df[~tx_df['to_randomly_generated_account'].isin(biz_name_list)]\n",
    "\n",
    "# Same piece of code used in previous cell, but now finding received money\n",
    "grouped_user_id_received = user_tx_df.groupby('to_randomly_generated_account')['monopoly_money_amount'].sum()\n",
    "\n",
    "# Convert the user id to int to get rid of zero, then to string\n",
    "grouped_user_id_received.index = grouped_user_id_received.index.astype(int).astype(str)\n",
    "\n",
    "# Dictionary featuring all the unique customer id's\n",
    "user_received_tx_sum_dict = dict.fromkeys(customer_unique_list, 0)\n",
    "\n",
    "# Setting these values to the values in the dictionary\n",
    "for user in customer_unique_list:\n",
    "    if user in grouped_user_id_received:\n",
    "        user_received_tx_sum_dict[user] = grouped_user_id_received[user]\n",
    "\n",
    "# Converting this to a list\n",
    "user_received_tx_sum_list = list(user_received_tx_sum_dict.values())"
   ]
  },
  {
   "cell_type": "markdown",
   "id": "fbde315d",
   "metadata": {},
   "source": [
    "### Gross Tx Sum GBP"
   ]
  },
  {
   "cell_type": "code",
   "execution_count": 24,
   "id": "47ef1a0a",
   "metadata": {},
   "outputs": [],
   "source": [
    "user_total_tx_sum_dict = {}\n",
    "\n",
    "for user in user_sent_tx_sum_dict:\n",
    "    user_total_tx_sum_dict[user] =  user_sent_tx_sum_dict[user] + user_received_tx_sum_dict[user]\n",
    "\n",
    "user_total_tx_sum_list = list(user_total_tx_sum_dict.values())\n",
    "#print(user_total_tx_sum_list)"
   ]
  },
  {
   "cell_type": "markdown",
   "id": "9230a111",
   "metadata": {},
   "source": [
    "### Net Tx Sum GBP"
   ]
  },
  {
   "cell_type": "code",
   "execution_count": 25,
   "id": "4161307e",
   "metadata": {},
   "outputs": [],
   "source": [
    "user_net_tx_sum_dict = {}\n",
    "\n",
    "for user in user_sent_tx_sum_dict:\n",
    "    user_net_tx_sum_dict[user] =  user_sent_tx_sum_dict[user] - user_received_tx_sum_dict[user]\n",
    "\n",
    "user_net_tx_sum_list = list(user_net_tx_sum_dict.values())\n",
    "#print(user_net_tx_sum_list)"
   ]
  },
  {
   "cell_type": "markdown",
   "id": "127a1512",
   "metadata": {},
   "source": [
    "### Gross Tx Sent Mean GBP"
   ]
  },
  {
   "cell_type": "code",
   "execution_count": 26,
   "id": "8b95d0b1",
   "metadata": {},
   "outputs": [],
   "source": [
    "# Groups the user with all the entries in which they have sent money\n",
    "# The \".sum()\" adds up all these entries\n",
    "grouped_user_id_sent_mean = biz_tx_df.groupby('from_totally_fake_account')['monopoly_money_amount'].mean()\n",
    "\n",
    "# Convert the user id to int to get rid of zero, then to string\n",
    "grouped_user_id_sent_mean.index = grouped_user_id_sent_mean.index.astype(int).astype(str)\n",
    "\n",
    "# Dictionary featuring all the unique customer id's\n",
    "user_sent_tx_mean_dict = dict.fromkeys(customer_unique_list, 0)\n",
    "\n",
    "# Setting these values to the values in the dictionary\n",
    "for user in customer_unique_list:\n",
    "    if user in grouped_user_id_sent_mean:\n",
    "        user_sent_tx_mean_dict[user] = grouped_user_id_sent_mean[user]\n",
    "\n",
    "# Converting this to a list\n",
    "user_sent_tx_mean_list = list(user_sent_tx_mean_dict.values())"
   ]
  },
  {
   "cell_type": "markdown",
   "id": "8cade973",
   "metadata": {},
   "source": [
    "### Gross Tx Sent Median GBP"
   ]
  },
  {
   "cell_type": "code",
   "execution_count": 27,
   "id": "edde95a9",
   "metadata": {},
   "outputs": [],
   "source": [
    "# Groups the user with all the entries in which they have sent money\n",
    "# The \".sum()\" adds up all these entries\n",
    "grouped_user_id_sent_median = tx_df.groupby('from_totally_fake_account')['monopoly_money_amount'].median()\n",
    "\n",
    "# Convert the user id to int to get rid of zero, then to string\n",
    "grouped_user_id_sent_median.index = grouped_user_id_sent_median.index.astype(int).astype(str)\n",
    "\n",
    "# Dictionary featuring all the unique customer id's\n",
    "user_sent_tx_median_dict = dict.fromkeys(customer_unique_list, 0)\n",
    "\n",
    "# Setting these values to the values in the dictionary\n",
    "for user in customer_unique_list:\n",
    "    if user in grouped_user_id_sent_median:\n",
    "        user_sent_tx_median_dict[user] = grouped_user_id_sent_median[user]\n",
    "\n",
    "# Converting this to a list\n",
    "user_sent_tx_median_list = list(user_sent_tx_median_dict.values())"
   ]
  },
  {
   "cell_type": "markdown",
   "id": "c48db54b",
   "metadata": {},
   "source": [
    "### Gross Tx Received Mean GBP"
   ]
  },
  {
   "cell_type": "code",
   "execution_count": 28,
   "id": "52acd26c",
   "metadata": {},
   "outputs": [],
   "source": [
    "# Groups the user with all the entries in which they have sent money\n",
    "# The \".sum()\" adds up all these entries\n",
    "grouped_user_id_received_mean = user_tx_df.groupby('to_randomly_generated_account')['monopoly_money_amount'].mean()\n",
    "\n",
    "# Convert the user id to int to get rid of zero, then to string\n",
    "grouped_user_id_received_mean.index = grouped_user_id_received_mean.index.astype(int).astype(str)\n",
    "\n",
    "# Dictionary featuring all the unique customer id's\n",
    "user_received_tx_mean_dict = dict.fromkeys(customer_unique_list, 0)\n",
    "\n",
    "# Setting these values to the values in the dictionary\n",
    "for user in customer_unique_list:\n",
    "    if user in grouped_user_id_received_mean:\n",
    "        user_received_tx_mean_dict[user] = grouped_user_id_received_mean[user]\n",
    "\n",
    "# Converting this to a list\n",
    "user_received_tx_mean_list = list(user_received_tx_mean_dict.values())"
   ]
  },
  {
   "cell_type": "markdown",
   "id": "b04067da",
   "metadata": {},
   "source": [
    "### Gross Tx Received Mean GBP"
   ]
  },
  {
   "cell_type": "code",
   "execution_count": 29,
   "id": "57d7ef99",
   "metadata": {},
   "outputs": [],
   "source": [
    "# Groups the user with all the entries in which they have sent money\n",
    "# The \".sum()\" adds up all these entries\n",
    "grouped_user_id_received_median = user_tx_df.groupby('from_totally_fake_account')['monopoly_money_amount'].median()\n",
    "\n",
    "# Convert the user id to int to get rid of zero, then to string\n",
    "grouped_user_id_received_median.index = grouped_user_id_received_median.index.astype(int).astype(str)\n",
    "\n",
    "# Dictionary featuring all the unique customer id's\n",
    "user_received_tx_median_dict = dict.fromkeys(customer_unique_list, 0)\n",
    "\n",
    "# Setting these values to the values in the dictionary\n",
    "for user in customer_unique_list:\n",
    "    if user in grouped_user_id_received_median:\n",
    "        user_received_tx_median_dict[user] = grouped_user_id_received_median[user]\n",
    "\n",
    "# Converting this to a list\n",
    "user_received_tx_median_list = list(user_received_tx_median_dict.values())"
   ]
  },
  {
   "cell_type": "markdown",
   "id": "f7923c0d",
   "metadata": {},
   "source": [
    "### User Business Interaction Lists"
   ]
  },
  {
   "cell_type": "code",
   "execution_count": 30,
   "id": "15bc2a2c",
   "metadata": {},
   "outputs": [],
   "source": [
    "# Businesses users interacted with\n",
    "# Dictionary featuring all the unique customer id's\n",
    "user_biz_interaction_dict = dict.fromkeys(customer_unique_list, [])\n",
    "\n",
    "grouped_user_id_biz_interaction = biz_tx_df.groupby('from_totally_fake_account')['to_randomly_generated_account'].agg(lambda x: sorted(list(set(x))))\n",
    "\n",
    "# Convert the user id to int to get rid of zero, then to string\n",
    "grouped_user_id_biz_interaction.index = grouped_user_id_biz_interaction.index.astype(int).astype(str)\n",
    "\n",
    "grouped_user_id_biz_interaction_dict = grouped_user_id_biz_interaction.to_dict()\n",
    "\n",
    "# Setting these values to the values in the dictionary\n",
    "for user in grouped_user_id_biz_interaction_dict:\n",
    "    if user in user_biz_interaction_dict:\n",
    "        user_biz_interaction_dict[user] = grouped_user_id_biz_interaction_dict[user]\n",
    "        \n",
    "# Converting this to a list\n",
    "user_biz_interaction_list = list(user_biz_interaction_dict.values())"
   ]
  },
  {
   "cell_type": "markdown",
   "id": "b8138196",
   "metadata": {},
   "source": [
    "### User Business Interaction Frequency Lists"
   ]
  },
  {
   "cell_type": "code",
   "execution_count": 31,
   "id": "ff61c1a1",
   "metadata": {},
   "outputs": [],
   "source": [
    "# Businesses users interacted with frequency\n",
    "# Dictionary featuring all the unique customer id's\n",
    "user_biz_freq_interaction_dict = dict.fromkeys(customer_unique_list, [])\n",
    "\n",
    "grouped_user_id_biz_freq_interaction = biz_tx_df.groupby('from_totally_fake_account')['to_randomly_generated_account'].agg(lambda x: sorted(list(x)))\n",
    "\n",
    "# Convert the user id to int to get rid of zero, then to string\n",
    "grouped_user_id_biz_freq_interaction.index = grouped_user_id_biz_freq_interaction.index.astype(int).astype(str)\n",
    "\n",
    "grouped_user_id_biz_freq_interaction = grouped_user_id_biz_freq_interaction.apply(sorted_list_count_agg)\n",
    "\n",
    "grouped_user_id_biz_freq_interaction_dict = grouped_user_id_biz_freq_interaction.to_dict()\n",
    "\n",
    "# Setting these values to the values in the dictionary\n",
    "for user in grouped_user_id_biz_freq_interaction_dict:\n",
    "    if user in user_biz_freq_interaction_dict:\n",
    "        user_biz_freq_interaction_dict[user] = grouped_user_id_biz_freq_interaction_dict[user]\n",
    "        \n",
    "# Converting this to a list\n",
    "user_biz_freq_interaction_list = list(user_biz_freq_interaction_dict.values())"
   ]
  },
  {
   "cell_type": "markdown",
   "id": "0f414758",
   "metadata": {},
   "source": [
    "### User User Interaction Lists"
   ]
  },
  {
   "cell_type": "code",
   "execution_count": 32,
   "id": "0cf2527f",
   "metadata": {},
   "outputs": [],
   "source": [
    "# Users users interacted with frequency\n",
    "# Dictionary featuring all the unique customer id's\n",
    "user_user_interaction_dict = dict.fromkeys(customer_unique_list, [])\n",
    "\n",
    "grouped_user_user_interaction = user_tx_df.groupby('from_totally_fake_account')['to_randomly_generated_account'].agg(lambda x: sorted([str(int(item)) for item in set(x)]))\n",
    "\n",
    "# Convert the user id to int to get rid of zero, then to string\n",
    "grouped_user_user_interaction.index = grouped_user_user_interaction.index.astype(int).astype(str)\n",
    "\n",
    "grouped_user_user_interaction_dict = grouped_user_user_interaction.to_dict()\n",
    "\n",
    "# Setting these values to the values in the dictionary\n",
    "for user in grouped_user_user_interaction_dict:\n",
    "    if user in user_user_interaction_dict:\n",
    "        user_user_interaction_dict[user] = grouped_user_user_interaction_dict[user]\n",
    "        \n",
    "# Converting this to a list\n",
    "user_user_interaction_list = list(user_user_interaction_dict.values())"
   ]
  },
  {
   "cell_type": "markdown",
   "id": "dbcd6e60",
   "metadata": {},
   "source": [
    "### User User Interaction Frequency Lists"
   ]
  },
  {
   "cell_type": "code",
   "execution_count": 33,
   "id": "e89f29d1",
   "metadata": {},
   "outputs": [],
   "source": [
    "# Businesses users interacted with frequency\n",
    "# Dictionary featuring all the unique customer id's\n",
    "user_user_freq_interaction_dict = dict.fromkeys(customer_unique_list, [])\n",
    "\n",
    "grouped_user_user_freq_interaction = user_tx_df.groupby('from_totally_fake_account')['to_randomly_generated_account'].agg(lambda x: sorted(list(x)))\n",
    "\n",
    "# Convert the user id to int to get rid of zero, then to string\n",
    "grouped_user_user_freq_interaction.index = grouped_user_user_freq_interaction.index.astype(int).astype(str)\n",
    "\n",
    "grouped_user_user_freq_interaction = grouped_user_user_freq_interaction.apply(sorted_list_count_agg)\n",
    "\n",
    "grouped_user_user_freq_interaction_dict = grouped_user_user_freq_interaction.to_dict()\n",
    "\n",
    "# Setting these values to the values in the dictionary\n",
    "for user in grouped_user_user_freq_interaction_dict:\n",
    "    if user in user_user_freq_interaction_dict:\n",
    "        user_user_freq_interaction_dict[user] = grouped_user_user_freq_interaction_dict[user]\n",
    "        \n",
    "# Converting this to a list\n",
    "user_user_freq_interaction_list = list(user_user_freq_interaction_dict.values())"
   ]
  },
  {
   "cell_type": "markdown",
   "id": "257f23a1",
   "metadata": {},
   "source": [
    "### User Industry Interaction Lists"
   ]
  },
  {
   "cell_type": "code",
   "execution_count": 39,
   "id": "f02f43b2",
   "metadata": {},
   "outputs": [],
   "source": [
    "# Add industry column to tx_df\n",
    "def tx_df_industry_mapping(key):\n",
    "    if key in industry_categories:\n",
    "        return industry_categories[key]\n",
    "    else:  # All values not in industry_categories are set to user\n",
    "        return 'User'\n",
    "    \n",
    "# Apply the mapping\n",
    "tx_df['industry_category'] = tx_df['to_randomly_generated_account'].apply(tx_df_industry_mapping)"
   ]
  },
  {
   "cell_type": "code",
   "execution_count": 47,
   "id": "346e6d70",
   "metadata": {},
   "outputs": [],
   "source": [
    "# Industries users interacted with\n",
    "# Dictionary featuring all the unique customer id's\n",
    "user_industry_interaction_dict = dict.fromkeys(customer_unique_list, [])\n",
    "\n",
    "grouped_user_industry_interaction = tx_df.groupby('from_totally_fake_account')['industry_category'].agg(lambda x: sorted(list(set(x))))\n",
    "\n",
    "# Convert the user id to int to get rid of zero, then to string\n",
    "grouped_user_industry_interaction.index = grouped_user_industry_interaction.index.astype(int).astype(str)\n",
    "\n",
    "grouped_user_industry_interaction_dict = grouped_user_industry_interaction.to_dict()\n",
    "\n",
    "# Setting these values to the values in the dictionary\n",
    "for user in grouped_user_industry_interaction_dict:\n",
    "    if user in user_industry_interaction_dict:\n",
    "        user_industry_interaction_dict[user] = grouped_user_industry_interaction_dict[user]\n",
    "        \n",
    "# Converting this to a list\n",
    "user_industry_interaction_list = list(user_industry_interaction_dict.values())"
   ]
  },
  {
   "cell_type": "markdown",
   "id": "d7e453b6",
   "metadata": {},
   "source": [
    "### User Industry Interaction Frequency Lists"
   ]
  },
  {
   "cell_type": "code",
   "execution_count": 51,
   "id": "2106fc3b",
   "metadata": {},
   "outputs": [],
   "source": [
    "# Indsutries users interacted with frequency\n",
    "# Dictionary featuring all the unique customer id's\n",
    "user_industry_freq_interaction_dict = dict.fromkeys(customer_unique_list, [])\n",
    "\n",
    "grouped_user_industry_freq_interaction = tx_df.groupby('from_totally_fake_account')['industry_category'].agg(lambda x: sorted(list(x)))\n",
    "\n",
    "# Convert the user id to int to get rid of zero, then to string\n",
    "grouped_user_industry_freq_interaction.index = grouped_user_industry_freq_interaction.index.astype(int).astype(str)\n",
    "\n",
    "grouped_user_industry_freq_interaction = grouped_user_industry_freq_interaction.apply(sorted_list_count_agg)\n",
    "\n",
    "grouped_user_industry_freq_interaction_dict = grouped_user_industry_freq_interaction.to_dict()\n",
    "\n",
    "# Setting these values to the values in the dictionary\n",
    "for user in grouped_user_industry_freq_interaction_dict:\n",
    "    if user in user_industry_freq_interaction_dict:\n",
    "        user_industry_freq_interaction_dict[user] = grouped_user_industry_freq_interaction_dict[user]\n",
    "        \n",
    "# Converting this to a list\n",
    "user_industry_freq_interaction_list = list(user_industry_freq_interaction_dict.values())"
   ]
  },
  {
   "cell_type": "markdown",
   "id": "0fe70603",
   "metadata": {},
   "source": [
    "## Building the User Dataframe"
   ]
  },
  {
   "cell_type": "code",
   "execution_count": 56,
   "id": "6417e145",
   "metadata": {},
   "outputs": [],
   "source": [
    "user_slim_data = {\n",
    "    'user_id': customer_unique_list,\n",
    "    'sent_tx_count': user_send_tx_count_list,\n",
    "    'sent_tx_sum_gbp': user_sent_tx_sum_list,\n",
    "    'sent_tx_median_gbp': user_sent_tx_median_list,\n",
    "    'received_tx_count': user_received_tx_count_list,\n",
    "    'received_tx_sum_gbp': user_received_tx_sum_list,\n",
    "    'received_tx_median_gbp': user_received_tx_median_list\n",
    "    \n",
    "}\n",
    "\n",
    "user_large_data = {\n",
    "    'user_id': customer_unique_list,\n",
    "    'total_tx_count': user_total_tx_count_list,\n",
    "    'net_tx_count': user_net_tx_count_list,\n",
    "    'total_tx_sum_gbp': user_total_tx_sum_list,\n",
    "    'net_tx_sum_gbp': user_net_tx_sum_list,\n",
    "    'sent_tx_count': user_send_tx_count_list,\n",
    "    'sent_tx_sum_gbp': user_sent_tx_sum_list,\n",
    "    'sent_tx_mean_gbp': user_sent_tx_mean_list,\n",
    "    'sent_tx_median_gbp': user_sent_tx_median_list,\n",
    "    'received_tx_count': user_received_tx_count_list,\n",
    "    'received_tx_sum_gbp': user_received_tx_sum_list,\n",
    "    'received_tx_mean_gbp': user_received_tx_mean_list,\n",
    "    'received_tx_median_gbp': user_received_tx_median_list,\n",
    "    'user_biz_interaction': user_biz_interaction_list,\n",
    "    'user_biz_interaction_frequency': user_biz_freq_interaction_list,\n",
    "    'user_user_interaction': user_user_interaction_list,\n",
    "    'user_user_interaction_frequency': user_user_freq_interaction_list,\n",
    "    'user_industry_interaction': user_industry_interaction_list,\n",
    "    'user_industry_interaction_frequency': user_industry_freq_interaction_list\n",
    "    \n",
    "    \n",
    "}\n",
    "\n",
    "# Create small dataframe\n",
    "user_slim_df = pd.DataFrame(user_slim_data)\n",
    "\n",
    "# Create large dataframe\n",
    "user_large_df = pd.DataFrame(user_large_data)"
   ]
  },
  {
   "cell_type": "code",
   "execution_count": 57,
   "id": "500b7981",
   "metadata": {},
   "outputs": [
    {
     "data": {
      "text/html": [
       "<div>\n",
       "<style scoped>\n",
       "    .dataframe tbody tr th:only-of-type {\n",
       "        vertical-align: middle;\n",
       "    }\n",
       "\n",
       "    .dataframe tbody tr th {\n",
       "        vertical-align: top;\n",
       "    }\n",
       "\n",
       "    .dataframe thead th {\n",
       "        text-align: right;\n",
       "    }\n",
       "</style>\n",
       "<table border=\"1\" class=\"dataframe\">\n",
       "  <thead>\n",
       "    <tr style=\"text-align: right;\">\n",
       "      <th></th>\n",
       "      <th>user_id</th>\n",
       "      <th>total_tx_count</th>\n",
       "      <th>net_tx_count</th>\n",
       "      <th>total_tx_sum_gbp</th>\n",
       "      <th>net_tx_sum_gbp</th>\n",
       "      <th>sent_tx_count</th>\n",
       "      <th>sent_tx_sum_gbp</th>\n",
       "      <th>sent_tx_mean_gbp</th>\n",
       "      <th>sent_tx_median_gbp</th>\n",
       "      <th>received_tx_count</th>\n",
       "      <th>received_tx_sum_gbp</th>\n",
       "      <th>received_tx_mean_gbp</th>\n",
       "      <th>received_tx_median_gbp</th>\n",
       "      <th>user_biz_interaction</th>\n",
       "      <th>user_biz_interaction_frequency</th>\n",
       "      <th>user_user_interaction</th>\n",
       "      <th>user_user_interaction_frequency</th>\n",
       "      <th>user_industry_interaction</th>\n",
       "      <th>user_industry_interaction_frequency</th>\n",
       "    </tr>\n",
       "  </thead>\n",
       "  <tbody>\n",
       "    <tr>\n",
       "      <th>0</th>\n",
       "      <td>1000</td>\n",
       "      <td>1903</td>\n",
       "      <td>1517</td>\n",
       "      <td>37720.11</td>\n",
       "      <td>19676.91</td>\n",
       "      <td>1710</td>\n",
       "      <td>28698.51</td>\n",
       "      <td>7.854277</td>\n",
       "      <td>4.5</td>\n",
       "      <td>193</td>\n",
       "      <td>9021.60</td>\n",
       "      <td>46.744041</td>\n",
       "      <td>5.5</td>\n",
       "      <td>[A_CAFE, A_LOCAL_COFFEE_SHOP, A_SUPERMARKET, B...</td>\n",
       "      <td>[116, 117, 2, 72, 5, 9, 19, 1, 35, 119, 1, 2, ...</td>\n",
       "      <td>[16354, 18013, 30208, 31489, 36647, 38289, 411...</td>\n",
       "      <td>[55, 14, 6, 12, 1, 14, 5, 14, 1, 18, 21, 1, 27...</td>\n",
       "      <td>[Alcohol, Apparel, Books, Cafes, Children, Cof...</td>\n",
       "      <td>[2, 1, 1, 808, 2, 3, 37, 1, 7, 2, 35, 21, 353,...</td>\n",
       "    </tr>\n",
       "    <tr>\n",
       "      <th>1</th>\n",
       "      <td>10000</td>\n",
       "      <td>1114</td>\n",
       "      <td>720</td>\n",
       "      <td>21360.39</td>\n",
       "      <td>18944.39</td>\n",
       "      <td>917</td>\n",
       "      <td>20152.39</td>\n",
       "      <td>21.372710</td>\n",
       "      <td>11.0</td>\n",
       "      <td>197</td>\n",
       "      <td>1208.00</td>\n",
       "      <td>6.131980</td>\n",
       "      <td>6.0</td>\n",
       "      <td>[A_CAFE, A_LOCAL_COFFEE_SHOP, A_SUPERMARKET, B...</td>\n",
       "      <td>[6, 1, 16, 71, 59, 3, 9, 7, 33, 2, 22, 7, 9, 2...</td>\n",
       "      <td>[15896, 28620, 33124, 33732, 34123, 5277, 5439...</td>\n",
       "      <td>[39, 49, 1, 19, 10, 9, 59, 17, 29, 22, 19, 13]</td>\n",
       "      <td>[Alcohol, Apparel, Books, Cafes, Coffee Beans ...</td>\n",
       "      <td>[1, 23, 34, 20, 1, 51, 2, 1, 17, 312, 119, 3, ...</td>\n",
       "    </tr>\n",
       "    <tr>\n",
       "      <th>2</th>\n",
       "      <td>100000</td>\n",
       "      <td>1919</td>\n",
       "      <td>1433</td>\n",
       "      <td>23455.27</td>\n",
       "      <td>20720.37</td>\n",
       "      <td>1676</td>\n",
       "      <td>22087.82</td>\n",
       "      <td>11.567202</td>\n",
       "      <td>4.5</td>\n",
       "      <td>243</td>\n",
       "      <td>1367.45</td>\n",
       "      <td>5.627366</td>\n",
       "      <td>6.0</td>\n",
       "      <td>[ACCESSORY_SHOP, A_CAFE, A_LOCAL_COFFEE_SHOP, ...</td>\n",
       "      <td>[5, 106, 129, 16, 95, 5, 11, 1, 122, 20, 1, 5,...</td>\n",
       "      <td>[12753, 24398, 24951, 28719, 34678, 39736, 489...</td>\n",
       "      <td>[19, 14, 24, 54, 17, 21, 6, 19, 9, 30, 27, 30,...</td>\n",
       "      <td>[Accessories, Alcohol, Apparel, Cafes, Coffee ...</td>\n",
       "      <td>[15, 6, 1, 823, 10, 58, 5, 2, 23, 1, 334, 65, ...</td>\n",
       "    </tr>\n",
       "    <tr>\n",
       "      <th>3</th>\n",
       "      <td>100002</td>\n",
       "      <td>1561</td>\n",
       "      <td>1233</td>\n",
       "      <td>22393.96</td>\n",
       "      <td>20303.16</td>\n",
       "      <td>1397</td>\n",
       "      <td>21348.56</td>\n",
       "      <td>13.390346</td>\n",
       "      <td>4.5</td>\n",
       "      <td>164</td>\n",
       "      <td>1045.40</td>\n",
       "      <td>6.374390</td>\n",
       "      <td>6.0</td>\n",
       "      <td>[A_CAFE, A_LOCAL_COFFEE_SHOP, A_SUPERMARKET, B...</td>\n",
       "      <td>[50, 59, 18, 155, 1, 48, 1, 4, 26, 9, 14, 58, ...</td>\n",
       "      <td>[10432, 14001, 3296, 37438, 37918, 46953, 5047...</td>\n",
       "      <td>[8, 1, 5, 1, 6, 10, 11, 7, 27, 2, 2, 1, 17, 4,...</td>\n",
       "      <td>[Alcohol, Apparel, Books, Cafes, Children, Cof...</td>\n",
       "      <td>[7, 32, 2, 233, 2, 3, 33, 4, 2, 10, 317, 511, ...</td>\n",
       "    </tr>\n",
       "    <tr>\n",
       "      <th>4</th>\n",
       "      <td>100019</td>\n",
       "      <td>1157</td>\n",
       "      <td>719</td>\n",
       "      <td>44632.75</td>\n",
       "      <td>16232.85</td>\n",
       "      <td>938</td>\n",
       "      <td>30432.80</td>\n",
       "      <td>20.213062</td>\n",
       "      <td>9.0</td>\n",
       "      <td>219</td>\n",
       "      <td>14199.95</td>\n",
       "      <td>64.839954</td>\n",
       "      <td>6.0</td>\n",
       "      <td>[A_CAFE, A_LOCAL_COFFEE_SHOP, A_SUPERMARKET, B...</td>\n",
       "      <td>[50, 54, 15, 91, 1, 1, 2, 11, 1, 9, 7, 68, 9, ...</td>\n",
       "      <td>[22634, 38580, 40565, 44911, 61350, 62299, 626...</td>\n",
       "      <td>[21, 33, 18, 4, 24, 11, 28, 25, 27, 58]</td>\n",
       "      <td>[Alcohol, Apparel, Books, Cafes, Children, Cof...</td>\n",
       "      <td>[1, 25, 1, 213, 4, 1, 38, 1, 13, 13, 314, 1, 6...</td>\n",
       "    </tr>\n",
       "  </tbody>\n",
       "</table>\n",
       "</div>"
      ],
      "text/plain": [
       "  user_id  total_tx_count  net_tx_count  total_tx_sum_gbp  net_tx_sum_gbp  \\\n",
       "0    1000            1903          1517          37720.11        19676.91   \n",
       "1   10000            1114           720          21360.39        18944.39   \n",
       "2  100000            1919          1433          23455.27        20720.37   \n",
       "3  100002            1561          1233          22393.96        20303.16   \n",
       "4  100019            1157           719          44632.75        16232.85   \n",
       "\n",
       "   sent_tx_count  sent_tx_sum_gbp  sent_tx_mean_gbp  sent_tx_median_gbp  \\\n",
       "0           1710         28698.51          7.854277                 4.5   \n",
       "1            917         20152.39         21.372710                11.0   \n",
       "2           1676         22087.82         11.567202                 4.5   \n",
       "3           1397         21348.56         13.390346                 4.5   \n",
       "4            938         30432.80         20.213062                 9.0   \n",
       "\n",
       "   received_tx_count  received_tx_sum_gbp  received_tx_mean_gbp  \\\n",
       "0                193              9021.60             46.744041   \n",
       "1                197              1208.00              6.131980   \n",
       "2                243              1367.45              5.627366   \n",
       "3                164              1045.40              6.374390   \n",
       "4                219             14199.95             64.839954   \n",
       "\n",
       "   received_tx_median_gbp                               user_biz_interaction  \\\n",
       "0                     5.5  [A_CAFE, A_LOCAL_COFFEE_SHOP, A_SUPERMARKET, B...   \n",
       "1                     6.0  [A_CAFE, A_LOCAL_COFFEE_SHOP, A_SUPERMARKET, B...   \n",
       "2                     6.0  [ACCESSORY_SHOP, A_CAFE, A_LOCAL_COFFEE_SHOP, ...   \n",
       "3                     6.0  [A_CAFE, A_LOCAL_COFFEE_SHOP, A_SUPERMARKET, B...   \n",
       "4                     6.0  [A_CAFE, A_LOCAL_COFFEE_SHOP, A_SUPERMARKET, B...   \n",
       "\n",
       "                      user_biz_interaction_frequency  \\\n",
       "0  [116, 117, 2, 72, 5, 9, 19, 1, 35, 119, 1, 2, ...   \n",
       "1  [6, 1, 16, 71, 59, 3, 9, 7, 33, 2, 22, 7, 9, 2...   \n",
       "2  [5, 106, 129, 16, 95, 5, 11, 1, 122, 20, 1, 5,...   \n",
       "3  [50, 59, 18, 155, 1, 48, 1, 4, 26, 9, 14, 58, ...   \n",
       "4  [50, 54, 15, 91, 1, 1, 2, 11, 1, 9, 7, 68, 9, ...   \n",
       "\n",
       "                               user_user_interaction  \\\n",
       "0  [16354, 18013, 30208, 31489, 36647, 38289, 411...   \n",
       "1  [15896, 28620, 33124, 33732, 34123, 5277, 5439...   \n",
       "2  [12753, 24398, 24951, 28719, 34678, 39736, 489...   \n",
       "3  [10432, 14001, 3296, 37438, 37918, 46953, 5047...   \n",
       "4  [22634, 38580, 40565, 44911, 61350, 62299, 626...   \n",
       "\n",
       "                     user_user_interaction_frequency  \\\n",
       "0  [55, 14, 6, 12, 1, 14, 5, 14, 1, 18, 21, 1, 27...   \n",
       "1     [39, 49, 1, 19, 10, 9, 59, 17, 29, 22, 19, 13]   \n",
       "2  [19, 14, 24, 54, 17, 21, 6, 19, 9, 30, 27, 30,...   \n",
       "3  [8, 1, 5, 1, 6, 10, 11, 7, 27, 2, 2, 1, 17, 4,...   \n",
       "4            [21, 33, 18, 4, 24, 11, 28, 25, 27, 58]   \n",
       "\n",
       "                           user_industry_interaction  \\\n",
       "0  [Alcohol, Apparel, Books, Cafes, Children, Cof...   \n",
       "1  [Alcohol, Apparel, Books, Cafes, Coffee Beans ...   \n",
       "2  [Accessories, Alcohol, Apparel, Cafes, Coffee ...   \n",
       "3  [Alcohol, Apparel, Books, Cafes, Children, Cof...   \n",
       "4  [Alcohol, Apparel, Books, Cafes, Children, Cof...   \n",
       "\n",
       "                 user_industry_interaction_frequency  \n",
       "0  [2, 1, 1, 808, 2, 3, 37, 1, 7, 2, 35, 21, 353,...  \n",
       "1  [1, 23, 34, 20, 1, 51, 2, 1, 17, 312, 119, 3, ...  \n",
       "2  [15, 6, 1, 823, 10, 58, 5, 2, 23, 1, 334, 65, ...  \n",
       "3  [7, 32, 2, 233, 2, 3, 33, 4, 2, 10, 317, 511, ...  \n",
       "4  [1, 25, 1, 213, 4, 1, 38, 1, 13, 13, 314, 1, 6...  "
      ]
     },
     "execution_count": 57,
     "metadata": {},
     "output_type": "execute_result"
    }
   ],
   "source": [
    "user_large_df.head()"
   ]
  },
  {
   "cell_type": "code",
   "execution_count": 31,
   "id": "4eae3f8a",
   "metadata": {},
   "outputs": [],
   "source": [
    "# Saves the dataframes to csv files, in the specific folder\n",
    "user_slim_df.to_csv('SavedData/user_slim.csv', index=False)\n",
    "user_large_df.to_csv('SavedData/user_large.csv', index=False)"
   ]
  }
 ],
 "metadata": {
  "kernelspec": {
   "display_name": "Python 3 (ipykernel)",
   "language": "python",
   "name": "python3"
  },
  "language_info": {
   "codemirror_mode": {
    "name": "ipython",
    "version": 3
   },
   "file_extension": ".py",
   "mimetype": "text/x-python",
   "name": "python",
   "nbconvert_exporter": "python",
   "pygments_lexer": "ipython3",
   "version": "3.9.13"
  }
 },
 "nbformat": 4,
 "nbformat_minor": 5
}
