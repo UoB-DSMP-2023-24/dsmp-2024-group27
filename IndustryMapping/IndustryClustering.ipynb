{
 "cells": [
  {
   "cell_type": "markdown",
   "id": "b9557c70",
   "metadata": {},
   "source": [
    "## Importing Library"
   ]
  },
  {
   "cell_type": "code",
   "execution_count": 304,
   "id": "228cc90a",
   "metadata": {},
   "outputs": [],
   "source": [
    "# Importing necessary libraries\n",
    "import pandas as pd\n",
    "import numpy as np\n",
    "\n",
    "# Used for normalizing the dataset\n",
    "from sklearn.preprocessing import MinMaxScaler"
   ]
  },
  {
   "cell_type": "markdown",
   "id": "dd8c909f",
   "metadata": {},
   "source": [
    "## Importing Dataset"
   ]
  },
  {
   "cell_type": "code",
   "execution_count": 305,
   "id": "a69df2c2",
   "metadata": {},
   "outputs": [],
   "source": [
    "# Path to the dataframe\n",
    "data_path = '../SavedData/simulated_transaction_2024.csv'\n",
    "\n",
    "# Set the file path to a dataframe\n",
    "biz_df = pd.read_csv(data_path)"
   ]
  },
  {
   "cell_type": "markdown",
   "id": "ca77c6ea",
   "metadata": {},
   "source": [
    "## Business Names"
   ]
  },
  {
   "cell_type": "code",
   "execution_count": 306,
   "id": "d3ef14a8",
   "metadata": {},
   "outputs": [],
   "source": [
    "business_names = list(biz_df['Third Party Name'].dropna().unique())"
   ]
  },
  {
   "cell_type": "markdown",
   "id": "832bf07e",
   "metadata": {},
   "source": [
    "## Building Business Fingerprints"
   ]
  },
  {
   "cell_type": "code",
   "execution_count": 307,
   "id": "070fb839",
   "metadata": {},
   "outputs": [],
   "source": [
    "# Things that determine types of businesses:\n",
    "# - Median size of payment\n",
    "# - Payment ranges\n",
    "# - Total number of payments\n",
    "# - Number of unique payment days\n",
    "# - Number of unique payment times"
   ]
  },
  {
   "cell_type": "markdown",
   "id": "f5ac52f7",
   "metadata": {},
   "source": [
    "### Cleaninng the DataFrame columns"
   ]
  },
  {
   "cell_type": "code",
   "execution_count": 308,
   "id": "3bdedea2",
   "metadata": {},
   "outputs": [],
   "source": [
    "# Only include business names no 'nan' values\n",
    "biz_tx_df = biz_df[biz_df['Third Party Name'].isin(business_names)]\n",
    "\n",
    "# Exclude salary and refund payments\n",
    "biz_tx_df = biz_tx_df[biz_tx_df['Amount'] < 0]\n",
    "\n",
    "# Make Amount column positive\n",
    "biz_tx_df['Amount'] = biz_tx_df['Amount'] * -1\n",
    "\n",
    "# Remove capitalization and spaces from 'Third Party Name' column\n",
    "biz_tx_df['Third Party Name'] = biz_tx_df['Third Party Name'].str.lower().str.replace(' ', '')"
   ]
  },
  {
   "cell_type": "markdown",
   "id": "aacd5795",
   "metadata": {},
   "source": [
    "### Calculating the different identifiers"
   ]
  },
  {
   "cell_type": "code",
   "execution_count": 309,
   "id": "bce04ec4",
   "metadata": {},
   "outputs": [],
   "source": [
    "biz_tx_median = biz_tx_df.groupby('Third Party Name')['Amount'].median().rename('Median')\n",
    "biz_tx_iqr = biz_tx_df.groupby('Third Party Name')['Amount'].apply(lambda x: x.quantile(0.75) - x.quantile(0.25)).rename('IQR')\n",
    "biz_tx_count = biz_tx_df.groupby('Third Party Name')['Amount'].count().rename('Count')\n",
    "biz_tx_unique_days = biz_tx_df.groupby('Third Party Name')['Date'].nunique().rename('Unique Days Count')\n",
    "biz_tx_unique_timestamps = biz_tx_df.groupby('Third Party Name')['Timestamp'].nunique().rename('Unique Timestamps Count')"
   ]
  },
  {
   "cell_type": "markdown",
   "id": "97a49900",
   "metadata": {},
   "source": [
    "### Building the DataFrame with the created fields"
   ]
  },
  {
   "cell_type": "code",
   "execution_count": 310,
   "id": "cd367577",
   "metadata": {},
   "outputs": [],
   "source": [
    "biz_tx_id_df = pd.concat([biz_tx_median, biz_tx_iqr, biz_tx_count, biz_tx_unique_days, biz_tx_unique_timestamps], axis=1).reset_index()"
   ]
  },
  {
   "cell_type": "markdown",
   "id": "26635c00",
   "metadata": {},
   "source": [
    "### Removing low frequency businesses"
   ]
  },
  {
   "cell_type": "code",
   "execution_count": 311,
   "id": "b75af0d6",
   "metadata": {},
   "outputs": [],
   "source": [
    "biz_tx_id_df_lc = biz_tx_id_df[biz_tx_id_df['Count'] <= 3]\n",
    "biz_tx_id_df = biz_tx_id_df[biz_tx_id_df['Count'] > 3]"
   ]
  },
  {
   "cell_type": "markdown",
   "id": "fc3209c5",
   "metadata": {},
   "source": [
    "### Normalizing the DataFrame"
   ]
  },
  {
   "cell_type": "code",
   "execution_count": 312,
   "id": "4c26dc23",
   "metadata": {},
   "outputs": [],
   "source": [
    "# Columns for normalization\n",
    "cols = ['Median', 'IQR', 'Count', 'Unique Days Count', 'Unique Timestamps Count']\n",
    "\n",
    "# Initialize MinMaxScaler\n",
    "scaler = MinMaxScaler()\n",
    "\n",
    "# Fit scalar to df and transform the df\n",
    "norm_biz_tx_id_df = biz_tx_id_df.copy()\n",
    "norm_biz_tx_id_df[cols] = scaler.fit_transform(biz_tx_id_df[cols])"
   ]
  },
  {
   "cell_type": "markdown",
   "id": "e291ff2b",
   "metadata": {},
   "source": [
    "## Building the Clusters"
   ]
  },
  {
   "cell_type": "markdown",
   "id": "56999211",
   "metadata": {},
   "source": [
    "### Finding the Correct Number of Clusters using an elbow graph"
   ]
  },
  {
   "cell_type": "code",
   "execution_count": 313,
   "id": "05564efb",
   "metadata": {},
   "outputs": [
    {
     "name": "stderr",
     "output_type": "stream",
     "text": [
      "/Library/Frameworks/Python.framework/Versions/3.9/lib/python3.9/site-packages/sklearn/cluster/_kmeans.py:1412: FutureWarning: The default value of `n_init` will change from 10 to 'auto' in 1.4. Set the value of `n_init` explicitly to suppress the warning\n",
      "  super()._check_params_vs_input(X, default_n_init=10)\n",
      "/Library/Frameworks/Python.framework/Versions/3.9/lib/python3.9/site-packages/sklearn/cluster/_kmeans.py:1412: FutureWarning: The default value of `n_init` will change from 10 to 'auto' in 1.4. Set the value of `n_init` explicitly to suppress the warning\n",
      "  super()._check_params_vs_input(X, default_n_init=10)\n",
      "/Library/Frameworks/Python.framework/Versions/3.9/lib/python3.9/site-packages/sklearn/cluster/_kmeans.py:1412: FutureWarning: The default value of `n_init` will change from 10 to 'auto' in 1.4. Set the value of `n_init` explicitly to suppress the warning\n",
      "  super()._check_params_vs_input(X, default_n_init=10)\n",
      "/Library/Frameworks/Python.framework/Versions/3.9/lib/python3.9/site-packages/sklearn/cluster/_kmeans.py:1412: FutureWarning: The default value of `n_init` will change from 10 to 'auto' in 1.4. Set the value of `n_init` explicitly to suppress the warning\n",
      "  super()._check_params_vs_input(X, default_n_init=10)\n",
      "/Library/Frameworks/Python.framework/Versions/3.9/lib/python3.9/site-packages/sklearn/cluster/_kmeans.py:1412: FutureWarning: The default value of `n_init` will change from 10 to 'auto' in 1.4. Set the value of `n_init` explicitly to suppress the warning\n",
      "  super()._check_params_vs_input(X, default_n_init=10)\n",
      "/Library/Frameworks/Python.framework/Versions/3.9/lib/python3.9/site-packages/sklearn/cluster/_kmeans.py:1412: FutureWarning: The default value of `n_init` will change from 10 to 'auto' in 1.4. Set the value of `n_init` explicitly to suppress the warning\n",
      "  super()._check_params_vs_input(X, default_n_init=10)\n",
      "/Library/Frameworks/Python.framework/Versions/3.9/lib/python3.9/site-packages/sklearn/cluster/_kmeans.py:1412: FutureWarning: The default value of `n_init` will change from 10 to 'auto' in 1.4. Set the value of `n_init` explicitly to suppress the warning\n",
      "  super()._check_params_vs_input(X, default_n_init=10)\n",
      "/Library/Frameworks/Python.framework/Versions/3.9/lib/python3.9/site-packages/sklearn/cluster/_kmeans.py:1412: FutureWarning: The default value of `n_init` will change from 10 to 'auto' in 1.4. Set the value of `n_init` explicitly to suppress the warning\n",
      "  super()._check_params_vs_input(X, default_n_init=10)\n",
      "/Library/Frameworks/Python.framework/Versions/3.9/lib/python3.9/site-packages/sklearn/cluster/_kmeans.py:1412: FutureWarning: The default value of `n_init` will change from 10 to 'auto' in 1.4. Set the value of `n_init` explicitly to suppress the warning\n",
      "  super()._check_params_vs_input(X, default_n_init=10)\n",
      "/Library/Frameworks/Python.framework/Versions/3.9/lib/python3.9/site-packages/sklearn/cluster/_kmeans.py:1412: FutureWarning: The default value of `n_init` will change from 10 to 'auto' in 1.4. Set the value of `n_init` explicitly to suppress the warning\n",
      "  super()._check_params_vs_input(X, default_n_init=10)\n"
     ]
    },
    {
     "data": {
      "image/png": "[encoded data removed]",
      "text/plain": [
       "<Figure size 1000x600 with 1 Axes>"
      ]
     },
     "metadata": {},
     "output_type": "display_data"
    }
   ],
   "source": [
    "from sklearn.cluster import KMeans\n",
    "import matplotlib.pyplot as plt\n",
    "\n",
    "# WCSS for each number of clusters\n",
    "wcss = []\n",
    "\n",
    "# Range of possible clusters\n",
    "cluster_range = range(1, 11)\n",
    "\n",
    "for n_clusters in cluster_range:\n",
    "    kmeans = KMeans(n_clusters=n_clusters, random_state=0)\n",
    "    kmeans.fit(norm_biz_tx_id_df[cols])\n",
    "    wcss.append(kmeans.inertia_)\n",
    "\n",
    "# Plotting the Elbow Method graph\n",
    "plt.figure(figsize=(10, 6))\n",
    "plt.plot(cluster_range, wcss, marker='o', linestyle='--')\n",
    "plt.title('Elbow Method for Determining Optimal Number of Clusters')\n",
    "plt.xlabel('Number of Clusters')\n",
    "plt.ylabel('WCSS')\n",
    "plt.xticks(cluster_range)\n",
    "plt.grid(True)\n",
    "plt.show()"
   ]
  },
  {
   "cell_type": "markdown",
   "id": "4b44a9a0",
   "metadata": {},
   "source": [
    "### Creating Kmeans with the right number of clusters"
   ]
  },
  {
   "cell_type": "code",
   "execution_count": 314,
   "id": "a5fdd665",
   "metadata": {},
   "outputs": [
    {
     "name": "stderr",
     "output_type": "stream",
     "text": [
      "/Library/Frameworks/Python.framework/Versions/3.9/lib/python3.9/site-packages/sklearn/cluster/_kmeans.py:1412: FutureWarning: The default value of `n_init` will change from 10 to 'auto' in 1.4. Set the value of `n_init` explicitly to suppress the warning\n",
      "  super()._check_params_vs_input(X, default_n_init=10)\n"
     ]
    }
   ],
   "source": [
    "# Define the number of clusters\n",
    "n_clusters = 3\n",
    "\n",
    "# Initialize KMeans with the desired number of clusters\n",
    "kmeans = KMeans(n_clusters=n_clusters, random_state=0)\n",
    "\n",
    "# Fit KMeans using the numeric columns\n",
    "kmeans.fit(norm_biz_tx_id_df[cols])\n",
    "\n",
    "# Assign the cluster labels to the DataFrame\n",
    "norm_biz_tx_id_df['Cluster'] = kmeans.labels_"
   ]
  },
  {
   "cell_type": "markdown",
   "id": "afc1d948",
   "metadata": {},
   "source": [
    "## Setting Industries"
   ]
  },
  {
   "cell_type": "code",
   "execution_count": 315,
   "id": "73371011",
   "metadata": {},
   "outputs": [],
   "source": [
    "# Industry Mapping\n",
    "industry_categories = {\n",
    "    'topshop': 'apparel',\n",
    "    'selfridges': 'apparel',\n",
    "    'matalan': 'apparel',\n",
    "    'revella': 'apparel',\n",
    "    'looselyfitted': 'apparel',\n",
    "    'fatface': 'apparel',\n",
    "    'fittedstitch': 'apparel',\n",
    "    'blackwells': 'books',\n",
    "    'foyles': 'books',\n",
    "    'ayarnstory': 'crafts',\n",
    "    'brilliantbrushes': 'crafts',\n",
    "    'cassart': 'crafts',\n",
    "    'craftastic': 'crafts',\n",
    "    'fivesensesart': 'crafts',\n",
    "    'hobbylobby': 'crafts',\n",
    "    'stitchbystitch': 'crafts',\n",
    "    'theworks': 'crafts',\n",
    "    'wool': 'crafts',\n",
    "    'hobbycraft': 'crafts',\n",
    "    'coffee#1': 'cafe',\n",
    "    'costacoffee': 'cafe',\n",
    "    'starbucks': 'cafe',\n",
    "    'mamas&papas': 'children',\n",
    "    'mothercare': 'children',\n",
    "    'deliveroo': 'delivery',\n",
    "    'justeat': 'delivery',\n",
    "    'cex': 'electronics',\n",
    "    'gamestation': 'electronics',\n",
    "    'kewhouse': 'education',\n",
    "    'lavenderprimary': 'education',\n",
    "    'halifax': 'finance',\n",
    "    'lbg': 'finance',\n",
    "    'sainsbury': 'grocery',\n",
    "    'sainsburylocal': 'grocery',\n",
    "    'tesco': 'grocery',\n",
    "    'cooplocal': 'grocery',\n",
    "    'acutabove': 'hair and beauty',\n",
    "    'barbieeboutique': 'hair and beauty',\n",
    "    'remedypluscare': 'healthcare',\n",
    "    'specsavers': 'healthcare',\n",
    "    'universitycollegehospital': 'healthcare',\n",
    "    'visionexpress': 'healthcare',\n",
    "    'collectorcave': 'niche media',\n",
    "    'hmv': 'niche media',\n",
    "    'gapkids': 'niche apparel',\n",
    "    'happydayshome': 'niche apparel',\n",
    "    'millets': 'niche apparel',\n",
    "    'mountainwarehouse': 'niche apparel',\n",
    "    'northface': 'niche apparel',\n",
    "    'head': 'niche sports',\n",
    "    'rugbyfields': 'niche sports',\n",
    "    'amazon': 'online shopping',\n",
    "    'etsy': 'online shopping',\n",
    "    'petscorner': 'pets',\n",
    "    'lloydspharmacy': 'pharmacy',\n",
    "    'boots': 'pharmacy',\n",
    "    'kingsarms': 'pubs',\n",
    "    'rose&crown': 'pubs',\n",
    "    'thecrown': 'pubs',\n",
    "    'frankie&bennies': 'restaurants',\n",
    "    'grandunionbjj': 'sports',\n",
    "    'jdsports': 'sports',\n",
    "    'reebok': 'sports',\n",
    "    'sportsdirect': 'sports',\n",
    "    'blizzard': 'subscription',\n",
    "    'disney': 'subscription',\n",
    "    'mojangstudios': 'subscription',\n",
    "    'netflix': 'subscription',\n",
    "    'puregym': 'subscription',\n",
    "    'squareonix': 'subscription',\n",
    "    'xbox': 'subscription',\n",
    "    'townhigh': 'other',\n",
    "    'victoriapark': 'other'\n",
    "}"
   ]
  }
 ],
 "metadata": {
  "kernelspec": {
   "display_name": "Python 3 (ipykernel)",
   "language": "python",
   "name": "python3"
  },
  "language_info": {
   "codemirror_mode": {
    "name": "ipython",
    "version": 3
   },
   "file_extension": ".py",
   "mimetype": "text/x-python",
   "name": "python",
   "nbconvert_exporter": "python",
   "pygments_lexer": "ipython3",
   "version": "3.9.13"
  }
 },
 "nbformat": 4,
 "nbformat_minor": 5
}
