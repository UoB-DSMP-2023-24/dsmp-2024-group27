{
 "cells": [
  {
   "cell_type": "markdown",
   "id": "8ae130de",
   "metadata": {},
   "source": [
    "## Importing Library"
   ]
  },
  {
   "cell_type": "code",
   "execution_count": 27,
   "id": "dfadd671",
   "metadata": {},
   "outputs": [],
   "source": [
    "# Importing necessary libraries\n",
    "import pandas as pd\n",
    "import numpy as np\n",
    "\n",
    "# Used for normalizing the dataset\n",
    "from sklearn.preprocessing import MinMaxScaler"
   ]
  },
  {
   "cell_type": "markdown",
   "id": "ad951ca3",
   "metadata": {},
   "source": [
    "## Importing Dataset"
   ]
  },
  {
   "cell_type": "code",
   "execution_count": 28,
   "id": "914644b5",
   "metadata": {},
   "outputs": [],
   "source": [
    "# Path to the dataframe\n",
    "data_path = '../SavedData/simulated_transaction_2024.csv'\n",
    "\n",
    "# Set the file path to a dataframe\n",
    "biz_df = pd.read_csv(data_path)"
   ]
  },
  {
   "cell_type": "markdown",
   "id": "5e65ffc7",
   "metadata": {},
   "source": [
    "## Business Names"
   ]
  },
  {
   "cell_type": "code",
   "execution_count": 29,
   "id": "be8e97bd",
   "metadata": {},
   "outputs": [],
   "source": [
    "business_names = list(biz_df['Third Party Name'].dropna().unique())"
   ]
  },
  {
   "cell_type": "markdown",
   "id": "18db214c",
   "metadata": {},
   "source": [
    "## Building Business Fingerprints"
   ]
  },
  {
   "cell_type": "code",
   "execution_count": 30,
   "id": "64913d07",
   "metadata": {},
   "outputs": [],
   "source": [
    "# Things that determine types of businesses:\n",
    "# - Median size of payment\n",
    "# - Payment ranges\n",
    "# - Total number of payments\n",
    "# - Number of unique payment days\n",
    "# - Number of unique payment times"
   ]
  },
  {
   "cell_type": "markdown",
   "id": "0b15c00e",
   "metadata": {},
   "source": [
    "### Cleaninng the DataFrame columns"
   ]
  },
  {
   "cell_type": "code",
   "execution_count": 31,
   "id": "57e9d9c0",
   "metadata": {},
   "outputs": [],
   "source": [
    "# Only include business names no 'nan' values\n",
    "biz_tx_df = biz_df[biz_df['Third Party Name'].isin(business_names)]\n",
    "\n",
    "# Exclude salary and refund payments\n",
    "biz_tx_df = biz_tx_df[biz_tx_df['Amount'] < 0]\n",
    "\n",
    "# Make Amount column positive\n",
    "biz_tx_df['Amount'] = biz_tx_df['Amount'] * -1\n",
    "\n",
    "# Remove capitalization and spaces from 'Third Party Name' column\n",
    "biz_tx_df['Third Party Name'] = biz_tx_df['Third Party Name'].str.lower().str.replace(' ', '')"
   ]
  },
  {
   "cell_type": "markdown",
   "id": "c937133d",
   "metadata": {},
   "source": [
    "### Calculating the different identifiers"
   ]
  },
  {
   "cell_type": "code",
   "execution_count": 32,
   "id": "dd98e8ed",
   "metadata": {},
   "outputs": [],
   "source": [
    "biz_tx_median = biz_tx_df.groupby('Third Party Name')['Amount'].median().rename('Median')\n",
    "biz_tx_iqr = biz_tx_df.groupby('Third Party Name')['Amount'].apply(lambda x: x.quantile(0.75) - x.quantile(0.25)).rename('IQR')\n",
    "biz_tx_count = biz_tx_df.groupby('Third Party Name')['Amount'].count().rename('Count')\n",
    "biz_tx_unique_days = biz_tx_df.groupby('Third Party Name')['Date'].nunique().rename('Unique Days Count')\n",
    "biz_tx_unique_timestamps = biz_tx_df.groupby('Third Party Name')['Timestamp'].nunique().rename('Unique Timestamps Count')"
   ]
  },
  {
   "cell_type": "code",
   "execution_count": 33,
   "id": "d9f82b82",
   "metadata": {},
   "outputs": [],
   "source": [
    "biz_tx_id_df = pd.concat([biz_tx_median, biz_tx_iqr, biz_tx_count, biz_tx_unique_days, biz_tx_unique_timestamps], axis=1).reset_index()"
   ]
  },
  {
   "cell_type": "code",
   "execution_count": 34,
   "id": "d8718766",
   "metadata": {},
   "outputs": [],
   "source": [
    "biz_tx_id_df_lc = biz_tx_id_df[biz_tx_id_df['Count'] <= 3]\n",
    "biz_tx_id_df = biz_tx_id_df[biz_tx_id_df['Count'] > 3]"
   ]
  },
  {
   "cell_type": "markdown",
   "id": "d8276f18",
   "metadata": {},
   "source": [
    "### Normalizing the DataFrame"
   ]
  },
  {
   "cell_type": "code",
   "execution_count": 90,
   "id": "a6417e06",
   "metadata": {},
   "outputs": [],
   "source": [
    "# Columns for normalization\n",
    "cols = ['Median', 'IQR', 'Count', 'Unique Days Count', 'Unique Timestamps Count']\n",
    "\n",
    "# Initialize StandardScaler\n",
    "scaler = StandardScaler()\n",
    "\n",
    "# Fit scalar to df and transform the df\n",
    "norm_biz_tx_id_df = biz_tx_id_df.copy()\n",
    "norm_biz_tx_id_df[cols] = scaler.fit_transform(biz_tx_id_df[cols])"
   ]
  },
  {
   "cell_type": "markdown",
   "id": "5f8ba016",
   "metadata": {},
   "source": [
    "## Building the Clusters"
   ]
  },
  {
   "cell_type": "markdown",
   "id": "6bcfd725",
   "metadata": {},
   "source": [
    "### Finding the Correct Number of Clusters using an elbow graph"
   ]
  },
  {
   "cell_type": "code",
   "execution_count": 99,
   "id": "b535df3c",
   "metadata": {},
   "outputs": [
    {
     "name": "stderr",
     "output_type": "stream",
     "text": [
      "/Library/Frameworks/Python.framework/Versions/3.9/lib/python3.9/site-packages/sklearn/cluster/_kmeans.py:1412: FutureWarning: The default value of `n_init` will change from 10 to 'auto' in 1.4. Set the value of `n_init` explicitly to suppress the warning\n",
      "  super()._check_params_vs_input(X, default_n_init=10)\n",
      "/Library/Frameworks/Python.framework/Versions/3.9/lib/python3.9/site-packages/sklearn/cluster/_kmeans.py:1412: FutureWarning: The default value of `n_init` will change from 10 to 'auto' in 1.4. Set the value of `n_init` explicitly to suppress the warning\n",
      "  super()._check_params_vs_input(X, default_n_init=10)\n",
      "/Library/Frameworks/Python.framework/Versions/3.9/lib/python3.9/site-packages/sklearn/cluster/_kmeans.py:1412: FutureWarning: The default value of `n_init` will change from 10 to 'auto' in 1.4. Set the value of `n_init` explicitly to suppress the warning\n",
      "  super()._check_params_vs_input(X, default_n_init=10)\n",
      "/Library/Frameworks/Python.framework/Versions/3.9/lib/python3.9/site-packages/sklearn/cluster/_kmeans.py:1412: FutureWarning: The default value of `n_init` will change from 10 to 'auto' in 1.4. Set the value of `n_init` explicitly to suppress the warning\n",
      "  super()._check_params_vs_input(X, default_n_init=10)\n",
      "/Library/Frameworks/Python.framework/Versions/3.9/lib/python3.9/site-packages/sklearn/cluster/_kmeans.py:1412: FutureWarning: The default value of `n_init` will change from 10 to 'auto' in 1.4. Set the value of `n_init` explicitly to suppress the warning\n",
      "  super()._check_params_vs_input(X, default_n_init=10)\n",
      "/Library/Frameworks/Python.framework/Versions/3.9/lib/python3.9/site-packages/sklearn/cluster/_kmeans.py:1412: FutureWarning: The default value of `n_init` will change from 10 to 'auto' in 1.4. Set the value of `n_init` explicitly to suppress the warning\n",
      "  super()._check_params_vs_input(X, default_n_init=10)\n",
      "/Library/Frameworks/Python.framework/Versions/3.9/lib/python3.9/site-packages/sklearn/cluster/_kmeans.py:1412: FutureWarning: The default value of `n_init` will change from 10 to 'auto' in 1.4. Set the value of `n_init` explicitly to suppress the warning\n",
      "  super()._check_params_vs_input(X, default_n_init=10)\n",
      "/Library/Frameworks/Python.framework/Versions/3.9/lib/python3.9/site-packages/sklearn/cluster/_kmeans.py:1412: FutureWarning: The default value of `n_init` will change from 10 to 'auto' in 1.4. Set the value of `n_init` explicitly to suppress the warning\n",
      "  super()._check_params_vs_input(X, default_n_init=10)\n",
      "/Library/Frameworks/Python.framework/Versions/3.9/lib/python3.9/site-packages/sklearn/cluster/_kmeans.py:1412: FutureWarning: The default value of `n_init` will change from 10 to 'auto' in 1.4. Set the value of `n_init` explicitly to suppress the warning\n",
      "  super()._check_params_vs_input(X, default_n_init=10)\n",
      "/Library/Frameworks/Python.framework/Versions/3.9/lib/python3.9/site-packages/sklearn/cluster/_kmeans.py:1412: FutureWarning: The default value of `n_init` will change from 10 to 'auto' in 1.4. Set the value of `n_init` explicitly to suppress the warning\n",
      "  super()._check_params_vs_input(X, default_n_init=10)\n"
     ]
    },
    {
     "data": {
      "image/png": "[encoded data removed]",
      "text/plain": [
       "<Figure size 800x500 with 1 Axes>"
      ]
     },
     "metadata": {},
     "output_type": "display_data"
    }
   ],
   "source": [
    "from sklearn.cluster import KMeans\n",
    "import matplotlib.pyplot as plt\n",
    "\n",
    "# WCSS for each number of clusters\n",
    "sse = []\n",
    "\n",
    "# Range of possible clusters\n",
    "cluster_range = range(1, 11)\n",
    "\n",
    "for n_clusters in cluster_range:\n",
    "    kmeans = KMeans(n_clusters=n_clusters, random_state=0)\n",
    "    kmeans.fit(norm_biz_tx_id_df[cols])\n",
    "    sse.append(kmeans.inertia_)\n",
    "\n",
    "# Plotting the Elbow Method graph\n",
    "plt.figure(figsize=(8, 5))\n",
    "plt.gca().set_facecolor('whitesmoke')\n",
    "plt.plot(cluster_range, wcss, marker='x', color='blue', linestyle='-')\n",
    "plt.grid(True, color='white', linestyle='-', linewidth=0.5)\n",
    "plt.xlabel('Number of Clusters')\n",
    "plt.ylabel('SSE')\n",
    "plt.xticks(cluster_range)\n",
    "plt.show()"
   ]
  },
  {
   "cell_type": "markdown",
   "id": "744d0e16",
   "metadata": {},
   "source": [
    "### Creating Kmeans with the right number of clusters"
   ]
  },
  {
   "cell_type": "code",
   "execution_count": 66,
   "id": "ffc1372f",
   "metadata": {},
   "outputs": [
    {
     "name": "stderr",
     "output_type": "stream",
     "text": [
      "/Library/Frameworks/Python.framework/Versions/3.9/lib/python3.9/site-packages/sklearn/cluster/_kmeans.py:1412: FutureWarning: The default value of `n_init` will change from 10 to 'auto' in 1.4. Set the value of `n_init` explicitly to suppress the warning\n",
      "  super()._check_params_vs_input(X, default_n_init=10)\n"
     ]
    }
   ],
   "source": [
    "# Define the number of clusters\n",
    "n_clusters = 4\n",
    "\n",
    "# Initialize KMeans with the desired number of clusters\n",
    "kmeans = KMeans(n_clusters=n_clusters, random_state=0)\n",
    "\n",
    "# Fit KMeans using the numeric columns\n",
    "kmeans.fit(norm_biz_tx_id_df[cols])\n",
    "\n",
    "# Assign the cluster labels to the DataFrame\n",
    "norm_biz_tx_id_df['Cluster'] = kmeans.labels_"
   ]
  },
  {
   "cell_type": "code",
   "execution_count": 67,
   "id": "44e083d1",
   "metadata": {},
   "outputs": [
    {
     "data": {
      "text/html": [
       "<div>\n",
       "<style scoped>\n",
       "    .dataframe tbody tr th:only-of-type {\n",
       "        vertical-align: middle;\n",
       "    }\n",
       "\n",
       "    .dataframe tbody tr th {\n",
       "        vertical-align: top;\n",
       "    }\n",
       "\n",
       "    .dataframe thead th {\n",
       "        text-align: right;\n",
       "    }\n",
       "</style>\n",
       "<table border=\"1\" class=\"dataframe\">\n",
       "  <thead>\n",
       "    <tr style=\"text-align: right;\">\n",
       "      <th></th>\n",
       "      <th>Third Party Name</th>\n",
       "      <th>Median</th>\n",
       "      <th>IQR</th>\n",
       "      <th>Count</th>\n",
       "      <th>Unique Days Count</th>\n",
       "      <th>Unique Timestamps Count</th>\n",
       "      <th>Cluster</th>\n",
       "    </tr>\n",
       "  </thead>\n",
       "  <tbody>\n",
       "    <tr>\n",
       "      <th>2</th>\n",
       "      <td>ayarnstory</td>\n",
       "      <td>0.013552</td>\n",
       "      <td>0.059697</td>\n",
       "      <td>0.007497</td>\n",
       "      <td>0.551929</td>\n",
       "      <td>0.166251</td>\n",
       "      <td>3</td>\n",
       "    </tr>\n",
       "    <tr>\n",
       "      <th>4</th>\n",
       "      <td>blackwell's</td>\n",
       "      <td>0.021696</td>\n",
       "      <td>0.043265</td>\n",
       "      <td>0.112754</td>\n",
       "      <td>1.000000</td>\n",
       "      <td>0.430590</td>\n",
       "      <td>3</td>\n",
       "    </tr>\n",
       "    <tr>\n",
       "      <th>7</th>\n",
       "      <td>brilliantbrushes</td>\n",
       "      <td>0.022969</td>\n",
       "      <td>0.087900</td>\n",
       "      <td>0.047020</td>\n",
       "      <td>0.970326</td>\n",
       "      <td>0.379052</td>\n",
       "      <td>3</td>\n",
       "    </tr>\n",
       "    <tr>\n",
       "      <th>8</th>\n",
       "      <td>cassart</td>\n",
       "      <td>0.018103</td>\n",
       "      <td>0.081102</td>\n",
       "      <td>0.006966</td>\n",
       "      <td>0.510386</td>\n",
       "      <td>0.146301</td>\n",
       "      <td>3</td>\n",
       "    </tr>\n",
       "    <tr>\n",
       "      <th>10</th>\n",
       "      <td>coffee#1</td>\n",
       "      <td>0.000000</td>\n",
       "      <td>0.002511</td>\n",
       "      <td>0.067062</td>\n",
       "      <td>0.946588</td>\n",
       "      <td>0.170407</td>\n",
       "      <td>3</td>\n",
       "    </tr>\n",
       "    <tr>\n",
       "      <th>13</th>\n",
       "      <td>costacoffee</td>\n",
       "      <td>0.000063</td>\n",
       "      <td>0.002626</td>\n",
       "      <td>0.019215</td>\n",
       "      <td>0.866469</td>\n",
       "      <td>0.120532</td>\n",
       "      <td>3</td>\n",
       "    </tr>\n",
       "    <tr>\n",
       "      <th>14</th>\n",
       "      <td>craftastic</td>\n",
       "      <td>0.019830</td>\n",
       "      <td>0.065342</td>\n",
       "      <td>0.008944</td>\n",
       "      <td>0.614243</td>\n",
       "      <td>0.185370</td>\n",
       "      <td>3</td>\n",
       "    </tr>\n",
       "    <tr>\n",
       "      <th>20</th>\n",
       "      <td>fivesensesart</td>\n",
       "      <td>0.025578</td>\n",
       "      <td>0.087009</td>\n",
       "      <td>0.175005</td>\n",
       "      <td>0.997033</td>\n",
       "      <td>0.440565</td>\n",
       "      <td>3</td>\n",
       "    </tr>\n",
       "    <tr>\n",
       "      <th>23</th>\n",
       "      <td>gamestation</td>\n",
       "      <td>0.093577</td>\n",
       "      <td>0.136941</td>\n",
       "      <td>0.082529</td>\n",
       "      <td>0.516320</td>\n",
       "      <td>0.418121</td>\n",
       "      <td>3</td>\n",
       "    </tr>\n",
       "    <tr>\n",
       "      <th>25</th>\n",
       "      <td>grandunionbjj</td>\n",
       "      <td>0.118815</td>\n",
       "      <td>0.000000</td>\n",
       "      <td>0.107176</td>\n",
       "      <td>0.706231</td>\n",
       "      <td>0.249377</td>\n",
       "      <td>3</td>\n",
       "    </tr>\n",
       "    <tr>\n",
       "      <th>31</th>\n",
       "      <td>hobbylobby</td>\n",
       "      <td>0.014157</td>\n",
       "      <td>0.060434</td>\n",
       "      <td>0.048496</td>\n",
       "      <td>0.958457</td>\n",
       "      <td>0.275145</td>\n",
       "      <td>3</td>\n",
       "    </tr>\n",
       "    <tr>\n",
       "      <th>32</th>\n",
       "      <td>jdsports</td>\n",
       "      <td>0.060750</td>\n",
       "      <td>0.132928</td>\n",
       "      <td>0.015762</td>\n",
       "      <td>0.646884</td>\n",
       "      <td>0.242727</td>\n",
       "      <td>3</td>\n",
       "    </tr>\n",
       "    <tr>\n",
       "      <th>50</th>\n",
       "      <td>reebok</td>\n",
       "      <td>0.055783</td>\n",
       "      <td>0.118744</td>\n",
       "      <td>0.055905</td>\n",
       "      <td>0.955490</td>\n",
       "      <td>0.367415</td>\n",
       "      <td>3</td>\n",
       "    </tr>\n",
       "    <tr>\n",
       "      <th>59</th>\n",
       "      <td>sportsdirect</td>\n",
       "      <td>0.058279</td>\n",
       "      <td>0.118699</td>\n",
       "      <td>0.478822</td>\n",
       "      <td>0.997033</td>\n",
       "      <td>0.442228</td>\n",
       "      <td>3</td>\n",
       "    </tr>\n",
       "    <tr>\n",
       "      <th>61</th>\n",
       "      <td>starbucks</td>\n",
       "      <td>0.000063</td>\n",
       "      <td>0.002511</td>\n",
       "      <td>0.141533</td>\n",
       "      <td>1.000000</td>\n",
       "      <td>0.206983</td>\n",
       "      <td>3</td>\n",
       "    </tr>\n",
       "    <tr>\n",
       "      <th>62</th>\n",
       "      <td>stitchbystitch</td>\n",
       "      <td>0.015430</td>\n",
       "      <td>0.050177</td>\n",
       "      <td>0.012633</td>\n",
       "      <td>0.661721</td>\n",
       "      <td>0.216958</td>\n",
       "      <td>3</td>\n",
       "    </tr>\n",
       "    <tr>\n",
       "      <th>65</th>\n",
       "      <td>theworks</td>\n",
       "      <td>0.020599</td>\n",
       "      <td>0.041804</td>\n",
       "      <td>0.196907</td>\n",
       "      <td>1.000000</td>\n",
       "      <td>0.438071</td>\n",
       "      <td>3</td>\n",
       "    </tr>\n",
       "    <tr>\n",
       "      <th>71</th>\n",
       "      <td>wool</td>\n",
       "      <td>0.008169</td>\n",
       "      <td>0.037603</td>\n",
       "      <td>0.058119</td>\n",
       "      <td>0.988131</td>\n",
       "      <td>0.398171</td>\n",
       "      <td>3</td>\n",
       "    </tr>\n",
       "  </tbody>\n",
       "</table>\n",
       "</div>"
      ],
      "text/plain": [
       "    Third Party Name    Median       IQR     Count  Unique Days Count  \\\n",
       "2         ayarnstory  0.013552  0.059697  0.007497           0.551929   \n",
       "4        blackwell's  0.021696  0.043265  0.112754           1.000000   \n",
       "7   brilliantbrushes  0.022969  0.087900  0.047020           0.970326   \n",
       "8            cassart  0.018103  0.081102  0.006966           0.510386   \n",
       "10          coffee#1  0.000000  0.002511  0.067062           0.946588   \n",
       "13       costacoffee  0.000063  0.002626  0.019215           0.866469   \n",
       "14        craftastic  0.019830  0.065342  0.008944           0.614243   \n",
       "20     fivesensesart  0.025578  0.087009  0.175005           0.997033   \n",
       "23       gamestation  0.093577  0.136941  0.082529           0.516320   \n",
       "25     grandunionbjj  0.118815  0.000000  0.107176           0.706231   \n",
       "31        hobbylobby  0.014157  0.060434  0.048496           0.958457   \n",
       "32          jdsports  0.060750  0.132928  0.015762           0.646884   \n",
       "50            reebok  0.055783  0.118744  0.055905           0.955490   \n",
       "59      sportsdirect  0.058279  0.118699  0.478822           0.997033   \n",
       "61         starbucks  0.000063  0.002511  0.141533           1.000000   \n",
       "62    stitchbystitch  0.015430  0.050177  0.012633           0.661721   \n",
       "65          theworks  0.020599  0.041804  0.196907           1.000000   \n",
       "71              wool  0.008169  0.037603  0.058119           0.988131   \n",
       "\n",
       "    Unique Timestamps Count  Cluster  \n",
       "2                  0.166251        3  \n",
       "4                  0.430590        3  \n",
       "7                  0.379052        3  \n",
       "8                  0.146301        3  \n",
       "10                 0.170407        3  \n",
       "13                 0.120532        3  \n",
       "14                 0.185370        3  \n",
       "20                 0.440565        3  \n",
       "23                 0.418121        3  \n",
       "25                 0.249377        3  \n",
       "31                 0.275145        3  \n",
       "32                 0.242727        3  \n",
       "50                 0.367415        3  \n",
       "59                 0.442228        3  \n",
       "61                 0.206983        3  \n",
       "62                 0.216958        3  \n",
       "65                 0.438071        3  \n",
       "71                 0.398171        3  "
      ]
     },
     "execution_count": 67,
     "metadata": {},
     "output_type": "execute_result"
    }
   ],
   "source": [
    "norm_biz_tx_id_df[norm_biz_tx_id_df[\"Cluster\"] == 3]"
   ]
  },
  {
   "cell_type": "markdown",
   "id": "ea983c0d",
   "metadata": {},
   "source": [
    "## Setting Industries"
   ]
  },
  {
   "cell_type": "code",
   "execution_count": 68,
   "id": "2cd7ac90",
   "metadata": {},
   "outputs": [],
   "source": [
    "# Industry Mapping\n",
    "industry_categories = {\n",
    "    'topshop': 'apparel',\n",
    "    'selfridges': 'apparel',\n",
    "    'matalan': 'apparel',\n",
    "    'revella': 'apparel',\n",
    "    'looselyfitted': 'apparel',\n",
    "    'fatface': 'apparel',\n",
    "    'fittedstitch': 'apparel',\n",
    "    'blackwells': 'books',\n",
    "    'foyles': 'books',\n",
    "    'ayarnstory': 'crafts',\n",
    "    'brilliantbrushes': 'crafts',\n",
    "    'cassart': 'crafts',\n",
    "    'craftastic': 'crafts',\n",
    "    'fivesensesart': 'crafts',\n",
    "    'hobbylobby': 'crafts',\n",
    "    'stitchbystitch': 'crafts',\n",
    "    'theworks': 'crafts',\n",
    "    'wool': 'crafts',\n",
    "    'hobbycraft': 'crafts',\n",
    "    'coffee#1': 'cafe',\n",
    "    'costacoffee': 'cafe',\n",
    "    'starbucks': 'cafe',\n",
    "    'mamas&papas': 'children',\n",
    "    'mothercare': 'children',\n",
    "    'deliveroo': 'delivery',\n",
    "    'justeat': 'delivery',\n",
    "    'cex': 'electronics',\n",
    "    'gamestation': 'electronics',\n",
    "    'kewhouse': 'education',\n",
    "    'lavenderprimary': 'education',\n",
    "    'halifax': 'finance',\n",
    "    'lbg': 'finance',\n",
    "    'sainsbury': 'grocery',\n",
    "    'sainsburylocal': 'grocery',\n",
    "    'tesco': 'grocery',\n",
    "    'cooplocal': 'grocery',\n",
    "    'acutabove': 'hair and beauty',\n",
    "    'barbieeboutique': 'hair and beauty',\n",
    "    'remedypluscare': 'healthcare',\n",
    "    'specsavers': 'healthcare',\n",
    "    'universitycollegehospital': 'healthcare',\n",
    "    'visionexpress': 'healthcare',\n",
    "    'collectorcave': 'niche media',\n",
    "    'hmv': 'niche media',\n",
    "    'gapkids': 'niche apparel',\n",
    "    'happydayshome': 'niche apparel',\n",
    "    'millets': 'niche apparel',\n",
    "    'mountainwarehouse': 'niche apparel',\n",
    "    'northface': 'niche apparel',\n",
    "    'head': 'niche sports',\n",
    "    'rugbyfields': 'niche sports',\n",
    "    'amazon': 'online shopping',\n",
    "    'etsy': 'online shopping',\n",
    "    'petscorner': 'pets',\n",
    "    'lloydspharmacy': 'pharmacy',\n",
    "    'boots': 'pharmacy',\n",
    "    'kingsarms': 'pubs',\n",
    "    'rose&crown': 'pubs',\n",
    "    'thecrown': 'pubs',\n",
    "    'frankie&bennies': 'restaurants',\n",
    "    'grandunionbjj': 'sports',\n",
    "    'jdsports': 'sports',\n",
    "    'reebok': 'sports',\n",
    "    'sportsdirect': 'sports',\n",
    "    'blizzard': 'subscription',\n",
    "    'disney': 'subscription',\n",
    "    'mojangstudios': 'subscription',\n",
    "    'netflix': 'subscription',\n",
    "    'puregym': 'subscription',\n",
    "    'squareonix': 'subscription',\n",
    "    'xbox': 'subscription',\n",
    "    'townhigh': 'other',\n",
    "    'victoriapark': 'other'\n",
    "}"
   ]
  },
  {
   "cell_type": "markdown",
   "id": "0abe0f63",
   "metadata": {},
   "source": [
    "## Graphing the Results"
   ]
  },
  {
   "cell_type": "code",
   "execution_count": 69,
   "id": "6b6f19de",
   "metadata": {},
   "outputs": [],
   "source": [
    "from sklearn.decomposition import PCA\n",
    "\n",
    "pca = PCA(n_components=2)\n",
    "data = norm_biz_tx_id_df[['Median', 'IQR', 'Count', 'Unique Days Count', 'Unique Timestamps Count']]\n",
    "clusters = norm_biz_tx_id_df['Cluster']\n",
    "labels = norm_biz_tx_id_df['Third Party Name']\n",
    "reduced_data = pca.fit_transform(data)"
   ]
  },
  {
   "cell_type": "code",
   "execution_count": 86,
   "id": "b2b13ab7",
   "metadata": {},
   "outputs": [
    {
     "data": {
      "image/png": "[encoded data removed]",
      "text/plain": [
       "<Figure size 800x500 with 1 Axes>"
      ]
     },
     "metadata": {},
     "output_type": "display_data"
    }
   ],
   "source": [
    "# Create a scatter plot\n",
    "plt.figure(figsize=(8, 5))\n",
    "plt.gca().set_facecolor('whitesmoke')\n",
    "plt.scatter(reduced_data[:, 0], reduced_data[:, 1], c=clusters, cmap='viridis', marker='o', alpha=0.8)\n",
    "plt.grid(True, color='white', linestyle='-', linewidth=0.5)\n",
    "\n",
    "plt.title('PCA Clustering of the Featured Firms')\n",
    "plt.xlabel('Principal Component 1')\n",
    "plt.ylabel('Principal Component 2')\n",
    "plt.show()"
   ]
  },
  {
   "cell_type": "code",
   "execution_count": null,
   "id": "6fa455d8",
   "metadata": {},
   "outputs": [],
   "source": []
  }
 ],
 "metadata": {
  "kernelspec": {
   "display_name": "Python 3 (ipykernel)",
   "language": "python",
   "name": "python3"
  },
  "language_info": {
   "codemirror_mode": {
    "name": "ipython",
    "version": 3
   },
   "file_extension": ".py",
   "mimetype": "text/x-python",
   "name": "python",
   "nbconvert_exporter": "python",
   "pygments_lexer": "ipython3",
   "version": "3.9.13"
  }
 },
 "nbformat": 4,
 "nbformat_minor": 5
}
