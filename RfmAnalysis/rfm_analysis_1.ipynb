{
 "cells": [
  {
   "cell_type": "code",
   "execution_count": 13,
   "id": "d93aa366",
   "metadata": {},
   "outputs": [],
   "source": [
    "import pandas as pd\n",
    "import numpy as np"
   ]
  },
  {
   "cell_type": "code",
   "execution_count": 4,
   "id": "47542648",
   "metadata": {},
   "outputs": [],
   "source": [
    "user_data = pd.read_csv('C:/Users/Diya/OneDrive/Desktop/Mini Project/Datasets/fake_transactional_data_24.csv')\n",
    "user_df = pd.DataFrame(user_data)"
   ]
  },
  {
   "cell_type": "code",
   "execution_count": 5,
   "id": "6f3ed419",
   "metadata": {},
   "outputs": [
    {
     "data": {
      "text/html": [
       "<div>\n",
       "<style scoped>\n",
       "    .dataframe tbody tr th:only-of-type {\n",
       "        vertical-align: middle;\n",
       "    }\n",
       "\n",
       "    .dataframe tbody tr th {\n",
       "        vertical-align: top;\n",
       "    }\n",
       "\n",
       "    .dataframe thead th {\n",
       "        text-align: right;\n",
       "    }\n",
       "</style>\n",
       "<table border=\"1\" class=\"dataframe\">\n",
       "  <thead>\n",
       "    <tr style=\"text-align: right;\">\n",
       "      <th></th>\n",
       "      <th>from_totally_fake_account</th>\n",
       "      <th>monopoly_money_amount</th>\n",
       "      <th>to_randomly_generated_account</th>\n",
       "      <th>not_happened_yet_date</th>\n",
       "    </tr>\n",
       "  </thead>\n",
       "  <tbody>\n",
       "    <tr>\n",
       "      <th>0</th>\n",
       "      <td>10371.0</td>\n",
       "      <td>4.00</td>\n",
       "      <td>CINEMA</td>\n",
       "      <td>01/01/2025</td>\n",
       "    </tr>\n",
       "    <tr>\n",
       "      <th>1</th>\n",
       "      <td>88339.0</td>\n",
       "      <td>2.40</td>\n",
       "      <td>40544</td>\n",
       "      <td>01/01/2025</td>\n",
       "    </tr>\n",
       "    <tr>\n",
       "      <th>2</th>\n",
       "      <td>18555.0</td>\n",
       "      <td>2.40</td>\n",
       "      <td>85149</td>\n",
       "      <td>01/01/2025</td>\n",
       "    </tr>\n",
       "    <tr>\n",
       "      <th>3</th>\n",
       "      <td>18555.0</td>\n",
       "      <td>4.10</td>\n",
       "      <td>HIPSTER_COFFEE_SHOP</td>\n",
       "      <td>01/01/2025</td>\n",
       "    </tr>\n",
       "    <tr>\n",
       "      <th>4</th>\n",
       "      <td>80792.0</td>\n",
       "      <td>1.95</td>\n",
       "      <td>18555</td>\n",
       "      <td>01/01/2025</td>\n",
       "    </tr>\n",
       "    <tr>\n",
       "      <th>5</th>\n",
       "      <td>18555.0</td>\n",
       "      <td>4.45</td>\n",
       "      <td>TOTALLY_A_REAL_COFFEE_SHOP</td>\n",
       "      <td>01/01/2025</td>\n",
       "    </tr>\n",
       "    <tr>\n",
       "      <th>6</th>\n",
       "      <td>18555.0</td>\n",
       "      <td>1.45</td>\n",
       "      <td>COFFEE_SHOP</td>\n",
       "      <td>01/01/2025</td>\n",
       "    </tr>\n",
       "    <tr>\n",
       "      <th>7</th>\n",
       "      <td>18555.0</td>\n",
       "      <td>5.00</td>\n",
       "      <td>CAFE</td>\n",
       "      <td>01/01/2025</td>\n",
       "    </tr>\n",
       "    <tr>\n",
       "      <th>8</th>\n",
       "      <td>41378.0</td>\n",
       "      <td>2.55</td>\n",
       "      <td>COFFEE_SHOP</td>\n",
       "      <td>01/01/2025</td>\n",
       "    </tr>\n",
       "    <tr>\n",
       "      <th>9</th>\n",
       "      <td>41378.0</td>\n",
       "      <td>1.80</td>\n",
       "      <td>COFFEE_SHOP</td>\n",
       "      <td>01/01/2025</td>\n",
       "    </tr>\n",
       "  </tbody>\n",
       "</table>\n",
       "</div>"
      ],
      "text/plain": [
       "   from_totally_fake_account  monopoly_money_amount  \\\n",
       "0                    10371.0                   4.00   \n",
       "1                    88339.0                   2.40   \n",
       "2                    18555.0                   2.40   \n",
       "3                    18555.0                   4.10   \n",
       "4                    80792.0                   1.95   \n",
       "5                    18555.0                   4.45   \n",
       "6                    18555.0                   1.45   \n",
       "7                    18555.0                   5.00   \n",
       "8                    41378.0                   2.55   \n",
       "9                    41378.0                   1.80   \n",
       "\n",
       "  to_randomly_generated_account not_happened_yet_date  \n",
       "0                        CINEMA            01/01/2025  \n",
       "1                         40544            01/01/2025  \n",
       "2                         85149            01/01/2025  \n",
       "3           HIPSTER_COFFEE_SHOP            01/01/2025  \n",
       "4                         18555            01/01/2025  \n",
       "5    TOTALLY_A_REAL_COFFEE_SHOP            01/01/2025  \n",
       "6                   COFFEE_SHOP            01/01/2025  \n",
       "7                          CAFE            01/01/2025  \n",
       "8                   COFFEE_SHOP            01/01/2025  \n",
       "9                   COFFEE_SHOP            01/01/2025  "
      ]
     },
     "execution_count": 5,
     "metadata": {},
     "output_type": "execute_result"
    }
   ],
   "source": [
    "user_df.head(10)"
   ]
  },
  {
   "cell_type": "code",
   "execution_count": 6,
   "id": "415df191",
   "metadata": {},
   "outputs": [
    {
     "name": "stdout",
     "output_type": "stream",
     "text": [
      "<class 'pandas.core.frame.DataFrame'>\n",
      "RangeIndex: 10148280 entries, 0 to 10148279\n",
      "Data columns (total 4 columns):\n",
      " #   Column                         Dtype  \n",
      "---  ------                         -----  \n",
      " 0   from_totally_fake_account      float64\n",
      " 1   monopoly_money_amount          float64\n",
      " 2   to_randomly_generated_account  object \n",
      " 3   not_happened_yet_date          object \n",
      "dtypes: float64(2), object(2)\n",
      "memory usage: 309.7+ MB\n",
      "None\n"
     ]
    }
   ],
   "source": [
    "print(user_df.info())"
   ]
  },
  {
   "cell_type": "code",
   "execution_count": 1,
   "id": "f3e04652",
   "metadata": {},
   "outputs": [
    {
     "name": "stdout",
     "output_type": "stream",
     "text": [
      "Collecting rfm\n",
      "  Using cached rfm-1.0.9-py3-none-any.whl (7.8 kB)\n",
      "Requirement already satisfied: matplotlib>=3.3.4 in c:\\users\\diya\\new folder\\lib\\site-packages (from rfm) (3.5.2)\n",
      "Requirement already satisfied: pandas>=1.2.4 in c:\\users\\diya\\new folder\\lib\\site-packages (from rfm) (1.4.4)\n",
      "Requirement already satisfied: numpy>=1.20.1 in c:\\users\\diya\\new folder\\lib\\site-packages (from rfm) (1.26.4)\n",
      "Requirement already satisfied: fonttools>=4.22.0 in c:\\users\\diya\\new folder\\lib\\site-packages (from matplotlib>=3.3.4->rfm) (4.25.0)\n",
      "Requirement already satisfied: cycler>=0.10 in c:\\users\\diya\\new folder\\lib\\site-packages (from matplotlib>=3.3.4->rfm) (0.11.0)\n",
      "Requirement already satisfied: python-dateutil>=2.7 in c:\\users\\diya\\new folder\\lib\\site-packages (from matplotlib>=3.3.4->rfm) (2.8.2)\n",
      "Requirement already satisfied: kiwisolver>=1.0.1 in c:\\users\\diya\\new folder\\lib\\site-packages (from matplotlib>=3.3.4->rfm) (1.4.2)\n",
      "Requirement already satisfied: pillow>=6.2.0 in c:\\users\\diya\\new folder\\lib\\site-packages (from matplotlib>=3.3.4->rfm) (9.2.0)\n",
      "Requirement already satisfied: packaging>=20.0 in c:\\users\\diya\\new folder\\lib\\site-packages (from matplotlib>=3.3.4->rfm) (21.3)\n",
      "Requirement already satisfied: pyparsing>=2.2.1 in c:\\users\\diya\\new folder\\lib\\site-packages (from matplotlib>=3.3.4->rfm) (3.0.9)\n",
      "Requirement already satisfied: pytz>=2020.1 in c:\\users\\diya\\new folder\\lib\\site-packages (from pandas>=1.2.4->rfm) (2022.1)\n",
      "Requirement already satisfied: six>=1.5 in c:\\users\\diya\\new folder\\lib\\site-packages (from python-dateutil>=2.7->matplotlib>=3.3.4->rfm) (1.15.0)\n",
      "Installing collected packages: rfm\n",
      "Successfully installed rfm-1.0.9\n",
      "Note: you may need to restart the kernel to use updated packages.\n"
     ]
    }
   ],
   "source": [
    "pip install rfm"
   ]
  },
  {
   "cell_type": "code",
   "execution_count": 16,
   "id": "6dbe13ef",
   "metadata": {},
   "outputs": [],
   "source": [
    "from rfm import rfm"
   ]
  },
  {
   "cell_type": "code",
   "execution_count": null,
   "id": "c59c2e60",
   "metadata": {},
   "outputs": [],
   "source": []
  },
  {
   "cell_type": "code",
   "execution_count": 19,
   "id": "a860b205",
   "metadata": {},
   "outputs": [],
   "source": [
    "user_df['not_happened_yet_date'] = pd.to_datetime(user_df['not_happened_yet_date'])"
   ]
  },
  {
   "cell_type": "code",
   "execution_count": 28,
   "id": "ae421a18",
   "metadata": {},
   "outputs": [],
   "source": [
    "# Calculate RFM metrics\n",
    "max_transaction_date = user_df['not_happened_yet_date'].max()  # Maximum transaction date in the dataset"
   ]
  },
  {
   "cell_type": "code",
   "execution_count": 29,
   "id": "723361d8",
   "metadata": {},
   "outputs": [],
   "source": [
    "# Calculate RFM metrics\n",
    "rfm = user_df.groupby('from_totally_fake_account').agg({\n",
    "    'not_happened_yet_date': lambda x: (max_transaction_date - x.max()).days,  # Calculate recency based on max_transaction_date\n",
    "    'to_randomly_generated_account': 'count',\n",
    "    'monopoly_money_amount': 'sum'\n",
    "})"
   ]
  },
  {
   "cell_type": "code",
   "execution_count": 30,
   "id": "0d9bf823",
   "metadata": {},
   "outputs": [],
   "source": [
    "# Rename columns\n",
    "rfm.rename(columns={\n",
    "    'not_happened_yet_date': 'Recency',\n",
    "    'to_randomly_generated_account': 'Frequency',\n",
    "    'monopoly_money_amount': 'Monetary'\n",
    "}, inplace=True)\n"
   ]
  },
  {
   "cell_type": "code",
   "execution_count": 31,
   "id": "52618dfb",
   "metadata": {},
   "outputs": [],
   "source": [
    "\n",
    "# Segment customers\n",
    "quantiles = rfm.quantile(q=[0.25, 0.50, 0.75])\n",
    "\n",
    "def rfm_score(x, p, d):\n",
    "    if x <= d[p][0.25]:\n",
    "        return 4\n",
    "    elif x <= d[p][0.50]:\n",
    "        return 3\n",
    "    elif x <= d[p][0.75]:\n",
    "        return 2\n",
    "    else:\n",
    "        return 1"
   ]
  },
  {
   "cell_type": "code",
   "execution_count": 32,
   "id": "2ab00bbd",
   "metadata": {},
   "outputs": [],
   "source": [
    "rfm['R'] = rfm['Recency'].apply(rfm_score, args=('Recency', quantiles))\n",
    "rfm['F'] = rfm['Frequency'].apply(rfm_score, args=('Frequency', quantiles))\n",
    "rfm['M'] = rfm['Monetary'].apply(rfm_score, args=('Monetary', quantiles))"
   ]
  },
  {
   "cell_type": "code",
   "execution_count": 33,
   "id": "bd857461",
   "metadata": {},
   "outputs": [],
   "source": [
    "rfm['RFM_Segment'] = rfm['R'].astype(str) + rfm['F'].astype(str) + rfm['M'].astype(str)\n",
    "rfm['RFM_Score'] = rfm[['R', 'F', 'M']].sum(axis=1)"
   ]
  },
  {
   "cell_type": "code",
   "execution_count": 34,
   "id": "61e91756",
   "metadata": {},
   "outputs": [
    {
     "name": "stdout",
     "output_type": "stream",
     "text": [
      "                           Recency  Frequency  Monetary  R  F  M RFM_Segment  \\\n",
      "from_totally_fake_account                                                      \n",
      "1000.0                           0       1710  28698.51  4  1  2         412   \n",
      "1002.0                           0       1043  15622.97  4  3  4         434   \n",
      "1006.0                           0       1841  18778.19  4  1  3         413   \n",
      "1018.0                           1        805  15612.21  1  4  4         144   \n",
      "1053.0                           0       1319  19444.57  4  2  3         423   \n",
      "...                            ...        ...       ... .. .. ..         ...   \n",
      "100931.0                         0       1664  22332.81  4  1  2         412   \n",
      "100934.0                         1       1111  18579.25  1  3  3         133   \n",
      "100947.0                         0       1586  20783.20  4  1  3         413   \n",
      "100986.0                         0       1034  15314.23  4  3  4         434   \n",
      "100988.0                         0       1351  19714.77  4  2  3         423   \n",
      "\n",
      "                           RFM_Score  \n",
      "from_totally_fake_account             \n",
      "1000.0                             7  \n",
      "1002.0                            11  \n",
      "1006.0                             8  \n",
      "1018.0                             9  \n",
      "1053.0                             9  \n",
      "...                              ...  \n",
      "100931.0                           7  \n",
      "100934.0                           7  \n",
      "100947.0                           8  \n",
      "100986.0                          11  \n",
      "100988.0                           9  \n",
      "\n",
      "[8142 rows x 8 columns]\n"
     ]
    }
   ],
   "source": [
    "print(rfm)"
   ]
  },
  {
   "cell_type": "code",
   "execution_count": 35,
   "id": "be78aa69",
   "metadata": {},
   "outputs": [
    {
     "name": "stdout",
     "output_type": "stream",
     "text": [
      "Sorted by Recency score:\n",
      "                           Recency  Frequency  Monetary  R  F  M RFM_Segment  \\\n",
      "from_totally_fake_account                                                      \n",
      "1217.0                           4        895  17761.23  1  4  3         143   \n",
      "57276.0                          4        803  13933.83  1  4  4         144   \n",
      "45079.0                          4        794  17877.99  1  4  3         143   \n",
      "43858.0                          4       1126  19890.51  1  3  3         133   \n",
      "68755.0                          3        645  13341.67  1  4  4         144   \n",
      "...                            ...        ...       ... .. .. ..         ...   \n",
      "37263.0                          0        807  30829.22  4  4  1         441   \n",
      "37260.0                          0       1497  22726.87  4  2  2         422   \n",
      "37249.0                          0       1257  18008.06  4  2  3         423   \n",
      "37245.0                          0        986  18716.84  4  4  3         443   \n",
      "100988.0                         0       1351  19714.77  4  2  3         423   \n",
      "\n",
      "                           RFM_Score  \n",
      "from_totally_fake_account             \n",
      "1217.0                             8  \n",
      "57276.0                            9  \n",
      "45079.0                            8  \n",
      "43858.0                            7  \n",
      "68755.0                            9  \n",
      "...                              ...  \n",
      "37263.0                            9  \n",
      "37260.0                            8  \n",
      "37249.0                            9  \n",
      "37245.0                           11  \n",
      "100988.0                           9  \n",
      "\n",
      "[8142 rows x 8 columns]\n",
      "\n",
      "Sorted by Frequency score:\n",
      "                           Recency  Frequency  Monetary  R  F  M RFM_Segment  \\\n",
      "from_totally_fake_account                                                      \n",
      "2331.0                           0       2728  34855.82  4  1  1         411   \n",
      "74448.0                          0       2679  28781.19  4  1  2         412   \n",
      "97033.0                          0       2665  38250.83  4  1  1         411   \n",
      "87324.0                          0       2619  23430.70  4  1  2         412   \n",
      "14877.0                          0       2503  34970.20  4  1  1         411   \n",
      "...                            ...        ...       ... .. .. ..         ...   \n",
      "30617.0                          2        537  10550.31  1  4  4         144   \n",
      "22078.0                          0        524   9344.96  4  4  4         444   \n",
      "68848.0                          2        513  14060.79  1  4  4         144   \n",
      "19964.0                          1        504  28976.29  1  4  1         141   \n",
      "55938.0                          1        436  31507.70  1  4  1         141   \n",
      "\n",
      "                           RFM_Score  \n",
      "from_totally_fake_account             \n",
      "2331.0                             6  \n",
      "74448.0                            7  \n",
      "97033.0                            6  \n",
      "87324.0                            7  \n",
      "14877.0                            6  \n",
      "...                              ...  \n",
      "30617.0                            9  \n",
      "22078.0                           12  \n",
      "68848.0                            9  \n",
      "19964.0                            6  \n",
      "55938.0                            6  \n",
      "\n",
      "[8142 rows x 8 columns]\n",
      "\n",
      "Sorted by Monetary score:\n",
      "                           Recency  Frequency  Monetary  R  F  M RFM_Segment  \\\n",
      "from_totally_fake_account                                                      \n",
      "17398.0                          0       2477  45141.37  4  1  1         411   \n",
      "18827.0                          0       1036  42762.53  4  3  1         431   \n",
      "72758.0                          0       2171  42305.12  4  1  1         411   \n",
      "64691.0                          0       2186  41986.90  4  1  1         411   \n",
      "3458.0                           0       1675  41919.88  4  1  1         411   \n",
      "...                            ...        ...       ... .. .. ..         ...   \n",
      "83848.0                          0        774   9210.14  4  4  4         444   \n",
      "56402.0                          2        630   9143.51  1  4  4         144   \n",
      "57235.0                          0        737   8637.63  4  4  4         444   \n",
      "36840.0                          0        562   8284.16  4  4  4         444   \n",
      "25652.0                          0        616   8079.13  4  4  4         444   \n",
      "\n",
      "                           RFM_Score  \n",
      "from_totally_fake_account             \n",
      "17398.0                            6  \n",
      "18827.0                            8  \n",
      "72758.0                            6  \n",
      "64691.0                            6  \n",
      "3458.0                             6  \n",
      "...                              ...  \n",
      "83848.0                           12  \n",
      "56402.0                            9  \n",
      "57235.0                           12  \n",
      "36840.0                           12  \n",
      "25652.0                           12  \n",
      "\n",
      "[8142 rows x 8 columns]\n"
     ]
    }
   ],
   "source": [
    "# Sort by Recency score in descending order\n",
    "rfm_sorted_by_recency = rfm.sort_values(by='Recency', ascending=False)\n",
    "\n",
    "# Sort by Frequency score in descending order\n",
    "rfm_sorted_by_frequency = rfm.sort_values(by='Frequency', ascending=False)\n",
    "\n",
    "# Sort by Monetary score in descending order\n",
    "rfm_sorted_by_monetary = rfm.sort_values(by='Monetary', ascending=False)\n",
    "\n",
    "print(\"Sorted by Recency score:\")\n",
    "print(rfm_sorted_by_recency)\n",
    "\n",
    "print(\"\\nSorted by Frequency score:\")\n",
    "print(rfm_sorted_by_frequency)\n",
    "\n",
    "print(\"\\nSorted by Monetary score:\")\n",
    "print(rfm_sorted_by_monetary)\n"
   ]
  },
  {
   "cell_type": "code",
   "execution_count": null,
   "id": "32c4a10b",
   "metadata": {},
   "outputs": [],
   "source": []
  }
 ],
 "metadata": {
  "kernelspec": {
   "display_name": "Python 3 (ipykernel)",
   "language": "python",
   "name": "python3"
  },
  "language_info": {
   "codemirror_mode": {
    "name": "ipython",
    "version": 3
   },
   "file_extension": ".py",
   "mimetype": "text/x-python",
   "name": "python",
   "nbconvert_exporter": "python",
   "pygments_lexer": "ipython3",
   "version": "3.9.13"
  }
 },
 "nbformat": 4,
 "nbformat_minor": 5
}
