{
 "cells": [
  {
   "cell_type": "code",
   "execution_count": 49,
   "id": "a56ae283",
   "metadata": {},
   "outputs": [],
   "source": [
    "# Source\n",
    "# - https://www2.deloitte.com/content/dam/Deloitte/us/Documents/strategy/us-cons-life-insurance-consumer-study.pdf\n",
    "\n",
    "# People to pitch to\n",
    "# - Married\n",
    "# - Parent\n",
    "#   - KIDS_CLOTHING_SHOP\n",
    "#   - TOY_SHOP\n",
    "#   - CHILDRENS_SHOP\n",
    "#   - SCHOOL_SUPPLY_SHOP\n",
    "#   - KIDS_ACTIVITY_CENTRE\n",
    "# - Homeowner\n",
    "#   - HOME_IMPROVEMENT_STORE\n",
    "#   - DIY_STORE\n",
    "# - Pet Owner\n",
    "#   - PET_SHOP\n",
    "#   - PET_TOY_SHOP\n",
    "# - Gross Value Moved\n",
    "#   - sent_tx_sum_gbp\n",
    "#   - received_tx_sum_gbp"
   ]
  },
  {
   "cell_type": "markdown",
   "id": "63cb6ac2",
   "metadata": {},
   "source": [
    "## Importing Libraries"
   ]
  },
  {
   "cell_type": "code",
   "execution_count": 50,
   "id": "0a6e9bcc",
   "metadata": {},
   "outputs": [],
   "source": [
    "# Importing necessary libraries\n",
    "import pandas as pd\n",
    "import numpy as np\n",
    "import ast\n",
    "from statistics import mean, median\n",
    "import matplotlib.pyplot as plt"
   ]
  },
  {
   "cell_type": "markdown",
   "id": "482ee56e",
   "metadata": {},
   "source": [
    "## Importing CSV"
   ]
  },
  {
   "cell_type": "code",
   "execution_count": 51,
   "id": "f916c932",
   "metadata": {},
   "outputs": [],
   "source": [
    "# Loading csv and setting to \n",
    "user_data = pd.read_csv('../SavedData/Lloyds_users.csv')\n",
    "user_df = pd.DataFrame(user_data)\n",
    "\n",
    "# Changing the lists back to normal columns\n",
    "user_df['user_biz_interaction'] = user_df['user_biz_interaction'].apply(ast.literal_eval)\n",
    "user_df['user_biz_interaction_frequency'] = user_df['user_biz_interaction_frequency'].apply(ast.literal_eval)\n",
    "user_df['user_biz_spend'] = user_df['user_biz_spend'].apply(ast.literal_eval)\n",
    "user_df['user_user_interaction'] = user_df['user_user_interaction'].apply(ast.literal_eval)\n",
    "user_df['user_user_interaction_frequency'] = user_df['user_user_interaction_frequency'].apply(ast.literal_eval)\n",
    "user_df['user_user_spend'] = user_df['user_user_spend'].apply(ast.literal_eval)\n",
    "user_df['user_industry_interaction'] = user_df['user_industry_interaction'].apply(ast.literal_eval)\n",
    "user_df['user_industry_interaction_frequency'] = user_df['user_industry_interaction_frequency'].apply(ast.literal_eval)\n",
    "user_df['user_industry_spend'] = user_df['user_industry_spend'].apply(ast.literal_eval)\n",
    "user_df['user_date_transaction'] = user_df['user_date_transaction'].apply(ast.literal_eval)\n",
    "user_df['user_date_transaction_freq'] = user_df['user_date_transaction_freq'].apply(ast.literal_eval)"
   ]
  },
  {
   "cell_type": "markdown",
   "id": "0e7ee509",
   "metadata": {},
   "source": [
    "## Setting Classification Lists"
   ]
  },
  {
   "cell_type": "code",
   "execution_count": 55,
   "id": "6c658852",
   "metadata": {},
   "outputs": [],
   "source": [
    "target_biz_list = [\n",
    "    \"KIDS_CLOTHING_SHOP\",\n",
    "    \"TOY_SHOP\",\n",
    "    \"CHILDRENS_SHOP\",\n",
    "    \"SCHOOL_SUPPLY_STORE\",\n",
    "    \"KIDS_ACTIVITY_CENTRE\",\n",
    "    \"HOME_IMPROVEMENT_STORE\",\n",
    "    \"DIY_STORE\",\n",
    "    \"PET_SHOP\",\n",
    "    \"PET_TOY_SHOP\"\n",
    "]\n",
    "\n",
    "parent_biz_list = [\n",
    "    \"KIDS_CLOTHING_SHOP\",\n",
    "    \"TOY_SHOP\",\n",
    "    \"CHILDRENS_SHOP\",\n",
    "    \"SCHOOL_SUPPLY_STORE\",\n",
    "    \"KIDS_ACTIVITY_CENTRE\"\n",
    "]\n",
    "\n",
    "homeowner_biz_list = [\n",
    "    \"HOME_IMPROVEMENT_STORE\",\n",
    "    \"DIY_STORE\"\n",
    "]\n",
    "\n",
    "pet_biz_list = [\n",
    "    \"PET_SHOP\",\n",
    "    \"PET_TOY_SHOP\"\n",
    "]\n",
    "\n",
    "money_move_list = [\n",
    "    \"sent_tx_sum_gbp\",\n",
    "    \"received_tx_sum_gbp\"\n",
    "]"
   ]
  },
  {
   "cell_type": "markdown",
   "id": "05eac573",
   "metadata": {},
   "source": [
    "## Target Biz Spend List"
   ]
  },
  {
   "cell_type": "code",
   "execution_count": 56,
   "id": "f8141ccc",
   "metadata": {},
   "outputs": [],
   "source": [
    "target_biz_spend_list = []\n",
    "\n",
    "target_biz_list_dict = {key: [] for key in target_biz_list}\n",
    "\n",
    "for user_index in range(0, len(user_df)):\n",
    "    target_biz_spend = 0\n",
    "    \n",
    "    target_biz_int_dict = {key: 0 for key in target_biz_list}\n",
    "    \n",
    "    for biz in target_biz_list:\n",
    "        interaction_list = user_df['user_biz_interaction'].iloc[user_index]\n",
    "        interaction_spend_list = user_df['user_biz_spend'].iloc[user_index]\n",
    "\n",
    "        try: \n",
    "            target_biz_pos = interaction_list.index(biz)\n",
    "            target_biz_spend += float(interaction_spend_list[target_biz_pos])\n",
    "            \n",
    "            target_biz_int_dict[biz] += float(interaction_spend_list[target_biz_pos])\n",
    "            target_biz_list_dict[biz].append(target_biz_int_dict[biz])\n",
    "\n",
    "        except:\n",
    "            target_biz_spend += 0\n",
    "            target_biz_list_dict[biz].append(0)\n",
    "        \n",
    "    target_biz_spend_list.append(target_biz_spend)"
   ]
  },
  {
   "cell_type": "markdown",
   "id": "89d31d8f",
   "metadata": {},
   "source": [
    "## Money Move List"
   ]
  },
  {
   "cell_type": "code",
   "execution_count": 59,
   "id": "c8294e55",
   "metadata": {},
   "outputs": [],
   "source": [
    "user_money_moved = (user_df.set_index('user_id')[['sent_tx_sum_gbp', 'received_tx_sum_gbp']].sum(axis=1)).to_dict()"
   ]
  },
  {
   "cell_type": "markdown",
   "id": "2288e9a9",
   "metadata": {},
   "source": [
    "## Industry Specific Lists"
   ]
  },
  {
   "cell_type": "code",
   "execution_count": null,
   "id": "67d7da32",
   "metadata": {},
   "outputs": [],
   "source": [
    "# Parent List\n",
    "\n",
    "\n",
    "# Homeowner List\n",
    "\n",
    "\n",
    "# Pet Owner List\n",
    "\n"
   ]
  }
 ],
 "metadata": {
  "kernelspec": {
   "display_name": "Python 3 (ipykernel)",
   "language": "python",
   "name": "python3"
  },
  "language_info": {
   "codemirror_mode": {
    "name": "ipython",
    "version": 3
   },
   "file_extension": ".py",
   "mimetype": "text/x-python",
   "name": "python",
   "nbconvert_exporter": "python",
   "pygments_lexer": "ipython3",
   "version": "3.9.13"
  }
 },
 "nbformat": 4,
 "nbformat_minor": 5
}
