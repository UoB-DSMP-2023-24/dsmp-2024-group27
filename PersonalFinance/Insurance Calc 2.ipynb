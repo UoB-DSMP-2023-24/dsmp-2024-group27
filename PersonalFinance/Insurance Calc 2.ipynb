{
 "cells": [
  {
   "cell_type": "code",
   "execution_count": 1,
   "id": "a56ae283",
   "metadata": {},
   "outputs": [],
   "source": [
    "# Source\n",
    "# - https://www2.deloitte.com/content/dam/Deloitte/us/Documents/strategy/us-cons-life-insurance-consumer-study.pdf\n",
    "\n",
    "# People to pitch to\n",
    "# - Married\n",
    "# - Parent\n",
    "#   - KIDS_CLOTHING_SHOP\n",
    "#   - TOY_SHOP\n",
    "#   - CHILDRENS_SHOP\n",
    "#   - SCHOOL_SUPPLY_SHOP\n",
    "#   - KIDS_ACTIVITY_CENTRE\n",
    "# - Homeowner\n",
    "#   - HOME_IMPROVEMENT_STORE\n",
    "#   - DIY_STORE\n",
    "# - Pet Owner\n",
    "#   - PET_SHOP\n",
    "#   - PET_TOY_SHOP\n",
    "# - Gross Value Moved\n",
    "#   - sent_tx_sum_gbp\n",
    "#   - received_tx_sum_gbp"
   ]
  },
  {
   "cell_type": "code",
   "execution_count": null,
   "id": "eb0c3c9f",
   "metadata": {},
   "outputs": [],
   "source": []
  }
 ],
 "metadata": {
  "kernelspec": {
   "display_name": "Python 3 (ipykernel)",
   "language": "python",
   "name": "python3"
  },
  "language_info": {
   "codemirror_mode": {
    "name": "ipython",
    "version": 3
   },
   "file_extension": ".py",
   "mimetype": "text/x-python",
   "name": "python",
   "nbconvert_exporter": "python",
   "pygments_lexer": "ipython3",
   "version": "3.9.13"
  }
 },
 "nbformat": 4,
 "nbformat_minor": 5
}
