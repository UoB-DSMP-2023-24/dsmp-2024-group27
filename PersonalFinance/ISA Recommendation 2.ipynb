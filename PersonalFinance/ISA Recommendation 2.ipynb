{
 "cells": [
  {
   "cell_type": "code",
   "execution_count": 1,
   "id": "90bc0a86",
   "metadata": {},
   "outputs": [],
   "source": [
    "import pandas as pd\n",
    "import numpy as np\n",
    "from datetime import datetime\n",
    "import matplotlib.pyplot as plt"
   ]
  },
  {
   "cell_type": "code",
   "execution_count": 2,
   "id": "75eba202",
   "metadata": {},
   "outputs": [],
   "source": [
    "filepath = '../SavedData/simulated_transaction_2024.csv'\n",
    "data = pd.read_csv(filepath) "
   ]
  },
  {
   "cell_type": "markdown",
   "id": "a9f029b9",
   "metadata": {},
   "source": [
    "## Parsing the Date's "
   ]
  },
  {
   "cell_type": "code",
   "execution_count": 3,
   "id": "3f034126",
   "metadata": {},
   "outputs": [],
   "source": [
    "data['Date'] = pd.to_datetime(data['Date'], format='%d/%m/%Y')\n",
    "data['YearMonth'] = data['Date'].dt.to_period('M')"
   ]
  },
  {
   "cell_type": "code",
   "execution_count": 29,
   "id": "fd5ede85",
   "metadata": {},
   "outputs": [],
   "source": [
    "users = data['Account No'].unique()"
   ]
  },
  {
   "cell_type": "code",
   "execution_count": 31,
   "id": "49436483",
   "metadata": {},
   "outputs": [
    {
     "data": {
      "text/plain": [
       "977"
      ]
     },
     "execution_count": 31,
     "metadata": {},
     "output_type": "execute_result"
    }
   ],
   "source": [
    "len(users)"
   ]
  },
  {
   "cell_type": "markdown",
   "id": "ca3dda7c",
   "metadata": {},
   "source": [
    "## Getting the Yearly Spending for Each User"
   ]
  },
  {
   "cell_type": "code",
   "execution_count": 4,
   "id": "41c896bb",
   "metadata": {},
   "outputs": [],
   "source": [
    "monthly_spending = data[data['Amount'] < 0].groupby(['Account No', 'YearMonth'])['Amount'].sum().abs()\n",
    "monthly_spending = monthly_spending.reset_index()\n",
    "monthly_spending_average = monthly_spending.groupby('Account No')['Amount'].mean()\n",
    "yearly_spending = monthly_spending.groupby('Account No')['Amount'].sum()\n",
    "yearly_spending = yearly_spending.reset_index()\n",
    "yearly_spending = yearly_spending.sort_values(by='Account No', ascending=True)\n",
    "yearly_spending.rename(columns={'Amount': 'Spending'}, inplace=True)"
   ]
  },
  {
   "cell_type": "markdown",
   "id": "129b08be",
   "metadata": {},
   "source": [
    "## Getting the Yearling Earnings for Each User"
   ]
  },
  {
   "cell_type": "code",
   "execution_count": 5,
   "id": "8019e47b",
   "metadata": {},
   "outputs": [],
   "source": [
    "monthly_earning = data[data['Amount'] > 0].groupby(['Account No', 'YearMonth'])['Amount'].sum().abs()\n",
    "monthly_earning = monthly_earning.reset_index()\n",
    "monthly_earning_average = monthly_earning.groupby('Account No')['Amount'].mean()\n",
    "yearly_earning = monthly_earning.groupby('Account No')['Amount'].sum()\n",
    "yearly_earning = yearly_earning.reset_index()\n",
    "yearly_earning = yearly_earning.sort_values(by='Account No', ascending=True)\n",
    "yearly_earning.rename(columns={'Amount': 'Earnings'}, inplace=True)"
   ]
  },
  {
   "cell_type": "markdown",
   "id": "4c82cd3c",
   "metadata": {},
   "source": [
    "## Getting the Savings for Each User"
   ]
  },
  {
   "cell_type": "code",
   "execution_count": 6,
   "id": "cf1202a5",
   "metadata": {},
   "outputs": [],
   "source": [
    "# Join the two dataframes together\n",
    "yearly_savings = pd.merge(yearly_earning, yearly_spending, on='Account No', how='inner')\n",
    "yearly_savings['Savings'] = yearly_savings['Earnings'] - yearly_savings['Spending']"
   ]
  },
  {
   "cell_type": "code",
   "execution_count": 7,
   "id": "5115c35f",
   "metadata": {},
   "outputs": [
    {
     "data": {
      "text/html": [
       "<div>\n",
       "<style scoped>\n",
       "    .dataframe tbody tr th:only-of-type {\n",
       "        vertical-align: middle;\n",
       "    }\n",
       "\n",
       "    .dataframe tbody tr th {\n",
       "        vertical-align: top;\n",
       "    }\n",
       "\n",
       "    .dataframe thead th {\n",
       "        text-align: right;\n",
       "    }\n",
       "</style>\n",
       "<table border=\"1\" class=\"dataframe\">\n",
       "  <thead>\n",
       "    <tr style=\"text-align: right;\">\n",
       "      <th></th>\n",
       "      <th>Account No</th>\n",
       "      <th>Earnings</th>\n",
       "      <th>Spending</th>\n",
       "      <th>Savings</th>\n",
       "    </tr>\n",
       "  </thead>\n",
       "  <tbody>\n",
       "    <tr>\n",
       "      <th>0</th>\n",
       "      <td>101531259.0</td>\n",
       "      <td>16967.5</td>\n",
       "      <td>17627.58</td>\n",
       "      <td>-660.08</td>\n",
       "    </tr>\n",
       "    <tr>\n",
       "      <th>1</th>\n",
       "      <td>104832000.0</td>\n",
       "      <td>20550.0</td>\n",
       "      <td>25115.52</td>\n",
       "      <td>-4565.52</td>\n",
       "    </tr>\n",
       "    <tr>\n",
       "      <th>2</th>\n",
       "      <td>105375973.0</td>\n",
       "      <td>9900.0</td>\n",
       "      <td>10093.77</td>\n",
       "      <td>-193.77</td>\n",
       "    </tr>\n",
       "    <tr>\n",
       "      <th>3</th>\n",
       "      <td>106601471.0</td>\n",
       "      <td>18425.0</td>\n",
       "      <td>7776.00</td>\n",
       "      <td>10649.00</td>\n",
       "    </tr>\n",
       "    <tr>\n",
       "      <th>4</th>\n",
       "      <td>108481285.0</td>\n",
       "      <td>25104.0</td>\n",
       "      <td>15065.08</td>\n",
       "      <td>10038.92</td>\n",
       "    </tr>\n",
       "    <tr>\n",
       "      <th>...</th>\n",
       "      <td>...</td>\n",
       "      <td>...</td>\n",
       "      <td>...</td>\n",
       "      <td>...</td>\n",
       "    </tr>\n",
       "    <tr>\n",
       "      <th>871</th>\n",
       "      <td>995615876.0</td>\n",
       "      <td>19063.0</td>\n",
       "      <td>17634.27</td>\n",
       "      <td>1428.73</td>\n",
       "    </tr>\n",
       "    <tr>\n",
       "      <th>872</th>\n",
       "      <td>996042490.0</td>\n",
       "      <td>41250.0</td>\n",
       "      <td>35268.01</td>\n",
       "      <td>5981.99</td>\n",
       "    </tr>\n",
       "    <tr>\n",
       "      <th>873</th>\n",
       "      <td>998390769.0</td>\n",
       "      <td>19500.0</td>\n",
       "      <td>21323.35</td>\n",
       "      <td>-1823.35</td>\n",
       "    </tr>\n",
       "    <tr>\n",
       "      <th>874</th>\n",
       "      <td>998405607.0</td>\n",
       "      <td>6900.0</td>\n",
       "      <td>8816.16</td>\n",
       "      <td>-1916.16</td>\n",
       "    </tr>\n",
       "    <tr>\n",
       "      <th>875</th>\n",
       "      <td>999752672.0</td>\n",
       "      <td>29788.0</td>\n",
       "      <td>30590.27</td>\n",
       "      <td>-802.27</td>\n",
       "    </tr>\n",
       "  </tbody>\n",
       "</table>\n",
       "<p>876 rows × 4 columns</p>\n",
       "</div>"
      ],
      "text/plain": [
       "      Account No  Earnings  Spending   Savings\n",
       "0    101531259.0   16967.5  17627.58   -660.08\n",
       "1    104832000.0   20550.0  25115.52  -4565.52\n",
       "2    105375973.0    9900.0  10093.77   -193.77\n",
       "3    106601471.0   18425.0   7776.00  10649.00\n",
       "4    108481285.0   25104.0  15065.08  10038.92\n",
       "..           ...       ...       ...       ...\n",
       "871  995615876.0   19063.0  17634.27   1428.73\n",
       "872  996042490.0   41250.0  35268.01   5981.99\n",
       "873  998390769.0   19500.0  21323.35  -1823.35\n",
       "874  998405607.0    6900.0   8816.16  -1916.16\n",
       "875  999752672.0   29788.0  30590.27   -802.27\n",
       "\n",
       "[876 rows x 4 columns]"
      ]
     },
     "execution_count": 7,
     "metadata": {},
     "output_type": "execute_result"
    }
   ],
   "source": [
    "yearly_savings"
   ]
  },
  {
   "cell_type": "markdown",
   "id": "188f071e",
   "metadata": {},
   "source": [
    "## Getting the Difference in Balance for Each User"
   ]
  },
  {
   "cell_type": "code",
   "execution_count": 8,
   "id": "8b0973c5",
   "metadata": {},
   "outputs": [],
   "source": [
    "initial_balances = data.groupby('Account No').first()['Balance']\n",
    "initial_balances = initial_balances.reset_index()\n",
    "initial_balances.rename(columns={'Balance': 'Initial Balance'}, inplace=True) \n",
    "final_balances = data.groupby('Account No').last()['Balance']\n",
    "final_balances = final_balances.reset_index()\n",
    "final_balances.rename(columns={'Balance': 'Final Balance'}, inplace=True) \n",
    "\n",
    "# Difference in Balance for Each User\n",
    "balance_difference = pd.merge(initial_balances, final_balances, on='Account No', how='inner')\n",
    "balance_difference['Balance Difference'] = balance_difference['Final Balance'] - balance_difference['Initial Balance']"
   ]
  },
  {
   "cell_type": "markdown",
   "id": "bdb963bd",
   "metadata": {},
   "source": [
    "## Building ISA DataFrame"
   ]
  },
  {
   "cell_type": "code",
   "execution_count": 9,
   "id": "cf2a32b2",
   "metadata": {},
   "outputs": [],
   "source": [
    "isa_df = pd.merge(balance_difference, yearly_savings, on='Account No', how='inner')"
   ]
  },
  {
   "cell_type": "code",
   "execution_count": 10,
   "id": "4bdfd196",
   "metadata": {},
   "outputs": [],
   "source": [
    "isa_pruned_df = isa_df[isa_df['Balance Difference'] > 0]"
   ]
  },
  {
   "cell_type": "code",
   "execution_count": 19,
   "id": "747a6bf2",
   "metadata": {},
   "outputs": [
    {
     "data": {
      "text/plain": [
       "876"
      ]
     },
     "execution_count": 19,
     "metadata": {},
     "output_type": "execute_result"
    }
   ],
   "source": [
    "len(isa_df)"
   ]
  },
  {
   "cell_type": "markdown",
   "id": "6bfb439c",
   "metadata": {},
   "source": [
    "## Building the ISA Recommendation Graph"
   ]
  },
  {
   "cell_type": "markdown",
   "id": "88e13f5b",
   "metadata": {},
   "source": [
    "### Building the Color Logic"
   ]
  },
  {
   "cell_type": "code",
   "execution_count": 14,
   "id": "8ccf4e4d",
   "metadata": {},
   "outputs": [],
   "source": [
    "colors = []\n",
    "v_high = 0\n",
    "high = 0\n",
    "medium = 0\n",
    "low = 0\n",
    "\n",
    "\n",
    "for x in isa_df['Savings']:\n",
    "    if x > 20000:\n",
    "        colors.append('green')\n",
    "        v_high += 1\n",
    "    elif x > 10000:\n",
    "        colors.append('limegreen')\n",
    "        high += 1\n",
    "    elif x > 0:\n",
    "        colors.append('lightgreen')\n",
    "        medium += 1\n",
    "    else:\n",
    "        colors.append('red')\n",
    "        low += 1"
   ]
  },
  {
   "cell_type": "code",
   "execution_count": 35,
   "id": "7ac0b61d",
   "metadata": {},
   "outputs": [
    {
     "name": "stdout",
     "output_type": "stream",
     "text": [
      "297\n"
     ]
    }
   ],
   "source": [
    "user_dif = 876 - low\n",
    "\n",
    "print(medium)"
   ]
  },
  {
   "cell_type": "markdown",
   "id": "06cc8a88",
   "metadata": {},
   "source": [
    "### Building the Graph"
   ]
  },
  {
   "cell_type": "code",
   "execution_count": 13,
   "id": "de59a854",
   "metadata": {},
   "outputs": [
    {
     "data": {
      "image/png": "[encoded data removed]",
      "text/plain": [
       "<Figure size 500x300 with 1 Axes>"
      ]
     },
     "metadata": {},
     "output_type": "display_data"
    }
   ],
   "source": [
    "plt.figure(figsize=(5, 3))\n",
    "plt.style.use('ggplot')\n",
    "\n",
    "plt.scatter(isa_df['Final Balance'], isa_df['Savings'], color=colors, marker='o', s=10, alpha=0.6)  # 's' sets the size of the markers\n",
    "plt.xlabel('Final Balance £')\n",
    "plt.ylabel('Savings Growth £')\n",
    "plt.grid(True)  # Adds a grid\n",
    "plt.show()"
   ]
  },
  {
   "cell_type": "code",
   "execution_count": 47,
   "id": "95deb1aa",
   "metadata": {},
   "outputs": [
    {
     "data": {
      "image/png": "[encoded data removed]",
      "text/plain": [
       "<Figure size 500x300 with 1 Axes>"
      ]
     },
     "metadata": {},
     "output_type": "display_data"
    }
   ],
   "source": [
    "initial_balance_list = list(isa_df['Initial Balance'])\n",
    "final_balance_list = list(isa_df['Final Balance'])\n",
    "\n",
    "plt.figure(figsize=(5, 3))\n",
    "plt.style.use('ggplot')\n",
    "\n",
    "plt.hist(initial_balance_list, bins=10, alpha=0.5, label='Initial Balance', color='blue')\n",
    "plt.hist(final_balance_list, bins=60, alpha=0.5, label='Final Balance', color='green')\n",
    "\n",
    "plt.xlabel('Balance in £')\n",
    "plt.ylabel('Frequency')\n",
    "plt.legend(loc='upper left', bbox_to_anchor=(0.58, 1))\n",
    "\n",
    "plt.show()"
   ]
  },
  {
   "cell_type": "code",
   "execution_count": null,
   "id": "1d518aa7",
   "metadata": {},
   "outputs": [],
   "source": []
  }
 ],
 "metadata": {
  "kernelspec": {
   "display_name": "Python 3 (ipykernel)",
   "language": "python",
   "name": "python3"
  },
  "language_info": {
   "codemirror_mode": {
    "name": "ipython",
    "version": 3
   },
   "file_extension": ".py",
   "mimetype": "text/x-python",
   "name": "python",
   "nbconvert_exporter": "python",
   "pygments_lexer": "ipython3",
   "version": "3.9.13"
  }
 },
 "nbformat": 4,
 "nbformat_minor": 5
}
