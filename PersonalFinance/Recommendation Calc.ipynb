{
 "cells": [
  {
   "cell_type": "markdown",
   "id": "9f39c03a",
   "metadata": {},
   "source": [
    "## Importing Libraries"
   ]
  },
  {
   "cell_type": "code",
   "execution_count": 52,
   "id": "0e81bd01",
   "metadata": {},
   "outputs": [],
   "source": [
    "import pandas as pd\n",
    "import numpy as np\n",
    "from datetime import datetime\n",
    "import ast\n",
    "\n",
    "import industryMap"
   ]
  },
  {
   "cell_type": "markdown",
   "id": "e74852c1",
   "metadata": {},
   "source": [
    "## Importing data"
   ]
  },
  {
   "cell_type": "code",
   "execution_count": 53,
   "id": "417ed50c",
   "metadata": {},
   "outputs": [],
   "source": [
    "# Importing File\n",
    "user_df = pd.read_csv('../SavedData/Lloyds_users.csv')\n",
    "\n",
    "# Changing the lists back to normal columns\n",
    "user_df['user_biz_interaction'] = user_df['user_biz_interaction'].apply(ast.literal_eval)\n",
    "user_df['user_biz_interaction_frequency'] = user_df['user_biz_interaction_frequency'].apply(ast.literal_eval)\n",
    "user_df['user_biz_spend'] = user_df['user_biz_spend'].apply(ast.literal_eval)\n",
    "user_df['user_user_interaction'] = user_df['user_user_interaction'].apply(ast.literal_eval)\n",
    "user_df['user_user_interaction_frequency'] = user_df['user_user_interaction_frequency'].apply(ast.literal_eval)\n",
    "user_df['user_user_spend'] = user_df['user_user_spend'].apply(ast.literal_eval)\n",
    "user_df['user_industry_interaction'] = user_df['user_industry_interaction'].apply(ast.literal_eval)\n",
    "user_df['user_industry_interaction_frequency'] = user_df['user_industry_interaction_frequency'].apply(ast.literal_eval)\n",
    "user_df['user_industry_spend'] = user_df['user_industry_spend'].apply(ast.literal_eval)\n",
    "user_df['user_date_transaction'] = user_df['user_date_transaction'].apply(ast.literal_eval)\n",
    "user_df['user_date_transaction_freq'] = user_df['user_date_transaction_freq'].apply(ast.literal_eval)"
   ]
  },
  {
   "cell_type": "markdown",
   "id": "e176f231",
   "metadata": {},
   "source": [
    "## Get Relative Number of Users"
   ]
  },
  {
   "cell_type": "code",
   "execution_count": 74,
   "id": "dc932745",
   "metadata": {},
   "outputs": [],
   "source": [
    "user_num = len(user_df['user_id'])\n",
    "\n",
    "# If you pick a threshold to high, some industries won't have enough unique users to build the dictionary effectively\n",
    "# Anywhere above 4% starts to include anyone who has spent at an Accessory store, and in fact runs out of people to include in the list\n",
    "# This causes the dictionary entries to be of different lengths\n",
    "user_perc = 3\n",
    "user_perc_threshold = int(round(user_num * (user_perc / 100), 0))"
   ]
  },
  {
   "cell_type": "markdown",
   "id": "3a1eaa22",
   "metadata": {},
   "source": [
    "## Industry Big Spenders"
   ]
  },
  {
   "cell_type": "code",
   "execution_count": 75,
   "id": "e06dc5e4",
   "metadata": {},
   "outputs": [],
   "source": [
    "industry_list = list(set(industryMap.industry_categories.values()))\n",
    "\n",
    "industry_user_spend = {}\n",
    "\n",
    "for industry in industry_list:\n",
    "    \n",
    "    user_spend_dict = {}\n",
    "    top_n = user_perc_threshold\n",
    "    \n",
    "    for row in range(0, len(user_df)):\n",
    "        if(industry in user_df['user_industry_interaction'][row]):\n",
    "            industry_index = user_df['user_industry_interaction'][row].index(industry)\n",
    "            industry_spend = user_df['user_industry_spend'][row][industry_index]\n",
    "            \n",
    "            user_spend_dict[user_df['user_id'][row]] = industry_spend\n",
    "    \n",
    "    sorted_user_spend_dict = dict(sorted(user_spend_dict.items(), key=lambda item: item[1], reverse=True)[:top_n])\n",
    "            \n",
    "    sorted_user_spend_user_list = list(sorted_user_spend_dict.keys())\n",
    "    sorted_user_spend_spend_list = list(sorted_user_spend_dict.values())\n",
    "            \n",
    "    industry_user_spend[industry + ' users'] = sorted_user_spend_user_list\n",
    "    industry_user_spend[industry + ' spends'] = sorted_user_spend_spend_list "
   ]
  },
  {
   "cell_type": "markdown",
   "id": "f0d8440f",
   "metadata": {},
   "source": [
    "## Building Recommendation DataFrame"
   ]
  },
  {
   "cell_type": "code",
   "execution_count": 76,
   "id": "f51d89ab",
   "metadata": {},
   "outputs": [],
   "source": [
    "recommend_user_df = pd.DataFrame(data=industry_user_spend)"
   ]
  },
  {
   "cell_type": "markdown",
   "id": "c391c1de",
   "metadata": {},
   "source": [
    "## Club Lloyds"
   ]
  },
  {
   "cell_type": "code",
   "execution_count": 97,
   "id": "af97b056",
   "metadata": {},
   "outputs": [],
   "source": [
    "# Getting the High Receivers and Creating Dictionary\n",
    "monthly_spend_list_estimate = [x / 12 for x in user_df['received_tx_sum_gbp']]\n",
    "club_lloyds_ad_dict = dict(zip(user_df['user_id'], monthly_spend_list_estimate))\n",
    "sorted_club_lloyds_ad_dict = dict(sorted(club_lloyds_ad_dict.items(), key=lambda item: item[1], reverse=True)[:top_n])\n",
    "\n",
    "# Adding this to the dataframe\n",
    "recommend_user_df['Club Lloyds Target users'] = sorted_club_lloyds_ad_dict.keys()\n",
    "recommend_user_df['Club Lloyds Target monthly recieves'] = sorted_club_lloyds_ad_dict.values()"
   ]
  },
  {
   "cell_type": "markdown",
   "id": "3d1bdc4c",
   "metadata": {},
   "source": [
    "## Saving Dataframe to CSV"
   ]
  },
  {
   "cell_type": "code",
   "execution_count": null,
   "id": "4f147902",
   "metadata": {},
   "outputs": [],
   "source": []
  }
 ],
 "metadata": {
  "kernelspec": {
   "display_name": "Python 3 (ipykernel)",
   "language": "python",
   "name": "python3"
  },
  "language_info": {
   "codemirror_mode": {
    "name": "ipython",
    "version": 3
   },
   "file_extension": ".py",
   "mimetype": "text/x-python",
   "name": "python",
   "nbconvert_exporter": "python",
   "pygments_lexer": "ipython3",
   "version": "3.9.13"
  }
 },
 "nbformat": 4,
 "nbformat_minor": 5
}
