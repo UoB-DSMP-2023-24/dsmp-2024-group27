{
 "cells": [
  {
   "cell_type": "markdown",
   "id": "b3d26d75",
   "metadata": {},
   "source": [
    "# Importing Libraries"
   ]
  },
  {
   "cell_type": "code",
   "execution_count": 1,
   "id": "fc50ae2a",
   "metadata": {},
   "outputs": [],
   "source": [
    "import pandas as pd\n",
    "import numpy as np\n",
    "from datetime import datetime\n",
    "import ast\n"
   ]
  },
  {
   "cell_type": "markdown",
   "id": "43273a23",
   "metadata": {},
   "source": [
    "# Importing data"
   ]
  },
  {
   "cell_type": "code",
   "execution_count": 2,
   "id": "10cad2cc",
   "metadata": {},
   "outputs": [],
   "source": [
    "filepath = '/Users/amaanqureshi/Desktop/TB2/mini project/user_large_with_dates.csv'\n",
    "df = pd.read_csv(filepath) #for classic\n",
    "data = pd.read_csv(filepath) #for club"
   ]
  },
  {
   "cell_type": "markdown",
   "id": "eeb06267",
   "metadata": {},
   "source": [
    "# Classic Eligible users list"
   ]
  },
  {
   "cell_type": "code",
   "execution_count": 3,
   "id": "4a2106e9",
   "metadata": {},
   "outputs": [
    {
     "name": "stdout",
     "output_type": "stream",
     "text": [
      "6377\n",
      "[32768, 98305, 65538, 98316, 65564, 98332, 32798, 32807, 32808, 65578]\n"
     ]
    }
   ],
   "source": [
    "def find_high_spenders(df):\n",
    "    high_spenders = set()\n",
    "    for index, row in df.iterrows():\n",
    "        try:\n",
    "            transactions = ast.literal_eval(row['user_date_transaction'])\n",
    "            spends = ast.literal_eval(row['user_industry_spend'])\n",
    "        except ValueError:\n",
    "            continue  \n",
    "        \n",
    "        monthly_spend = {}\n",
    "        for date, spend in zip(transactions, spends):\n",
    "            date_obj = datetime.strptime(date, '%d/%m/%Y')\n",
    "            year_month = date_obj.strftime('%Y-%m')\n",
    "            monthly_spend[year_month] = monthly_spend.get(year_month, 0) + spend\n",
    "        \n",
    "        if any(spend > 6000 for spend in monthly_spend.values()):\n",
    "            high_spenders.add(row['user_id'])\n",
    "    \n",
    "    return list(high_spenders)\n",
    "\n",
    "high_spenders_list = find_high_spenders(df)\n",
    "\n",
    "print(len(high_spenders_list)) \n",
    "print(high_spenders_list[:10]) "
   ]
  },
  {
   "cell_type": "markdown",
   "id": "64bef643",
   "metadata": {},
   "source": [
    "# Classic Boolean"
   ]
  },
  {
   "cell_type": "code",
   "execution_count": 4,
   "id": "d216bf0e",
   "metadata": {},
   "outputs": [],
   "source": [
    "def safe_eval(str_eval): #because date format.. float error\n",
    "    try:\n",
    "        return ast.literal_eval(str_eval)\n",
    "    except ValueError:\n",
    "        return []\n",
    "\n",
    "def calculate_monthly_spend(date_transactions, spend_transactions):\n",
    "    dates = safe_eval(date_transactions) \n",
    "    spends = safe_eval(spend_transactions)\n",
    "    monthly_spend = {}\n",
    "    for date_str, spend in zip(dates, spends):\n",
    "        try:\n",
    "            date = datetime.strptime(date_str, '%d/%m/%Y')\n",
    "            key = (date.year, date.month)\n",
    "            monthly_spend[key] = monthly_spend.get(key, 0) + spend\n",
    "        except ValueError:\n",
    "            continue  \n",
    "    return monthly_spend\n",
    "\n",
    "def check_eligibility_for_classic(monthly_spend):\n",
    "    return any(spend > 2000 for spend in monthly_spend.values())\n",
    "\n",
    "data['monthly_spend'] = data.apply(lambda row: calculate_monthly_spend(row['user_date_transaction'], row['user_industry_spend']), axis=1)\n",
    "data['eligible_for_classic'] = data['monthly_spend'].apply(check_eligibility_for_classic)"
   ]
  },
  {
   "cell_type": "code",
   "execution_count": 5,
   "id": "a7c8e0e8",
   "metadata": {},
   "outputs": [
    {
     "data": {
      "text/html": [
       "<div>\n",
       "<style scoped>\n",
       "    .dataframe tbody tr th:only-of-type {\n",
       "        vertical-align: middle;\n",
       "    }\n",
       "\n",
       "    .dataframe tbody tr th {\n",
       "        vertical-align: top;\n",
       "    }\n",
       "\n",
       "    .dataframe thead th {\n",
       "        text-align: right;\n",
       "    }\n",
       "</style>\n",
       "<table border=\"1\" class=\"dataframe\">\n",
       "  <thead>\n",
       "    <tr style=\"text-align: right;\">\n",
       "      <th></th>\n",
       "      <th>user_id</th>\n",
       "      <th>eligible_for_classic</th>\n",
       "    </tr>\n",
       "  </thead>\n",
       "  <tbody>\n",
       "    <tr>\n",
       "      <th>0</th>\n",
       "      <td>1000</td>\n",
       "      <td>True</td>\n",
       "    </tr>\n",
       "    <tr>\n",
       "      <th>1</th>\n",
       "      <td>10000</td>\n",
       "      <td>True</td>\n",
       "    </tr>\n",
       "    <tr>\n",
       "      <th>2</th>\n",
       "      <td>100000</td>\n",
       "      <td>True</td>\n",
       "    </tr>\n",
       "    <tr>\n",
       "      <th>3</th>\n",
       "      <td>100002</td>\n",
       "      <td>True</td>\n",
       "    </tr>\n",
       "    <tr>\n",
       "      <th>4</th>\n",
       "      <td>100019</td>\n",
       "      <td>True</td>\n",
       "    </tr>\n",
       "  </tbody>\n",
       "</table>\n",
       "</div>"
      ],
      "text/plain": [
       "   user_id  eligible_for_classic\n",
       "0     1000                  True\n",
       "1    10000                  True\n",
       "2   100000                  True\n",
       "3   100002                  True\n",
       "4   100019                  True"
      ]
     },
     "execution_count": 5,
     "metadata": {},
     "output_type": "execute_result"
    }
   ],
   "source": [
    "eligible_for_classic = data[data['eligible_for_classic'] == True][['user_id', 'eligible_for_classic']]\n",
    "eligible_for_classic.head()"
   ]
  },
  {
   "cell_type": "code",
   "execution_count": 6,
   "id": "017a5b59",
   "metadata": {},
   "outputs": [
    {
     "name": "stdout",
     "output_type": "stream",
     "text": [
      "True     8142\n",
      "False    6094\n",
      "Name: eligible_for_classic, dtype: int64\n"
     ]
    }
   ],
   "source": [
    "eligibility_counts = data['eligible_for_classic'].value_counts()\n",
    "print(eligibility_counts)"
   ]
  },
  {
   "cell_type": "markdown",
   "id": "aab45b03",
   "metadata": {},
   "source": [
    "# Club Lloyds eligible users"
   ]
  },
  {
   "cell_type": "code",
   "execution_count": 7,
   "id": "af15716c",
   "metadata": {},
   "outputs": [
    {
     "data": {
      "text/html": [
       "<div>\n",
       "<style scoped>\n",
       "    .dataframe tbody tr th:only-of-type {\n",
       "        vertical-align: middle;\n",
       "    }\n",
       "\n",
       "    .dataframe tbody tr th {\n",
       "        vertical-align: top;\n",
       "    }\n",
       "\n",
       "    .dataframe thead th {\n",
       "        text-align: right;\n",
       "    }\n",
       "</style>\n",
       "<table border=\"1\" class=\"dataframe\">\n",
       "  <thead>\n",
       "    <tr style=\"text-align: right;\">\n",
       "      <th></th>\n",
       "      <th>user_id</th>\n",
       "      <th>eligible_for_clublloyds</th>\n",
       "    </tr>\n",
       "  </thead>\n",
       "  <tbody>\n",
       "  </tbody>\n",
       "</table>\n",
       "</div>"
      ],
      "text/plain": [
       "Empty DataFrame\n",
       "Columns: [user_id, eligible_for_clublloyds]\n",
       "Index: []"
      ]
     },
     "execution_count": 7,
     "metadata": {},
     "output_type": "execute_result"
    }
   ],
   "source": [
    "data['user_industry_interaction'] = data['user_industry_interaction']##.apply(ast.literal_eval)\n",
    "\n",
    "target_industries = ['Cafes', 'Lunch / Light Meal', 'Coffee Beans and Teas', 'Dining', 'TV/Film']\n",
    "\n",
    "def count_target_interactions(industry_list):\n",
    "    return sum(industry in target_industries for industry in industry_list)\n",
    "\n",
    "data['target_industry_interactions'] = data['user_industry_interaction'].apply(count_target_interactions)\n",
    "threshold = 5\n",
    "\n",
    "data['eligible_for_clublloyds'] = data['target_industry_interactions'] >= threshold\n",
    "\n",
    "recommended_users = data[data['eligible_for_clublloyds']]\n",
    "recommended_users[['user_id', 'eligible_for_clublloyds']].head()"
   ]
  },
  {
   "cell_type": "code",
   "execution_count": 8,
   "id": "97a5e28c",
   "metadata": {},
   "outputs": [
    {
     "name": "stdout",
     "output_type": "stream",
     "text": [
      "False    14236\n",
      "Name: eligible_for_clublloyds, dtype: int64\n"
     ]
    }
   ],
   "source": [
    "recommendation_counts = data['eligible_for_clublloyds'].value_counts()\n",
    "print(recommendation_counts)"
   ]
  },
  {
   "cell_type": "markdown",
   "id": "50d427d6",
   "metadata": {},
   "source": [
    "# Cafe frequencies"
   ]
  },
  {
   "cell_type": "code",
   "execution_count": 9,
   "id": "6fcc8faf",
   "metadata": {},
   "outputs": [
    {
     "name": "stdout",
     "output_type": "stream",
     "text": [
      "   user_id  Cafe_frequency\n",
      "0     1000             813\n",
      "1    10000              23\n",
      "2   100000             828\n",
      "3   100002             281\n",
      "4   100019             214\n"
     ]
    }
   ],
   "source": [
    "def safe_convert_to_list(list_str):\n",
    "    try:\n",
    "        return ast.literal_eval(list_str)\n",
    "    except (ValueError, SyntaxError):\n",
    "        return []\n",
    "\n",
    "    \n",
    "    \n",
    "def calculate_cafe_frequency(row):\n",
    "    industries = row['user_industry_interaction']\n",
    "    frequencies = row['user_industry_interaction_frequency']\n",
    "    \n",
    "    if isinstance(industries, str):\n",
    "        industries = safe_convert_to_list(industries)\n",
    "    if isinstance(frequencies, str):\n",
    "        frequencies = safe_convert_to_list(frequencies)\n",
    "    \n",
    "    cafe_freq = sum(frequency for industry, frequency in zip(industries, frequencies) if industry in ['Cafes', 'Coffee Shops'])\n",
    "    return cafe_freq\n",
    "\n",
    "data['Cafe_frequency'] = data.apply(calculate_cafe_frequency, axis=1)\n",
    "print(data[['user_id', 'Cafe_frequency']].head())"
   ]
  },
  {
   "cell_type": "markdown",
   "id": "8e895fe6",
   "metadata": {},
   "source": [
    "# Dining Frequency"
   ]
  },
  {
   "cell_type": "code",
   "execution_count": 10,
   "id": "6f9cf4d3",
   "metadata": {
    "scrolled": true
   },
   "outputs": [
    {
     "data": {
      "text/html": [
       "<div>\n",
       "<style scoped>\n",
       "    .dataframe tbody tr th:only-of-type {\n",
       "        vertical-align: middle;\n",
       "    }\n",
       "\n",
       "    .dataframe tbody tr th {\n",
       "        vertical-align: top;\n",
       "    }\n",
       "\n",
       "    .dataframe thead th {\n",
       "        text-align: right;\n",
       "    }\n",
       "</style>\n",
       "<table border=\"1\" class=\"dataframe\">\n",
       "  <thead>\n",
       "    <tr style=\"text-align: right;\">\n",
       "      <th></th>\n",
       "      <th>user_id</th>\n",
       "      <th>Dining_frequency</th>\n",
       "    </tr>\n",
       "  </thead>\n",
       "  <tbody>\n",
       "    <tr>\n",
       "      <th>0</th>\n",
       "      <td>1000</td>\n",
       "      <td>37</td>\n",
       "    </tr>\n",
       "    <tr>\n",
       "      <th>1</th>\n",
       "      <td>10000</td>\n",
       "      <td>51</td>\n",
       "    </tr>\n",
       "    <tr>\n",
       "      <th>2</th>\n",
       "      <td>100000</td>\n",
       "      <td>58</td>\n",
       "    </tr>\n",
       "    <tr>\n",
       "      <th>3</th>\n",
       "      <td>100002</td>\n",
       "      <td>33</td>\n",
       "    </tr>\n",
       "    <tr>\n",
       "      <th>4</th>\n",
       "      <td>100019</td>\n",
       "      <td>38</td>\n",
       "    </tr>\n",
       "  </tbody>\n",
       "</table>\n",
       "</div>"
      ],
      "text/plain": [
       "   user_id  Dining_frequency\n",
       "0     1000                37\n",
       "1    10000                51\n",
       "2   100000                58\n",
       "3   100002                33\n",
       "4   100019                38"
      ]
     },
     "execution_count": 10,
     "metadata": {},
     "output_type": "execute_result"
    }
   ],
   "source": [
    "def calculate_dining_frequency(row):\n",
    "    industries = row['user_industry_interaction']\n",
    "    frequencies = row['user_industry_interaction_frequency']\n",
    "    \n",
    "    if isinstance(industries, str):\n",
    "        industries = safe_convert_to_list(industries)\n",
    "    if isinstance(frequencies, str):\n",
    "        frequencies = safe_convert_to_list(frequencies)\n",
    "    \n",
    "    dining_freq = sum(frequency for industry, frequency in zip(industries, frequencies) if industry in ['Dining'])\n",
    "    return dining_freq\n",
    "\n",
    "data['Dining_frequency'] = data.apply(calculate_dining_frequency, axis=1)\n",
    "data[['user_id', 'Dining_frequency']].head()"
   ]
  },
  {
   "cell_type": "markdown",
   "id": "2cc1b049",
   "metadata": {},
   "source": [
    "# Apparel shopping frequency"
   ]
  },
  {
   "cell_type": "code",
   "execution_count": 11,
   "id": "95238f8a",
   "metadata": {},
   "outputs": [
    {
     "data": {
      "text/html": [
       "<div>\n",
       "<style scoped>\n",
       "    .dataframe tbody tr th:only-of-type {\n",
       "        vertical-align: middle;\n",
       "    }\n",
       "\n",
       "    .dataframe tbody tr th {\n",
       "        vertical-align: top;\n",
       "    }\n",
       "\n",
       "    .dataframe thead th {\n",
       "        text-align: right;\n",
       "    }\n",
       "</style>\n",
       "<table border=\"1\" class=\"dataframe\">\n",
       "  <thead>\n",
       "    <tr style=\"text-align: right;\">\n",
       "      <th></th>\n",
       "      <th>user_id</th>\n",
       "      <th>Apparel_frequency</th>\n",
       "    </tr>\n",
       "  </thead>\n",
       "  <tbody>\n",
       "    <tr>\n",
       "      <th>0</th>\n",
       "      <td>1000</td>\n",
       "      <td>1</td>\n",
       "    </tr>\n",
       "    <tr>\n",
       "      <th>1</th>\n",
       "      <td>10000</td>\n",
       "      <td>23</td>\n",
       "    </tr>\n",
       "    <tr>\n",
       "      <th>2</th>\n",
       "      <td>100000</td>\n",
       "      <td>1</td>\n",
       "    </tr>\n",
       "    <tr>\n",
       "      <th>3</th>\n",
       "      <td>100002</td>\n",
       "      <td>32</td>\n",
       "    </tr>\n",
       "    <tr>\n",
       "      <th>4</th>\n",
       "      <td>100019</td>\n",
       "      <td>25</td>\n",
       "    </tr>\n",
       "  </tbody>\n",
       "</table>\n",
       "</div>"
      ],
      "text/plain": [
       "   user_id  Apparel_frequency\n",
       "0     1000                  1\n",
       "1    10000                 23\n",
       "2   100000                  1\n",
       "3   100002                 32\n",
       "4   100019                 25"
      ]
     },
     "execution_count": 11,
     "metadata": {},
     "output_type": "execute_result"
    }
   ],
   "source": [
    "def calculate_apparel_frequency(row):\n",
    "    industries = row['user_industry_interaction']\n",
    "    frequencies = row['user_industry_interaction_frequency']\n",
    "    \n",
    "    if isinstance(industries, str):\n",
    "        industries = safe_convert_to_list(industries)\n",
    "    if isinstance(frequencies, str):\n",
    "        frequencies = safe_convert_to_list(frequencies)\n",
    "    \n",
    "    dining_freq = sum(frequency for industry, frequency in zip(industries, frequencies) if industry in ['Apparel'])\n",
    "    return dining_freq\n",
    "\n",
    "data['Apparel_frequency'] = data.apply(calculate_apparel_frequency, axis=1)\n",
    "data[['user_id', 'Apparel_frequency']].head()"
   ]
  },
  {
   "cell_type": "code",
   "execution_count": null,
   "id": "78c69f69",
   "metadata": {},
   "outputs": [],
   "source": []
  },
  {
   "cell_type": "code",
   "execution_count": null,
   "id": "28cdde2e",
   "metadata": {},
   "outputs": [],
   "source": []
  },
  {
   "cell_type": "code",
   "execution_count": 12,
   "id": "e01af7ad",
   "metadata": {},
   "outputs": [
    {
     "name": "stdout",
     "output_type": "stream",
     "text": [
      "14236\n"
     ]
    }
   ],
   "source": [
    "print(len(df['user_id']))\n"
   ]
  },
  {
   "cell_type": "code",
   "execution_count": null,
   "id": "474ebab2",
   "metadata": {},
   "outputs": [],
   "source": []
  },
  {
   "cell_type": "code",
   "execution_count": null,
   "id": "09de2831",
   "metadata": {},
   "outputs": [],
   "source": []
  },
  {
   "cell_type": "code",
   "execution_count": null,
   "id": "d112698b",
   "metadata": {},
   "outputs": [],
   "source": []
  },
  {
   "cell_type": "code",
   "execution_count": null,
   "id": "eec5ff3a",
   "metadata": {},
   "outputs": [],
   "source": []
  }
 ],
 "metadata": {
  "kernelspec": {
   "display_name": "Python 3 (ipykernel)",
   "language": "python",
   "name": "python3"
  },
  "language_info": {
   "codemirror_mode": {
    "name": "ipython",
    "version": 3
   },
   "file_extension": ".py",
   "mimetype": "text/x-python",
   "name": "python",
   "nbconvert_exporter": "python",
   "pygments_lexer": "ipython3",
   "version": "3.11.4"
  }
 },
 "nbformat": 4,
 "nbformat_minor": 5
}
