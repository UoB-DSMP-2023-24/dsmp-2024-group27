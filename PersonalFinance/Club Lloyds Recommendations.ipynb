{
 "cells": [
  {
   "cell_type": "markdown",
   "id": "9f39c03a",
   "metadata": {},
   "source": [
    "## Importing Libraries"
   ]
  },
  {
   "cell_type": "code",
   "execution_count": 233,
   "id": "0e81bd01",
   "metadata": {},
   "outputs": [],
   "source": [
    "import pandas as pd\n",
    "import numpy as np\n",
    "from datetime import datetime\n",
    "import ast\n",
    "\n",
    "import industryMap"
   ]
  },
  {
   "cell_type": "markdown",
   "id": "e74852c1",
   "metadata": {},
   "source": [
    "## Importing data"
   ]
  },
  {
   "cell_type": "code",
   "execution_count": 234,
   "id": "417ed50c",
   "metadata": {},
   "outputs": [],
   "source": [
    "# Importing File\n",
    "user_df = pd.read_csv('../SavedData/Lloyds_users.csv')\n",
    "\n",
    "# Changing the lists back to normal columns\n",
    "user_df['user_biz_interaction'] = user_df['user_biz_interaction'].apply(ast.literal_eval)\n",
    "user_df['user_biz_interaction_frequency'] = user_df['user_biz_interaction_frequency'].apply(ast.literal_eval)\n",
    "user_df['user_biz_spend'] = user_df['user_biz_spend'].apply(ast.literal_eval)\n",
    "user_df['user_user_interaction'] = user_df['user_user_interaction'].apply(ast.literal_eval)\n",
    "user_df['user_user_interaction_frequency'] = user_df['user_user_interaction_frequency'].apply(ast.literal_eval)\n",
    "user_df['user_user_spend'] = user_df['user_user_spend'].apply(ast.literal_eval)\n",
    "user_df['user_industry_interaction'] = user_df['user_industry_interaction'].apply(ast.literal_eval)\n",
    "user_df['user_industry_interaction_frequency'] = user_df['user_industry_interaction_frequency'].apply(ast.literal_eval)\n",
    "user_df['user_industry_spend'] = user_df['user_industry_spend'].apply(ast.literal_eval)\n",
    "user_df['user_date_transaction'] = user_df['user_date_transaction'].apply(ast.literal_eval)\n",
    "user_df['user_date_transaction_freq'] = user_df['user_date_transaction_freq'].apply(ast.literal_eval)"
   ]
  },
  {
   "cell_type": "markdown",
   "id": "e176f231",
   "metadata": {},
   "source": [
    "## Get Relative Number of Users"
   ]
  },
  {
   "cell_type": "code",
   "execution_count": 235,
   "id": "dc932745",
   "metadata": {},
   "outputs": [],
   "source": [
    "user_num = len(user_df['user_id'])\n",
    "\n",
    "# If you pick a threshold to high, some industries won't have enough unique users to build the dictionary effectively\n",
    "# Anywhere above 4% starts to include anyone who has spent at an Accessory store, and in fact runs out of people to include in the list\n",
    "# This causes the dictionary entries to be of different lengths\n",
    "user_perc = 20\n",
    "user_perc_threshold = int(round(user_num * (user_perc / 100), 0))"
   ]
  },
  {
   "cell_type": "markdown",
   "id": "3a1eaa22",
   "metadata": {},
   "source": [
    "## Industry Big Spenders"
   ]
  },
  {
   "cell_type": "code",
   "execution_count": 236,
   "id": "e06dc5e4",
   "metadata": {},
   "outputs": [],
   "source": [
    "#industry_list = list(set(industryMap.industry_categories.values()))\n",
    "#industry_list.remove('Accessories')\n",
    "\n",
    "industry_list = ['Cafes', 'TV/Film', 'Lunch / Light Meal']\n",
    "\n",
    "industry_user_spend = {}\n",
    "\n",
    "for industry in industry_list:\n",
    "    \n",
    "    user_spend_dict = {}\n",
    "    top_n = user_perc_threshold\n",
    "    \n",
    "    for row in range(0, len(user_df)):\n",
    "        if(industry in user_df['user_industry_interaction'][row]):\n",
    "            industry_index = user_df['user_industry_interaction'][row].index(industry)\n",
    "            industry_spend = user_df['user_industry_spend'][row][industry_index]\n",
    "            \n",
    "            user_spend_dict[user_df['user_id'][row]] = industry_spend\n",
    "    \n",
    "    sorted_user_spend_dict = dict(sorted(user_spend_dict.items(), key=lambda item: item[1], reverse=True)[:top_n])\n",
    "            \n",
    "    sorted_user_spend_user_list = list(sorted_user_spend_dict.keys())\n",
    "    sorted_user_spend_spend_list = list(sorted_user_spend_dict.values())\n",
    "            \n",
    "    industry_user_spend[industry + ' users'] = sorted_user_spend_user_list\n",
    "    industry_user_spend[industry + ' spends'] = sorted_user_spend_spend_list "
   ]
  },
  {
   "cell_type": "markdown",
   "id": "f0d8440f",
   "metadata": {},
   "source": [
    "## Building Recommendation DataFrame"
   ]
  },
  {
   "cell_type": "code",
   "execution_count": 237,
   "id": "f51d89ab",
   "metadata": {},
   "outputs": [],
   "source": [
    "recommend_user_df = pd.DataFrame(data=industry_user_spend)"
   ]
  },
  {
   "cell_type": "markdown",
   "id": "c391c1de",
   "metadata": {},
   "source": [
    "## Club Lloyds"
   ]
  },
  {
   "cell_type": "code",
   "execution_count": 238,
   "id": "af97b056",
   "metadata": {},
   "outputs": [],
   "source": [
    "# Getting the High Receivers and Creating Dictionary\n",
    "monthly_received_list_estimate = [x / 12 for x in user_df['received_tx_sum_gbp']]\n",
    "club_lloyds_ad_dict = dict(zip(user_df['user_id'], monthly_received_list_estimate))\n",
    "sorted_club_lloyds_ad_dict = dict(sorted(club_lloyds_ad_dict.items(), key=lambda item: item[1], reverse=True)[:top_n])\n",
    "\n",
    "# Adding this to the dataframe\n",
    "recommend_user_df['Club Lloyds Target users'] = sorted_club_lloyds_ad_dict.keys()\n",
    "recommend_user_df['Club Lloyds Target monthly recieves'] = sorted_club_lloyds_ad_dict.values()"
   ]
  },
  {
   "cell_type": "code",
   "execution_count": 239,
   "id": "ca1b28b1",
   "metadata": {},
   "outputs": [
    {
     "data": {
      "text/plain": [
       "5336    483241.3\n",
       "Name: received_tx_sum_gbp, dtype: float64"
      ]
     },
     "execution_count": 239,
     "metadata": {},
     "output_type": "execute_result"
    }
   ],
   "source": [
    "user_df[user_df['user_id'] == 67945]['received_tx_sum_gbp']"
   ]
  },
  {
   "cell_type": "markdown",
   "id": "3d1bdc4c",
   "metadata": {},
   "source": [
    "## Saving Dataframe to CSV"
   ]
  },
  {
   "cell_type": "code",
   "execution_count": 240,
   "id": "4f147902",
   "metadata": {},
   "outputs": [
    {
     "data": {
      "text/html": [
       "<div>\n",
       "<style scoped>\n",
       "    .dataframe tbody tr th:only-of-type {\n",
       "        vertical-align: middle;\n",
       "    }\n",
       "\n",
       "    .dataframe tbody tr th {\n",
       "        vertical-align: top;\n",
       "    }\n",
       "\n",
       "    .dataframe thead th {\n",
       "        text-align: right;\n",
       "    }\n",
       "</style>\n",
       "<table border=\"1\" class=\"dataframe\">\n",
       "  <thead>\n",
       "    <tr style=\"text-align: right;\">\n",
       "      <th></th>\n",
       "      <th>Cafes users</th>\n",
       "      <th>Cafes spends</th>\n",
       "      <th>TV/Film users</th>\n",
       "      <th>TV/Film spends</th>\n",
       "      <th>Lunch / Light Meal users</th>\n",
       "      <th>Lunch / Light Meal spends</th>\n",
       "      <th>Club Lloyds Target users</th>\n",
       "      <th>Club Lloyds Target monthly recieves</th>\n",
       "    </tr>\n",
       "  </thead>\n",
       "  <tbody>\n",
       "    <tr>\n",
       "      <th>0</th>\n",
       "      <td>84946</td>\n",
       "      <td>2419.40</td>\n",
       "      <td>8295</td>\n",
       "      <td>530.88</td>\n",
       "      <td>1615</td>\n",
       "      <td>1921.02</td>\n",
       "      <td>62396</td>\n",
       "      <td>42610.995833</td>\n",
       "    </tr>\n",
       "    <tr>\n",
       "      <th>1</th>\n",
       "      <td>76581</td>\n",
       "      <td>2415.95</td>\n",
       "      <td>75897</td>\n",
       "      <td>517.88</td>\n",
       "      <td>84302</td>\n",
       "      <td>1828.73</td>\n",
       "      <td>67945</td>\n",
       "      <td>40270.108333</td>\n",
       "    </tr>\n",
       "    <tr>\n",
       "      <th>2</th>\n",
       "      <td>29460</td>\n",
       "      <td>2391.95</td>\n",
       "      <td>29418</td>\n",
       "      <td>500.88</td>\n",
       "      <td>51233</td>\n",
       "      <td>1820.91</td>\n",
       "      <td>68986</td>\n",
       "      <td>39703.404167</td>\n",
       "    </tr>\n",
       "    <tr>\n",
       "      <th>3</th>\n",
       "      <td>40532</td>\n",
       "      <td>2382.90</td>\n",
       "      <td>32858</td>\n",
       "      <td>494.88</td>\n",
       "      <td>37688</td>\n",
       "      <td>1820.29</td>\n",
       "      <td>32858</td>\n",
       "      <td>36529.708333</td>\n",
       "    </tr>\n",
       "    <tr>\n",
       "      <th>4</th>\n",
       "      <td>41688</td>\n",
       "      <td>2381.10</td>\n",
       "      <td>40921</td>\n",
       "      <td>486.88</td>\n",
       "      <td>97898</td>\n",
       "      <td>1803.98</td>\n",
       "      <td>13904</td>\n",
       "      <td>36198.741667</td>\n",
       "    </tr>\n",
       "    <tr>\n",
       "      <th>...</th>\n",
       "      <td>...</td>\n",
       "      <td>...</td>\n",
       "      <td>...</td>\n",
       "      <td>...</td>\n",
       "      <td>...</td>\n",
       "      <td>...</td>\n",
       "      <td>...</td>\n",
       "      <td>...</td>\n",
       "    </tr>\n",
       "    <tr>\n",
       "      <th>1623</th>\n",
       "      <td>61341</td>\n",
       "      <td>1963.70</td>\n",
       "      <td>73842</td>\n",
       "      <td>352.88</td>\n",
       "      <td>3102</td>\n",
       "      <td>1065.50</td>\n",
       "      <td>13133</td>\n",
       "      <td>223.023333</td>\n",
       "    </tr>\n",
       "    <tr>\n",
       "      <th>1624</th>\n",
       "      <td>18852</td>\n",
       "      <td>1963.55</td>\n",
       "      <td>76527</td>\n",
       "      <td>352.88</td>\n",
       "      <td>81946</td>\n",
       "      <td>1065.00</td>\n",
       "      <td>53441</td>\n",
       "      <td>217.846667</td>\n",
       "    </tr>\n",
       "    <tr>\n",
       "      <th>1625</th>\n",
       "      <td>92237</td>\n",
       "      <td>1963.50</td>\n",
       "      <td>76757</td>\n",
       "      <td>352.88</td>\n",
       "      <td>99288</td>\n",
       "      <td>1060.73</td>\n",
       "      <td>56748</td>\n",
       "      <td>215.879167</td>\n",
       "    </tr>\n",
       "    <tr>\n",
       "      <th>1626</th>\n",
       "      <td>24009</td>\n",
       "      <td>1963.40</td>\n",
       "      <td>78468</td>\n",
       "      <td>352.88</td>\n",
       "      <td>48390</td>\n",
       "      <td>1049.50</td>\n",
       "      <td>64207</td>\n",
       "      <td>215.541667</td>\n",
       "    </tr>\n",
       "    <tr>\n",
       "      <th>1627</th>\n",
       "      <td>70290</td>\n",
       "      <td>1963.35</td>\n",
       "      <td>79386</td>\n",
       "      <td>352.88</td>\n",
       "      <td>20923</td>\n",
       "      <td>1039.00</td>\n",
       "      <td>51889</td>\n",
       "      <td>214.146667</td>\n",
       "    </tr>\n",
       "  </tbody>\n",
       "</table>\n",
       "<p>1628 rows × 8 columns</p>\n",
       "</div>"
      ],
      "text/plain": [
       "      Cafes users  Cafes spends  TV/Film users  TV/Film spends  \\\n",
       "0           84946       2419.40           8295          530.88   \n",
       "1           76581       2415.95          75897          517.88   \n",
       "2           29460       2391.95          29418          500.88   \n",
       "3           40532       2382.90          32858          494.88   \n",
       "4           41688       2381.10          40921          486.88   \n",
       "...           ...           ...            ...             ...   \n",
       "1623        61341       1963.70          73842          352.88   \n",
       "1624        18852       1963.55          76527          352.88   \n",
       "1625        92237       1963.50          76757          352.88   \n",
       "1626        24009       1963.40          78468          352.88   \n",
       "1627        70290       1963.35          79386          352.88   \n",
       "\n",
       "      Lunch / Light Meal users  Lunch / Light Meal spends  \\\n",
       "0                         1615                    1921.02   \n",
       "1                        84302                    1828.73   \n",
       "2                        51233                    1820.91   \n",
       "3                        37688                    1820.29   \n",
       "4                        97898                    1803.98   \n",
       "...                        ...                        ...   \n",
       "1623                      3102                    1065.50   \n",
       "1624                     81946                    1065.00   \n",
       "1625                     99288                    1060.73   \n",
       "1626                     48390                    1049.50   \n",
       "1627                     20923                    1039.00   \n",
       "\n",
       "      Club Lloyds Target users  Club Lloyds Target monthly recieves  \n",
       "0                        62396                         42610.995833  \n",
       "1                        67945                         40270.108333  \n",
       "2                        68986                         39703.404167  \n",
       "3                        32858                         36529.708333  \n",
       "4                        13904                         36198.741667  \n",
       "...                        ...                                  ...  \n",
       "1623                     13133                           223.023333  \n",
       "1624                     53441                           217.846667  \n",
       "1625                     56748                           215.879167  \n",
       "1626                     64207                           215.541667  \n",
       "1627                     51889                           214.146667  \n",
       "\n",
       "[1628 rows x 8 columns]"
      ]
     },
     "execution_count": 240,
     "metadata": {},
     "output_type": "execute_result"
    }
   ],
   "source": [
    "recommend_user_df"
   ]
  },
  {
   "cell_type": "markdown",
   "id": "5368db43",
   "metadata": {},
   "source": [
    "## Things to Record"
   ]
  },
  {
   "cell_type": "code",
   "execution_count": 241,
   "id": "b7d298a6",
   "metadata": {},
   "outputs": [],
   "source": [
    "# Total Number of People who receive 1800 a month\n",
    "# Overlapping Bar Chart Showing Spend in Users for the Key Industries"
   ]
  },
  {
   "cell_type": "code",
   "execution_count": 242,
   "id": "65938526",
   "metadata": {},
   "outputs": [
    {
     "data": {
      "text/plain": [
       "187"
      ]
     },
     "execution_count": 242,
     "metadata": {},
     "output_type": "execute_result"
    }
   ],
   "source": [
    "# Total number of people eligible to recieve club lloyds for free\n",
    "club_lloyds_free = recommend_user_df[recommend_user_df['Club Lloyds Target monthly recieves'] > 1800]\n",
    "len(club_lloyds_free)"
   ]
  },
  {
   "cell_type": "code",
   "execution_count": 243,
   "id": "d2b56ff2",
   "metadata": {},
   "outputs": [],
   "source": [
    "# Overlapping Bar Chart Showing Spend in Users for the Key Industries\n",
    "club_lloyds_deal = recommend_user_df.loc[:, ['Cafes spends', 'TV/Film spends', 'Lunch / Light Meal spends']]\n",
    "club_lloyds_deal = club_lloyds_deal[['Cafes spends', 'TV/Film spends', 'Lunch / Light Meal spends']] / 12\n",
    "\n",
    "tv_cl_list = club_lloyds_deal['TV/Film spends']\n",
    "llm_cl_list = club_lloyds_deal['Lunch / Light Meal spends']\n",
    "cafes_cl_list = club_lloyds_deal['Cafes spends']"
   ]
  },
  {
   "cell_type": "code",
   "execution_count": 244,
   "id": "51b78d1a",
   "metadata": {},
   "outputs": [
    {
     "data": {
      "text/plain": [
       "0       44.240000\n",
       "1       43.156667\n",
       "2       41.740000\n",
       "3       41.240000\n",
       "4       40.573333\n",
       "          ...    \n",
       "1623    29.406667\n",
       "1624    29.406667\n",
       "1625    29.406667\n",
       "1626    29.406667\n",
       "1627    29.406667\n",
       "Name: TV/Film spends, Length: 1628, dtype: float64"
      ]
     },
     "execution_count": 244,
     "metadata": {},
     "output_type": "execute_result"
    }
   ],
   "source": [
    "tv_cl_list"
   ]
  },
  {
   "cell_type": "markdown",
   "id": "bb7f8c4d",
   "metadata": {},
   "source": [
    "## Graphing the Spending"
   ]
  },
  {
   "cell_type": "code",
   "execution_count": 250,
   "id": "88e81f67",
   "metadata": {},
   "outputs": [
    {
     "data": {
      "image/png": "[encoded data removed]",
      "text/plain": [
       "<Figure size 640x480 with 1 Axes>"
      ]
     },
     "metadata": {},
     "output_type": "display_data"
    }
   ],
   "source": [
    "import matplotlib.pyplot as plt\n",
    "\n",
    "plt.hist(tv_cl_list, bins=20, alpha=0.5, label='TV and Film Spending', color='blue')\n",
    "plt.hist(llm_cl_list, bins=20, alpha=0.5, label='Lunch and Light Meal Spending', color='green')\n",
    "plt.hist(cafes_cl_list, bins=20, alpha=0.5, label='Cafes Spending', color='red')\n",
    "\n",
    "# Calculating the median's of each histogram\n",
    "median_tv_cl = np.median(tv_cl_list)\n",
    "median_llm_cl = np.median(llm_cl_list)\n",
    "median_cafes_cl = np.median(cafes_cl_list)\n",
    "\n",
    "plt.axvline(median_tv_cl, color='blue', linestyle='dashed', linewidth=1, label='Median (TV)')\n",
    "plt.axvline(median_llm_cl, color='green', linestyle='dashed', linewidth=1, label='Median (LLM)')\n",
    "plt.axvline(median_cafes_cl, color='red', linestyle='dashed', linewidth=1, label='Median (Cafes)')\n",
    "\n",
    "# Adding labels directly next to the median lines\n",
    "plt.text(median_tv_cl, plt.ylim()[1]*0.95, ' {:.2f}'.format(median_tv_cl), color='blue')\n",
    "plt.text(median_llm_cl, plt.ylim()[1]*0.95, ' {:.2f}'.format(median_llm_cl), color='green')\n",
    "plt.text(median_cafes_cl, plt.ylim()[1]*0.95, ' {:.2f}'.format(median_cafes_cl), color='red')\n",
    "\n",
    "plt.title('Comparison of Three Distributions')\n",
    "plt.xlabel('Value Range')\n",
    "plt.ylabel('Frequency')\n",
    "plt.legend(loc='upper left', bbox_to_anchor=(1, 1))\n",
    "\n",
    "plt.show()"
   ]
  }
 ],
 "metadata": {
  "kernelspec": {
   "display_name": "Python 3 (ipykernel)",
   "language": "python",
   "name": "python3"
  },
  "language_info": {
   "codemirror_mode": {
    "name": "ipython",
    "version": 3
   },
   "file_extension": ".py",
   "mimetype": "text/x-python",
   "name": "python",
   "nbconvert_exporter": "python",
   "pygments_lexer": "ipython3",
   "version": "3.9.13"
  }
 },
 "nbformat": 4,
 "nbformat_minor": 5
}
