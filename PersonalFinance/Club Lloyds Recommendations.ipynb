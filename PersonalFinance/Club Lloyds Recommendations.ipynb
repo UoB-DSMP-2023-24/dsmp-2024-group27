{
 "cells": [
  {
   "cell_type": "markdown",
   "id": "9f39c03a",
   "metadata": {},
   "source": [
    "## Importing Libraries"
   ]
  },
  {
   "cell_type": "code",
   "execution_count": 7,
   "id": "0e81bd01",
   "metadata": {},
   "outputs": [],
   "source": [
    "import pandas as pd\n",
    "import numpy as np\n",
    "from datetime import datetime\n",
    "import ast\n",
    "\n",
    "import industryMap"
   ]
  },
  {
   "cell_type": "markdown",
   "id": "e74852c1",
   "metadata": {},
   "source": [
    "## Importing data"
   ]
  },
  {
   "cell_type": "code",
   "execution_count": 8,
   "id": "417ed50c",
   "metadata": {},
   "outputs": [],
   "source": [
    "# Importing File\n",
    "user_df = pd.read_csv('../SavedData/Lloyds_users.csv')\n",
    "\n",
    "# Changing the lists back to normal columns\n",
    "user_df['user_biz_interaction'] = user_df['user_biz_interaction'].apply(ast.literal_eval)\n",
    "user_df['user_biz_interaction_frequency'] = user_df['user_biz_interaction_frequency'].apply(ast.literal_eval)\n",
    "user_df['user_biz_spend'] = user_df['user_biz_spend'].apply(ast.literal_eval)\n",
    "user_df['user_user_interaction'] = user_df['user_user_interaction'].apply(ast.literal_eval)\n",
    "user_df['user_user_interaction_frequency'] = user_df['user_user_interaction_frequency'].apply(ast.literal_eval)\n",
    "user_df['user_user_spend'] = user_df['user_user_spend'].apply(ast.literal_eval)\n",
    "user_df['user_industry_interaction'] = user_df['user_industry_interaction'].apply(ast.literal_eval)\n",
    "user_df['user_industry_interaction_frequency'] = user_df['user_industry_interaction_frequency'].apply(ast.literal_eval)\n",
    "user_df['user_industry_spend'] = user_df['user_industry_spend'].apply(ast.literal_eval)\n",
    "user_df['user_date_transaction'] = user_df['user_date_transaction'].apply(ast.literal_eval)\n",
    "user_df['user_date_transaction_freq'] = user_df['user_date_transaction_freq'].apply(ast.literal_eval)"
   ]
  },
  {
   "cell_type": "markdown",
   "id": "e176f231",
   "metadata": {},
   "source": [
    "## Get Relative Number of Users"
   ]
  },
  {
   "cell_type": "code",
   "execution_count": 10,
   "id": "dc932745",
   "metadata": {},
   "outputs": [],
   "source": [
    "user_num = len(user_df['user_id'])\n",
    "\n",
    "# If you pick a threshold to high, some industries won't have enough unique users to build the dictionary effectively\n",
    "# Anywhere above 4% starts to include anyone who has spent at an Accessory store, and in fact runs out of people to include in the list\n",
    "# This causes the dictionary entries to be of different lengths\n",
    "user_perc = 20\n",
    "user_perc_threshold = int(round(user_num * (user_perc / 100), 0))"
   ]
  },
  {
   "cell_type": "markdown",
   "id": "3a1eaa22",
   "metadata": {},
   "source": [
    "## Industry Big Spenders"
   ]
  },
  {
   "cell_type": "code",
   "execution_count": 27,
   "id": "e06dc5e4",
   "metadata": {},
   "outputs": [],
   "source": [
    "#industry_list = list(set(industryMap.industry_categories.values()))\n",
    "#industry_list.remove('Accessories')\n",
    "\n",
    "industry_list = ['Cafes', 'TV/Film', 'Dining']\n",
    "\n",
    "industry_user_spend = {}\n",
    "\n",
    "for industry in industry_list:\n",
    "    \n",
    "    user_spend_dict = {}\n",
    "    top_n = user_perc_threshold\n",
    "    \n",
    "    for row in range(0, len(user_df)):\n",
    "        if(industry in user_df['user_industry_interaction'][row]):\n",
    "            industry_index = user_df['user_industry_interaction'][row].index(industry)\n",
    "            industry_spend = user_df['user_industry_spend'][row][industry_index]\n",
    "            \n",
    "            user_spend_dict[user_df['user_id'][row]] = industry_spend\n",
    "    \n",
    "    sorted_user_spend_dict = dict(sorted(user_spend_dict.items(), key=lambda item: item[1], reverse=True)[:top_n])\n",
    "            \n",
    "    sorted_user_spend_user_list = list(sorted_user_spend_dict.keys())\n",
    "    sorted_user_spend_spend_list = list(sorted_user_spend_dict.values())\n",
    "            \n",
    "    industry_user_spend[industry + ' users'] = sorted_user_spend_user_list\n",
    "    industry_user_spend[industry + ' spends'] = sorted_user_spend_spend_list "
   ]
  },
  {
   "cell_type": "markdown",
   "id": "f0d8440f",
   "metadata": {},
   "source": [
    "## Building Recommendation DataFrame"
   ]
  },
  {
   "cell_type": "code",
   "execution_count": 28,
   "id": "f51d89ab",
   "metadata": {},
   "outputs": [],
   "source": [
    "recommend_user_df = pd.DataFrame(data=industry_user_spend)"
   ]
  },
  {
   "cell_type": "markdown",
   "id": "c391c1de",
   "metadata": {},
   "source": [
    "## Club Lloyds"
   ]
  },
  {
   "cell_type": "code",
   "execution_count": 29,
   "id": "af97b056",
   "metadata": {},
   "outputs": [],
   "source": [
    "# Getting the High Receivers and Creating Dictionary\n",
    "monthly_received_list_estimate = [x / 12 for x in user_df['received_tx_sum_gbp']]\n",
    "club_lloyds_ad_dict = dict(zip(user_df['user_id'], monthly_received_list_estimate))\n",
    "sorted_club_lloyds_ad_dict = dict(sorted(club_lloyds_ad_dict.items(), key=lambda item: item[1], reverse=True)[:top_n])\n",
    "\n",
    "# Adding this to the dataframe\n",
    "recommend_user_df['Club Lloyds Target users'] = sorted_club_lloyds_ad_dict.keys()\n",
    "recommend_user_df['Club Lloyds Target monthly recieves'] = sorted_club_lloyds_ad_dict.values()"
   ]
  },
  {
   "cell_type": "markdown",
   "id": "3d1bdc4c",
   "metadata": {},
   "source": [
    "## Saving Dataframe to CSV"
   ]
  },
  {
   "cell_type": "markdown",
   "id": "5368db43",
   "metadata": {},
   "source": [
    "## Things to Record"
   ]
  },
  {
   "cell_type": "code",
   "execution_count": 30,
   "id": "b7d298a6",
   "metadata": {},
   "outputs": [],
   "source": [
    "# Total Number of People who receive 1800 a month\n",
    "# Overlapping Bar Chart Showing Spend in Users for the Key Industries"
   ]
  },
  {
   "cell_type": "code",
   "execution_count": 31,
   "id": "65938526",
   "metadata": {},
   "outputs": [
    {
     "name": "stdout",
     "output_type": "stream",
     "text": [
      "116\n",
      "162\n"
     ]
    }
   ],
   "source": [
    "# Total number of people eligible to recieve club lloyds for free\n",
    "club_lloyds_free = recommend_user_df[recommend_user_df['Club Lloyds Target monthly recieves'] > 1600]\n",
    "club_lloyds_very_free = recommend_user_df[recommend_user_df['Club Lloyds Target monthly recieves'] > 2000]\n",
    "print(len(club_lloyds_very_free))\n",
    "print(str(len(club_lloyds_free) - len(club_lloyds_very_free)))"
   ]
  },
  {
   "cell_type": "code",
   "execution_count": 32,
   "id": "d2b56ff2",
   "metadata": {},
   "outputs": [],
   "source": [
    "# Overlapping Bar Chart Showing Spend in Users for the Key Industries\n",
    "club_lloyds_deal = recommend_user_df.loc[:, ['Cafes spends', 'TV/Film spends', 'Dining spends']]\n",
    "club_lloyds_deal = club_lloyds_deal[['Cafes spends', 'TV/Film spends', 'Dining spends']] / 12\n",
    "\n",
    "tv_cl_list = club_lloyds_deal['TV/Film spends']\n",
    "dining_cl_list = club_lloyds_deal['Dining spends']\n",
    "cafes_cl_list = club_lloyds_deal['Cafes spends']"
   ]
  },
  {
   "cell_type": "markdown",
   "id": "bb7f8c4d",
   "metadata": {},
   "source": [
    "## Graphing the Spending"
   ]
  },
  {
   "cell_type": "code",
   "execution_count": 92,
   "id": "88e81f67",
   "metadata": {},
   "outputs": [
    {
     "data": {
      "image/png": "[encoded data removed]",
      "text/plain": [
       "<Figure size 500x300 with 1 Axes>"
      ]
     },
     "metadata": {},
     "output_type": "display_data"
    }
   ],
   "source": [
    "import matplotlib.pyplot as plt\n",
    "\n",
    "plt.figure(figsize=(5, 3))\n",
    "plt.style.use('ggplot')\n",
    "\n",
    "plt.hist(tv_cl_list, bins=20, alpha=0.6, label='TV and Film Spending', color='blue')\n",
    "plt.hist(dining_cl_list, bins=20, alpha=0.6, label='Dining Spending', color='green')\n",
    "plt.hist(cafes_cl_list, bins=20, alpha=0.6, label='Cafes Spending', color='red')\n",
    "\n",
    "# Calculating the median's of each histogram\n",
    "median_tv_cl = np.median(tv_cl_list)\n",
    "median_dining_cl = np.median(dining_cl_list)\n",
    "median_cafes_cl = np.median(cafes_cl_list)\n",
    "\n",
    "# Adding labels directly next to the median lines\n",
    "plt.text(median_tv_cl + 5, plt.ylim()[1]*0.9, 'TV and Film', color='blue')\n",
    "plt.text(median_dining_cl - 40, plt.ylim()[1]*0.9, 'Dining', color='green')\n",
    "plt.text(median_cafes_cl + 5, plt.ylim()[1]*0.9, 'Cafes', color='red')\n",
    "\n",
    "#plt.title('Spending Histogram of Key Industries')\n",
    "plt.xlabel('Spending in GBP')\n",
    "plt.ylabel('Frequency')\n",
    "#plt.legend(loc='upper left', bbox_to_anchor=(1, 1))\n",
    "\n",
    "plt.show()"
   ]
  },
  {
   "cell_type": "code",
   "execution_count": 50,
   "id": "1d0366e8",
   "metadata": {},
   "outputs": [
    {
     "name": "stdout",
     "output_type": "stream",
     "text": [
      "1398\n",
      "1628\n",
      "769\n"
     ]
    }
   ],
   "source": [
    "tv_spend_length = len([val for val in tv_cl_list if val > 30])\n",
    "dining_spend_length = len([val for val in dining_cl_list if val > 100])\n",
    "cafe_spend_length = len([val for val in cafes_cl_list if val > 170])\n",
    "\n",
    "print(tv_spend_length)\n",
    "print(dining_spend_length)\n",
    "print(cafe_spend_length)"
   ]
  },
  {
   "cell_type": "code",
   "execution_count": null,
   "id": "8674984d",
   "metadata": {},
   "outputs": [],
   "source": []
  }
 ],
 "metadata": {
  "kernelspec": {
   "display_name": "Python 3 (ipykernel)",
   "language": "python",
   "name": "python3"
  },
  "language_info": {
   "codemirror_mode": {
    "name": "ipython",
    "version": 3
   },
   "file_extension": ".py",
   "mimetype": "text/x-python",
   "name": "python",
   "nbconvert_exporter": "python",
   "pygments_lexer": "ipython3",
   "version": "3.9.13"
  }
 },
 "nbformat": 4,
 "nbformat_minor": 5
}
