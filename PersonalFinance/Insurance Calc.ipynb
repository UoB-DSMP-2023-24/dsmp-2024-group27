{
 "cells": [
  {
   "cell_type": "markdown",
   "id": "e1e26c31",
   "metadata": {},
   "source": [
    "## Importing Libraries"
   ]
  },
  {
   "cell_type": "code",
   "execution_count": 1,
   "id": "ed1315df",
   "metadata": {},
   "outputs": [],
   "source": [
    "# Importing necessary libraries\n",
    "import pandas as pd\n",
    "import numpy as np\n",
    "import ast\n",
    "from statistics import mean, median\n",
    "import matplotlib.pyplot as plt"
   ]
  },
  {
   "cell_type": "markdown",
   "id": "bae3487b",
   "metadata": {},
   "source": [
    "## Importing CSV"
   ]
  },
  {
   "cell_type": "code",
   "execution_count": 4,
   "id": "f0fbb389",
   "metadata": {},
   "outputs": [],
   "source": [
    "# Loading csv and setting to \n",
    "user_data = pd.read_csv('../SavedData/Lloyds_users.csv')\n",
    "user_df = pd.DataFrame(user_data)\n",
    "\n",
    "# Changing the lists back to normal columns\n",
    "user_df['user_biz_interaction'] = user_df['user_biz_interaction'].apply(ast.literal_eval)\n",
    "user_df['user_biz_interaction_frequency'] = user_df['user_biz_interaction_frequency'].apply(ast.literal_eval)\n",
    "user_df['user_user_interaction'] = user_df['user_user_interaction'].apply(ast.literal_eval)\n",
    "user_df['user_user_interaction_frequency'] = user_df['user_user_interaction_frequency'].apply(ast.literal_eval)\n",
    "user_df['user_industry_interaction'] = user_df['user_industry_interaction'].apply(ast.literal_eval)\n",
    "user_df['user_industry_interaction_frequency'] = user_df['user_industry_interaction_frequency'].apply(ast.literal_eval)\n",
    "user_df['user_date_transaction'] = user_df['user_date_transaction'].apply(ast.literal_eval)\n",
    "user_df['user_date_transaction_freq'] = user_df['user_date_transaction_freq'].apply(ast.literal_eval)"
   ]
  },
  {
   "cell_type": "markdown",
   "id": "ec2e8825",
   "metadata": {},
   "source": [
    "## Setting the Negative and Positive Items"
   ]
  },
  {
   "cell_type": "code",
   "execution_count": 7,
   "id": "f85d8f55",
   "metadata": {},
   "outputs": [
    {
     "data": {
      "text/plain": [
       "'01/01/2025'"
      ]
     },
     "execution_count": 7,
     "metadata": {},
     "output_type": "execute_result"
    }
   ],
   "source": [
    "negative_biz = [\n",
    "    \"TAKEAWAY\",\n",
    "    \"CHINESE_TAKEAWAY\",\n",
    "    \"TAKEAWAY_CURRY\",\n",
    "    \"LIQUORE_STORE\",\n",
    "    \"WHISKEY_SHOP\",\n",
    "    \"WINE_CELLAR\",\n",
    "    \"WINE_BAR\",\n",
    "    \"WHISKEY_BAR\",\n",
    "    \"PUB\",\n",
    "    \"G&T_BAR\",\n",
    "    \"COCKTAIL_BAR\",\n",
    "    \"LOCAL_WATERING_HOLE\",\n",
    "    \"BAR\",\n",
    "    \"LOCAL_PUB\",\n",
    "    \"KEBAB_SHOP\"\n",
    "]\n",
    "    \n",
    "positive_biz = [\n",
    "    \"FASHIONABLE_SPORTSWARE_SHOP\",\n",
    "    \"TRAINER_SHOP\",\n",
    "    \"SPORT_SHOP\",\n",
    "    \"RUNNING_SHOP\",\n",
    "    \"GREENGROCER\",\n",
    "    \"GYM\"\n",
    "    \n",
    "]"
   ]
  },
  {
   "cell_type": "code",
   "execution_count": 8,
   "id": "62f8d2d5",
   "metadata": {},
   "outputs": [
    {
     "data": {
      "text/plain": [
       "0       [A_CAFE, A_LOCAL_COFFEE_SHOP, A_SUPERMARKET, B...\n",
       "1       [A_CAFE, A_LOCAL_COFFEE_SHOP, A_SUPERMARKET, B...\n",
       "2       [ACCESSORY_SHOP, A_CAFE, A_LOCAL_COFFEE_SHOP, ...\n",
       "3       [A_CAFE, A_LOCAL_COFFEE_SHOP, A_SUPERMARKET, B...\n",
       "4       [A_CAFE, A_LOCAL_COFFEE_SHOP, A_SUPERMARKET, B...\n",
       "                              ...                        \n",
       "8137    [A_CAFE, A_LOCAL_COFFEE_SHOP, A_SUPERMARKET, B...\n",
       "8138    [A_CAFE, A_LOCAL_COFFEE_SHOP, A_SUPERMARKET, B...\n",
       "8139    [A_CAFE, A_LOCAL_COFFEE_SHOP, A_SUPERMARKET, B...\n",
       "8140    [A_CAFE, A_LOCAL_COFFEE_SHOP, A_SUPERMARKET, B...\n",
       "8141    [A_CAFE, A_LOCAL_COFFEE_SHOP, A_SUPERMARKET, B...\n",
       "Name: user_biz_interaction, Length: 8142, dtype: object"
      ]
     },
     "execution_count": 8,
     "metadata": {},
     "output_type": "execute_result"
    }
   ],
   "source": [
    "user_df['user_biz_interaction']"
   ]
  },
  {
   "cell_type": "code",
   "execution_count": null,
   "id": "ca1946a7",
   "metadata": {},
   "outputs": [],
   "source": []
  }
 ],
 "metadata": {
  "kernelspec": {
   "display_name": "Python 3 (ipykernel)",
   "language": "python",
   "name": "python3"
  },
  "language_info": {
   "codemirror_mode": {
    "name": "ipython",
    "version": 3
   },
   "file_extension": ".py",
   "mimetype": "text/x-python",
   "name": "python",
   "nbconvert_exporter": "python",
   "pygments_lexer": "ipython3",
   "version": "3.9.13"
  }
 },
 "nbformat": 4,
 "nbformat_minor": 5
}
