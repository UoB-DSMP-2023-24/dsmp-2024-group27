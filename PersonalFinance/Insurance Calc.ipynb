{
 "cells": [
  {
   "cell_type": "markdown",
   "id": "e1e26c31",
   "metadata": {},
   "source": [
    "## Importing Libraries"
   ]
  },
  {
   "cell_type": "code",
   "execution_count": 88,
   "id": "ed1315df",
   "metadata": {},
   "outputs": [],
   "source": [
    "# Importing necessary libraries\n",
    "import pandas as pd\n",
    "import numpy as np\n",
    "import ast\n",
    "from statistics import mean, median\n",
    "import matplotlib.pyplot as plt"
   ]
  },
  {
   "cell_type": "markdown",
   "id": "bae3487b",
   "metadata": {},
   "source": [
    "## Importing CSV"
   ]
  },
  {
   "cell_type": "code",
   "execution_count": 89,
   "id": "f0fbb389",
   "metadata": {},
   "outputs": [],
   "source": [
    "# Loading csv and setting to \n",
    "user_data = pd.read_csv('../SavedData/Lloyds_users.csv')\n",
    "user_df = pd.DataFrame(user_data)\n",
    "\n",
    "# Changing the lists back to normal columns\n",
    "user_df['user_biz_interaction'] = user_df['user_biz_interaction'].apply(ast.literal_eval)\n",
    "user_df['user_biz_interaction_frequency'] = user_df['user_biz_interaction_frequency'].apply(ast.literal_eval)\n",
    "user_df['user_biz_spend'] = user_df['user_biz_spend'].apply(ast.literal_eval)\n",
    "user_df['user_user_interaction'] = user_df['user_user_interaction'].apply(ast.literal_eval)\n",
    "user_df['user_user_interaction_frequency'] = user_df['user_user_interaction_frequency'].apply(ast.literal_eval)\n",
    "user_df['user_user_spend'] = user_df['user_user_spend'].apply(ast.literal_eval)\n",
    "user_df['user_industry_interaction'] = user_df['user_industry_interaction'].apply(ast.literal_eval)\n",
    "user_df['user_industry_interaction_frequency'] = user_df['user_industry_interaction_frequency'].apply(ast.literal_eval)\n",
    "user_df['user_industry_spend'] = user_df['user_industry_spend'].apply(ast.literal_eval)\n",
    "user_df['user_date_transaction'] = user_df['user_date_transaction'].apply(ast.literal_eval)\n",
    "user_df['user_date_transaction_freq'] = user_df['user_date_transaction_freq'].apply(ast.literal_eval)"
   ]
  },
  {
   "cell_type": "markdown",
   "id": "ec2e8825",
   "metadata": {},
   "source": [
    "## Setting the Negative and Positive Items"
   ]
  },
  {
   "cell_type": "code",
   "execution_count": 99,
   "id": "f85d8f55",
   "metadata": {},
   "outputs": [],
   "source": [
    "positive_biz_list = [\n",
    "    \"FASHIONABLE_SPORTSWARE_SHOP\",\n",
    "    \"TRAINER_SHOP\",\n",
    "    \"SPORT_SHOP\",\n",
    "    \"RUNNING_SHOP\",\n",
    "    \"GREENGROCER\",\n",
    "    \"GYM\"\n",
    "    \n",
    "]\n",
    "\n",
    "negative_biz_list = [\n",
    "    \"TAKEAWAY\",\n",
    "    \"CHINESE_TAKEAWAY\",\n",
    "    \"TAKEAWAY_CURRY\",\n",
    "    \"LIQUORE_STORE\",\n",
    "    \"WHISKEY_SHOP\",\n",
    "    \"WINE_CELLAR\",\n",
    "    \"WINE_BAR\",\n",
    "    \"WHISKEY_BAR\",\n",
    "    \"PUB\",\n",
    "    \"G&T_BAR\",\n",
    "    \"COCKTAIL_BAR\",\n",
    "    \"LOCAL_WATERING_HOLE\",\n",
    "    \"BAR\",\n",
    "    \"LOCAL_PUB\",\n",
    "    \"KEBAB_SHOP\"\n",
    "]"
   ]
  },
  {
   "cell_type": "markdown",
   "id": "e5789fa1",
   "metadata": {},
   "source": [
    "## Building Insurance Dataframe"
   ]
  },
  {
   "cell_type": "markdown",
   "id": "aa9f5254",
   "metadata": {},
   "source": [
    "### Calculating Positive Spend List"
   ]
  },
  {
   "cell_type": "code",
   "execution_count": 100,
   "id": "b7afe509",
   "metadata": {},
   "outputs": [],
   "source": [
    "positive_biz_spend_list = []\n",
    "\n",
    "for user_index in range(0, len(user_df)):\n",
    "    positive_biz_spend = 0\n",
    "    \n",
    "    for biz in positive_biz_list:\n",
    "        interaction_list = user_df['user_biz_interaction'].iloc[user_index]\n",
    "        interaction_spend_list = user_df['user_biz_spend'].iloc[user_index]\n",
    "\n",
    "        try: \n",
    "            positive_biz_pos = interaction_list.index(biz)\n",
    "            positive_biz_spend += float(interaction_spend_list[positive_biz_pos])\n",
    "\n",
    "        except:\n",
    "            positive_biz_spend += 0\n",
    "        \n",
    "    positive_biz_spend_list.append(positive_biz_spend)\n",
    "    \n",
    "#print(positive_biz_spend_list)"
   ]
  },
  {
   "cell_type": "markdown",
   "id": "7ebb4798",
   "metadata": {},
   "source": [
    "### Calculating Negative Spend List"
   ]
  },
  {
   "cell_type": "code",
   "execution_count": 101,
   "id": "1dd12cb4",
   "metadata": {},
   "outputs": [],
   "source": [
    "negative_biz_spend_list = []\n",
    "\n",
    "for user_index in range(0, len(user_df)):\n",
    "    negative_biz_spend = 0\n",
    "    \n",
    "    for biz in negative_biz_list:\n",
    "        interaction_list = user_df['user_biz_interaction'].iloc[user_index]\n",
    "        interaction_spend_list = user_df['user_biz_spend'].iloc[user_index]\n",
    "\n",
    "        try: \n",
    "            negative_biz_pos = interaction_list.index(negative_biz)\n",
    "            negative_biz_spend += float(interaction_spend_list[negative_biz_pos])\n",
    "\n",
    "        except:\n",
    "            negative_biz_spend += 0\n",
    "        \n",
    "    negative_biz_spend_list.append(negative_biz_spend)\n",
    "    \n",
    "#print(negative_biz_spend_list)"
   ]
  },
  {
   "cell_type": "markdown",
   "id": "301a0a0c",
   "metadata": {},
   "source": [
    "### Calculating Net Spending List"
   ]
  },
  {
   "cell_type": "code",
   "execution_count": 102,
   "id": "e60b2ddf",
   "metadata": {},
   "outputs": [],
   "source": [
    "net_pos_neg_spending = [a - b for a, b in zip(positive_biz_spend_list, negative_biz_spend_list)]\n",
    "\n",
    "#print(net_pos_neg_spending)"
   ]
  },
  {
   "cell_type": "markdown",
   "id": "c1aec427",
   "metadata": {},
   "source": [
    "### Creating the Insurance Dataframe"
   ]
  },
  {
   "cell_type": "code",
   "execution_count": 103,
   "id": "a67d8982",
   "metadata": {},
   "outputs": [],
   "source": [
    "insurance_df = pd.DataFrame({\n",
    "    'user_id': list(user_df['user_id']),\n",
    "    'positive_spend': positive_biz_spend_list,\n",
    "    'negative_spend': negative_biz_spend_list,\n",
    "    'net_spend': net_pos_neg_spending\n",
    "})"
   ]
  },
  {
   "cell_type": "code",
   "execution_count": 104,
   "id": "9eeff787",
   "metadata": {},
   "outputs": [],
   "source": [
    "# Sorting the DataFrame by the 'Age' column in ascending order\n",
    "insurance_df = insurance_df.sort_values(by='net_spend', ascending=True)"
   ]
  },
  {
   "cell_type": "code",
   "execution_count": 96,
   "id": "5f63c2fa",
   "metadata": {},
   "outputs": [
    {
     "data": {
      "text/html": [
       "<div>\n",
       "<style scoped>\n",
       "    .dataframe tbody tr th:only-of-type {\n",
       "        vertical-align: middle;\n",
       "    }\n",
       "\n",
       "    .dataframe tbody tr th {\n",
       "        vertical-align: top;\n",
       "    }\n",
       "\n",
       "    .dataframe thead th {\n",
       "        text-align: right;\n",
       "    }\n",
       "</style>\n",
       "<table border=\"1\" class=\"dataframe\">\n",
       "  <thead>\n",
       "    <tr style=\"text-align: right;\">\n",
       "      <th></th>\n",
       "      <th>user_id</th>\n",
       "      <th>positive_spend</th>\n",
       "      <th>negative_spend</th>\n",
       "      <th>net_spend</th>\n",
       "    </tr>\n",
       "  </thead>\n",
       "  <tbody>\n",
       "    <tr>\n",
       "      <th>0</th>\n",
       "      <td>1000</td>\n",
       "      <td>0.00</td>\n",
       "      <td>4172.25</td>\n",
       "      <td>-4172.25</td>\n",
       "    </tr>\n",
       "    <tr>\n",
       "      <th>1</th>\n",
       "      <td>10000</td>\n",
       "      <td>1710.25</td>\n",
       "      <td>204.75</td>\n",
       "      <td>1505.50</td>\n",
       "    </tr>\n",
       "    <tr>\n",
       "      <th>2</th>\n",
       "      <td>100000</td>\n",
       "      <td>0.00</td>\n",
       "      <td>3843.00</td>\n",
       "      <td>-3843.00</td>\n",
       "    </tr>\n",
       "    <tr>\n",
       "      <th>3</th>\n",
       "      <td>100002</td>\n",
       "      <td>0.00</td>\n",
       "      <td>1700.25</td>\n",
       "      <td>-1700.25</td>\n",
       "    </tr>\n",
       "    <tr>\n",
       "      <th>4</th>\n",
       "      <td>100019</td>\n",
       "      <td>0.00</td>\n",
       "      <td>1784.25</td>\n",
       "      <td>-1784.25</td>\n",
       "    </tr>\n",
       "    <tr>\n",
       "      <th>...</th>\n",
       "      <td>...</td>\n",
       "      <td>...</td>\n",
       "      <td>...</td>\n",
       "      <td>...</td>\n",
       "    </tr>\n",
       "    <tr>\n",
       "      <th>8137</th>\n",
       "      <td>99939</td>\n",
       "      <td>1251.67</td>\n",
       "      <td>2051.25</td>\n",
       "      <td>-799.58</td>\n",
       "    </tr>\n",
       "    <tr>\n",
       "      <th>8138</th>\n",
       "      <td>99949</td>\n",
       "      <td>108.00</td>\n",
       "      <td>2169.75</td>\n",
       "      <td>-2061.75</td>\n",
       "    </tr>\n",
       "    <tr>\n",
       "      <th>8139</th>\n",
       "      <td>99952</td>\n",
       "      <td>0.00</td>\n",
       "      <td>1784.25</td>\n",
       "      <td>-1784.25</td>\n",
       "    </tr>\n",
       "    <tr>\n",
       "      <th>8140</th>\n",
       "      <td>99988</td>\n",
       "      <td>1343.03</td>\n",
       "      <td>2069.25</td>\n",
       "      <td>-726.22</td>\n",
       "    </tr>\n",
       "    <tr>\n",
       "      <th>8141</th>\n",
       "      <td>99998</td>\n",
       "      <td>162.00</td>\n",
       "      <td>1323.00</td>\n",
       "      <td>-1161.00</td>\n",
       "    </tr>\n",
       "  </tbody>\n",
       "</table>\n",
       "<p>8142 rows × 4 columns</p>\n",
       "</div>"
      ],
      "text/plain": [
       "      user_id  positive_spend  negative_spend  net_spend\n",
       "0        1000            0.00         4172.25   -4172.25\n",
       "1       10000         1710.25          204.75    1505.50\n",
       "2      100000            0.00         3843.00   -3843.00\n",
       "3      100002            0.00         1700.25   -1700.25\n",
       "4      100019            0.00         1784.25   -1784.25\n",
       "...       ...             ...             ...        ...\n",
       "8137    99939         1251.67         2051.25    -799.58\n",
       "8138    99949          108.00         2169.75   -2061.75\n",
       "8139    99952            0.00         1784.25   -1784.25\n",
       "8140    99988         1343.03         2069.25    -726.22\n",
       "8141    99998          162.00         1323.00   -1161.00\n",
       "\n",
       "[8142 rows x 4 columns]"
      ]
     },
     "execution_count": 96,
     "metadata": {},
     "output_type": "execute_result"
    }
   ],
   "source": [
    "insurance_df"
   ]
  },
  {
   "cell_type": "code",
   "execution_count": null,
   "id": "c735bc7f",
   "metadata": {},
   "outputs": [],
   "source": []
  }
 ],
 "metadata": {
  "kernelspec": {
   "display_name": "Python 3 (ipykernel)",
   "language": "python",
   "name": "python3"
  },
  "language_info": {
   "codemirror_mode": {
    "name": "ipython",
    "version": 3
   },
   "file_extension": ".py",
   "mimetype": "text/x-python",
   "name": "python",
   "nbconvert_exporter": "python",
   "pygments_lexer": "ipython3",
   "version": "3.9.13"
  }
 },
 "nbformat": 4,
 "nbformat_minor": 5
}
